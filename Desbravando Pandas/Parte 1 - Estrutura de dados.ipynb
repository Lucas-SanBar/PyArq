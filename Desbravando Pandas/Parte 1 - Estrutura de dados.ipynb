{
 "cells": [
  {
   "cell_type": "markdown",
   "id": "8f0df400-57e3-4321-b98c-a7587f7b7c0e",
   "metadata": {},
   "source": [
    "### Pacotes utilizados"
   ]
  },
  {
   "cell_type": "code",
   "execution_count": 1,
   "id": "a05eebbc-8cec-4bb0-8eca-432e75ed5128",
   "metadata": {},
   "outputs": [],
   "source": [
    "import pandas as pd"
   ]
  },
  {
   "cell_type": "markdown",
   "id": "38d4a04f-bfb8-44c9-affb-655a2c4cb673",
   "metadata": {},
   "source": [
    "# Manipulação de Dados"
   ]
  },
  {
   "cell_type": "markdown",
   "id": "f56db662-707d-4a72-be66-fb582b29b0a2",
   "metadata": {},
   "source": [
    "## 1. Manipulação básica\n",
    "---\n",
    "**Dataset Utilizado:** Reclamações no site Consumidor.gov, download em https://dados.mj.gov.br/dataset/reclamacoes-do-consumidor-gov-br\n",
    "O dataset em questão contém as reclamações mensais dos consumidores a alguma empresa que atua no brasil."
   ]
  },
  {
   "cell_type": "markdown",
   "id": "08c71540-9c2b-4e45-8376-183a7a1d49f8",
   "metadata": {},
   "source": [
    "A base contém informações como ['Gestor', 'Canal de Origem', 'Região', 'UF', 'Cidade', 'Sexo', 'Faixa Etária', 'Data Abertura', 'Nome Fantasia', 'Assunto', 'Nota do Consumir']"
   ]
  },
  {
   "cell_type": "markdown",
   "id": "3a44608a-fbf1-4032-b238-1f3cd304d3a4",
   "metadata": {},
   "source": [
    "---\n",
    "### 1.1 Importando a base de dados\n",
    "Para carregar um arquivo no formato csv, basta utilizar a função ```read_csv()```"
   ]
  },
  {
   "cell_type": "code",
   "execution_count": 2,
   "id": "3cd50434-1422-4ba4-b9c1-85026e339193",
   "metadata": {},
   "outputs": [],
   "source": [
    "df_data = pd.read_csv('./Base de dados/ConsumidorGov.csv',sep = ';')"
   ]
  },
  {
   "cell_type": "markdown",
   "id": "7e2ae7e4-c7a9-45e9-9fdb-3a82f8334bcc",
   "metadata": {},
   "source": [
    "#### 1.1.1 Exibindo linhas do Data Frame"
   ]
  },
  {
   "cell_type": "markdown",
   "id": "94f3549d-e5df-4570-90ac-201402d72b1f",
   "metadata": {},
   "source": [
    "Para mostrar o dado carregado, basta executar a variavel criada contendo o Data Frame ```df_data```. No meu caso buscarei apenas as 5 primeiras linhas do df da seguinte forma:"
   ]
  },
  {
   "cell_type": "code",
   "execution_count": 3,
   "id": "06c8829c-50e5-4e4d-8497-45abc411ba3d",
   "metadata": {},
   "outputs": [
    {
     "data": {
      "text/html": [
       "<div>\n",
       "<style scoped>\n",
       "    .dataframe tbody tr th:only-of-type {\n",
       "        vertical-align: middle;\n",
       "    }\n",
       "\n",
       "    .dataframe tbody tr th {\n",
       "        vertical-align: top;\n",
       "    }\n",
       "\n",
       "    .dataframe thead th {\n",
       "        text-align: right;\n",
       "    }\n",
       "</style>\n",
       "<table border=\"1\" class=\"dataframe\">\n",
       "  <thead>\n",
       "    <tr style=\"text-align: right;\">\n",
       "      <th></th>\n",
       "      <th>Gestor</th>\n",
       "      <th>Canal de Origem</th>\n",
       "      <th>Região</th>\n",
       "      <th>UF</th>\n",
       "      <th>Cidade</th>\n",
       "      <th>Sexo</th>\n",
       "      <th>Faixa Etária</th>\n",
       "      <th>Ano Abertura</th>\n",
       "      <th>Mês Abertura</th>\n",
       "      <th>Data Abertura</th>\n",
       "      <th>...</th>\n",
       "      <th>Assunto</th>\n",
       "      <th>Grupo Problema</th>\n",
       "      <th>Problema</th>\n",
       "      <th>Como Comprou Contratou</th>\n",
       "      <th>Procurou Empresa</th>\n",
       "      <th>Respondida</th>\n",
       "      <th>Situação</th>\n",
       "      <th>Avaliação Reclamação</th>\n",
       "      <th>Nota do Consumidor</th>\n",
       "      <th>Análise da Recusa</th>\n",
       "    </tr>\n",
       "  </thead>\n",
       "  <tbody>\n",
       "    <tr>\n",
       "      <th>0</th>\n",
       "      <td>Secretaria Nacional do Consumidor</td>\n",
       "      <td>Plataforma Web</td>\n",
       "      <td>NE</td>\n",
       "      <td>AL</td>\n",
       "      <td>Maceió</td>\n",
       "      <td>F</td>\n",
       "      <td>entre 61 a 70 anos</td>\n",
       "      <td>2024</td>\n",
       "      <td>10</td>\n",
       "      <td>01/10/2024</td>\n",
       "      <td>...</td>\n",
       "      <td>Atendimento Bancário</td>\n",
       "      <td>Atendimento / SAC</td>\n",
       "      <td>Descumprimento do estatuto do idoso</td>\n",
       "      <td>Telefone</td>\n",
       "      <td>S</td>\n",
       "      <td>S</td>\n",
       "      <td>Finalizada avaliada</td>\n",
       "      <td>Resolvida</td>\n",
       "      <td>5.0</td>\n",
       "      <td>NaN</td>\n",
       "    </tr>\n",
       "    <tr>\n",
       "      <th>1</th>\n",
       "      <td>Secretaria Nacional do Consumidor</td>\n",
       "      <td>Plataforma Web</td>\n",
       "      <td>NE</td>\n",
       "      <td>AL</td>\n",
       "      <td>Maceió</td>\n",
       "      <td>F</td>\n",
       "      <td>entre 61 a 70 anos</td>\n",
       "      <td>2024</td>\n",
       "      <td>10</td>\n",
       "      <td>01/10/2024</td>\n",
       "      <td>...</td>\n",
       "      <td>Atendimento Bancário</td>\n",
       "      <td>Atendimento / SAC</td>\n",
       "      <td>Descumprimento do estatuto do idoso</td>\n",
       "      <td>Telefone</td>\n",
       "      <td>S</td>\n",
       "      <td>S</td>\n",
       "      <td>Finalizada avaliada</td>\n",
       "      <td>Resolvida</td>\n",
       "      <td>5.0</td>\n",
       "      <td>NaN</td>\n",
       "    </tr>\n",
       "    <tr>\n",
       "      <th>2</th>\n",
       "      <td>Secretaria de Justiça e Direitos Humanos - Sec...</td>\n",
       "      <td>Plataforma Web</td>\n",
       "      <td>NE</td>\n",
       "      <td>PE</td>\n",
       "      <td>Olinda</td>\n",
       "      <td>F</td>\n",
       "      <td>entre 41 a 50 anos</td>\n",
       "      <td>2024</td>\n",
       "      <td>10</td>\n",
       "      <td>01/10/2024</td>\n",
       "      <td>...</td>\n",
       "      <td>Aplicativo de mobilidade urbana</td>\n",
       "      <td>Cobrança / Contestação</td>\n",
       "      <td>Cobrança por serviço não fornecido/ em desacor...</td>\n",
       "      <td>Internet</td>\n",
       "      <td>S</td>\n",
       "      <td>S</td>\n",
       "      <td>Finalizada avaliada</td>\n",
       "      <td>Não Resolvida</td>\n",
       "      <td>1.0</td>\n",
       "      <td>NaN</td>\n",
       "    </tr>\n",
       "    <tr>\n",
       "      <th>3</th>\n",
       "      <td>Superintendência de Proteção e Defesa do Consu...</td>\n",
       "      <td>Plataforma Web</td>\n",
       "      <td>NE</td>\n",
       "      <td>BA</td>\n",
       "      <td>Salvador</td>\n",
       "      <td>M</td>\n",
       "      <td>entre 21 a 30 anos</td>\n",
       "      <td>2024</td>\n",
       "      <td>10</td>\n",
       "      <td>01/10/2024</td>\n",
       "      <td>...</td>\n",
       "      <td>Cartão de Crédito / Cartão de Débito / Cartão ...</td>\n",
       "      <td>Informação</td>\n",
       "      <td>Informações incompletas / inadequadas sobre o ...</td>\n",
       "      <td>Internet</td>\n",
       "      <td>S</td>\n",
       "      <td>S</td>\n",
       "      <td>Finalizada avaliada</td>\n",
       "      <td>Resolvida</td>\n",
       "      <td>5.0</td>\n",
       "      <td>NaN</td>\n",
       "    </tr>\n",
       "    <tr>\n",
       "      <th>4</th>\n",
       "      <td>Fundação de Proteção e Defesa do Consumidor</td>\n",
       "      <td>Plataforma Web</td>\n",
       "      <td>SE</td>\n",
       "      <td>SP</td>\n",
       "      <td>Guarujá</td>\n",
       "      <td>M</td>\n",
       "      <td>entre 51 a 60 anos</td>\n",
       "      <td>2024</td>\n",
       "      <td>10</td>\n",
       "      <td>01/10/2024</td>\n",
       "      <td>...</td>\n",
       "      <td>Água e Esgoto</td>\n",
       "      <td>Atendimento / SAC</td>\n",
       "      <td>Má qualidade no atendimento (descortesia / des...</td>\n",
       "      <td>Loja física</td>\n",
       "      <td>S</td>\n",
       "      <td>S</td>\n",
       "      <td>Finalizada avaliada</td>\n",
       "      <td>Resolvida</td>\n",
       "      <td>3.0</td>\n",
       "      <td>NaN</td>\n",
       "    </tr>\n",
       "  </tbody>\n",
       "</table>\n",
       "<p>5 rows × 30 columns</p>\n",
       "</div>"
      ],
      "text/plain": [
       "                                              Gestor Canal de Origem Região  \\\n",
       "0                  Secretaria Nacional do Consumidor  Plataforma Web     NE   \n",
       "1                  Secretaria Nacional do Consumidor  Plataforma Web     NE   \n",
       "2  Secretaria de Justiça e Direitos Humanos - Sec...  Plataforma Web     NE   \n",
       "3  Superintendência de Proteção e Defesa do Consu...  Plataforma Web     NE   \n",
       "4        Fundação de Proteção e Defesa do Consumidor  Plataforma Web     SE   \n",
       "\n",
       "   UF    Cidade Sexo        Faixa Etária  Ano Abertura  Mês Abertura  \\\n",
       "0  AL    Maceió    F  entre 61 a 70 anos          2024            10   \n",
       "1  AL    Maceió    F  entre 61 a 70 anos          2024            10   \n",
       "2  PE    Olinda    F  entre 41 a 50 anos          2024            10   \n",
       "3  BA  Salvador    M  entre 21 a 30 anos          2024            10   \n",
       "4  SP   Guarujá    M  entre 51 a 60 anos          2024            10   \n",
       "\n",
       "  Data Abertura  ...                                            Assunto  \\\n",
       "0    01/10/2024  ...                               Atendimento Bancário   \n",
       "1    01/10/2024  ...                               Atendimento Bancário   \n",
       "2    01/10/2024  ...                    Aplicativo de mobilidade urbana   \n",
       "3    01/10/2024  ...  Cartão de Crédito / Cartão de Débito / Cartão ...   \n",
       "4    01/10/2024  ...                                      Água e Esgoto   \n",
       "\n",
       "           Grupo Problema                                           Problema  \\\n",
       "0       Atendimento / SAC                Descumprimento do estatuto do idoso   \n",
       "1       Atendimento / SAC                Descumprimento do estatuto do idoso   \n",
       "2  Cobrança / Contestação  Cobrança por serviço não fornecido/ em desacor...   \n",
       "3              Informação  Informações incompletas / inadequadas sobre o ...   \n",
       "4       Atendimento / SAC  Má qualidade no atendimento (descortesia / des...   \n",
       "\n",
       "  Como Comprou Contratou Procurou Empresa  Respondida             Situação  \\\n",
       "0               Telefone                S           S  Finalizada avaliada   \n",
       "1               Telefone                S           S  Finalizada avaliada   \n",
       "2               Internet                S           S  Finalizada avaliada   \n",
       "3               Internet                S           S  Finalizada avaliada   \n",
       "4            Loja física                S           S  Finalizada avaliada   \n",
       "\n",
       "  Avaliação Reclamação Nota do Consumidor Análise da Recusa  \n",
       "0            Resolvida                5.0               NaN  \n",
       "1            Resolvida                5.0               NaN  \n",
       "2        Não Resolvida                1.0               NaN  \n",
       "3            Resolvida                5.0               NaN  \n",
       "4            Resolvida                3.0               NaN  \n",
       "\n",
       "[5 rows x 30 columns]"
      ]
     },
     "execution_count": 3,
     "metadata": {},
     "output_type": "execute_result"
    }
   ],
   "source": [
    "df_data.head(5)"
   ]
  },
  {
   "cell_type": "markdown",
   "id": "2f159dcc-280e-4c1c-9eaf-7e06d2cd8273",
   "metadata": {},
   "source": [
    "#### 1.1.2 Exibindo informações sobre o Data Frame"
   ]
  },
  {
   "cell_type": "code",
   "execution_count": 4,
   "id": "77ccad7f-371b-41f9-a3a2-9cfd8259a7f1",
   "metadata": {},
   "outputs": [
    {
     "name": "stdout",
     "output_type": "stream",
     "text": [
      "<class 'pandas.core.frame.DataFrame'>\n",
      "RangeIndex: 105018 entries, 0 to 105017\n",
      "Data columns (total 30 columns):\n",
      " #   Column                  Non-Null Count   Dtype  \n",
      "---  ------                  --------------   -----  \n",
      " 0   Gestor                  105018 non-null  object \n",
      " 1   Canal de Origem         105018 non-null  object \n",
      " 2   Região                  105018 non-null  object \n",
      " 3   UF                      105018 non-null  object \n",
      " 4   Cidade                  105018 non-null  object \n",
      " 5   Sexo                    105016 non-null  object \n",
      " 6   Faixa Etária            105018 non-null  object \n",
      " 7   Ano Abertura            105018 non-null  int64  \n",
      " 8   Mês Abertura            105018 non-null  int64  \n",
      " 9   Data Abertura           105018 non-null  object \n",
      " 10  Data Resposta           88536 non-null   object \n",
      " 11  Data Análise            15265 non-null   object \n",
      " 12  Data Recusa             16481 non-null   object \n",
      " 13  Data Finalização        105018 non-null  object \n",
      " 14  Prazo Resposta          105018 non-null  object \n",
      " 15  Prazo Analise Gestor    15253 non-null   float64\n",
      " 16  Tempo Resposta          88536 non-null   float64\n",
      " 17  Nome Fantasia           105018 non-null  object \n",
      " 18  Segmento de Mercado     105018 non-null  object \n",
      " 19  Área                    105018 non-null  object \n",
      " 20  Assunto                 105018 non-null  object \n",
      " 21  Grupo Problema          105018 non-null  object \n",
      " 22  Problema                105018 non-null  object \n",
      " 23  Como Comprou Contratou  105018 non-null  object \n",
      " 24  Procurou Empresa        105018 non-null  object \n",
      " 25  Respondida              105018 non-null  object \n",
      " 26  Situação                105018 non-null  object \n",
      " 27  Avaliação Reclamação    91358 non-null   object \n",
      " 28  Nota do Consumidor      46201 non-null   float64\n",
      " 29  Análise da Recusa       16480 non-null   object \n",
      "dtypes: float64(3), int64(2), object(25)\n",
      "memory usage: 24.0+ MB\n"
     ]
    }
   ],
   "source": [
    "df_data.info()"
   ]
  },
  {
   "cell_type": "markdown",
   "id": "967092e0-b8c1-402a-8afd-7937a68be49a",
   "metadata": {},
   "source": [
    "O Atributo `columns` retorna uma lista com todas as colunas do Data Frame"
   ]
  },
  {
   "cell_type": "code",
   "execution_count": 5,
   "id": "f84c5796-65b3-4039-8d54-7e512c16808a",
   "metadata": {},
   "outputs": [
    {
     "data": {
      "text/plain": [
       "Index(['Gestor', 'Canal de Origem', 'Região', 'UF', 'Cidade', 'Sexo',\n",
       "       'Faixa Etária', 'Ano Abertura', 'Mês Abertura', 'Data Abertura',\n",
       "       'Data Resposta', 'Data Análise', 'Data Recusa', 'Data Finalização',\n",
       "       'Prazo Resposta', 'Prazo Analise Gestor', 'Tempo Resposta',\n",
       "       'Nome Fantasia', 'Segmento de Mercado', 'Área', 'Assunto',\n",
       "       'Grupo Problema', 'Problema', 'Como Comprou Contratou',\n",
       "       'Procurou Empresa', 'Respondida', 'Situação', 'Avaliação Reclamação',\n",
       "       'Nota do Consumidor', 'Análise da Recusa'],\n",
       "      dtype='object')"
      ]
     },
     "execution_count": 5,
     "metadata": {},
     "output_type": "execute_result"
    }
   ],
   "source": [
    "df_data.columns"
   ]
  },
  {
   "cell_type": "markdown",
   "id": "62d40dab-e062-49b8-8042-d29e08ed522b",
   "metadata": {},
   "source": [
    "---\n",
    "### 1.2 Criando um Data Frame (df)\n",
    "O que é um **Data Frame**? Um data frame é uma estrutura de dados utilizada em linguagens de programação como R e Python para armazenar e manipular dados tabulares, bidimensionais, ou seja, organizados em linhas e colunas."
   ]
  },
  {
   "cell_type": "markdown",
   "id": "bcb52dd1-19ce-4a04-b952-98277b558a41",
   "metadata": {},
   "source": [
    "O dataset carregado na variável ```df_data``` é do tipo Data Frame e isso pode ser confirmado pela função `type()`:"
   ]
  },
  {
   "cell_type": "code",
   "execution_count": 6,
   "id": "df69b122-63d2-4784-886d-d134001f207f",
   "metadata": {},
   "outputs": [
    {
     "data": {
      "text/plain": [
       "pandas.core.frame.DataFrame"
      ]
     },
     "execution_count": 6,
     "metadata": {},
     "output_type": "execute_result"
    }
   ],
   "source": [
    "type(df_data)"
   ]
  },
  {
   "cell_type": "markdown",
   "id": "db535ffc-0397-421e-bb7b-3434138f35c3",
   "metadata": {},
   "source": [
    "Para acessar as dimensões do Data Frame (Número de linhas x Número de colunas) utilizamos o atributo `shape` do Data Frame."
   ]
  },
  {
   "cell_type": "code",
   "execution_count": 7,
   "id": "803b0d20-db6b-46f3-afb4-a2477cd1d3b4",
   "metadata": {},
   "outputs": [
    {
     "data": {
      "text/plain": [
       "(105018, 30)"
      ]
     },
     "execution_count": 7,
     "metadata": {},
     "output_type": "execute_result"
    }
   ],
   "source": [
    "df_data.shape"
   ]
  },
  {
   "cell_type": "code",
   "execution_count": 8,
   "id": "1b2a4f1c-4be9-4c2e-9138-9dd2ec797b1a",
   "metadata": {},
   "outputs": [
    {
     "name": "stdout",
     "output_type": "stream",
     "text": [
      "O Data Frame possui 105018 linhas/observações/registros e 30 colunas/atributos\n"
     ]
    }
   ],
   "source": [
    "print(f'O Data Frame possui {df_data.shape[0]} linhas/observações/registros e {df_data.shape[1]} colunas/atributos')"
   ]
  },
  {
   "cell_type": "markdown",
   "id": "f822c789-040c-41e9-9644-20a80c4837e9",
   "metadata": {},
   "source": [
    "#### 1.2.1 Criando um Data Frame a partir de um dicionário\n",
    "Podemos criar um Data Frame utilizando um dicionário, dessa forma, cada chave possuirá uma lista de elementos de igual tamanho."
   ]
  },
  {
   "cell_type": "code",
   "execution_count": 9,
   "id": "bf98a7aa-b88e-48f3-8587-a2acbef7d1df",
   "metadata": {},
   "outputs": [],
   "source": [
    "alunos_df = pd.DataFrame({\n",
    "    'nome' : ['Lucas', 'Andressa', 'Bruno'],\n",
    "    'idade' : [30,28,35],\n",
    "    'peso' : [72,58,120]\n",
    "})"
   ]
  },
  {
   "cell_type": "code",
   "execution_count": 10,
   "id": "aecaabf8-8779-4f62-860b-c0918e5259ef",
   "metadata": {},
   "outputs": [
    {
     "name": "stdout",
     "output_type": "stream",
     "text": [
      "O Data Frame alunos_df possui 3 linhas/observações/registros e 3 colunas/atributos\n"
     ]
    }
   ],
   "source": [
    "print(f'O Data Frame alunos_df possui {alunos_df.shape[0]} linhas/observações/registros e {alunos_df.shape[1]} colunas/atributos')"
   ]
  },
  {
   "cell_type": "code",
   "execution_count": 11,
   "id": "28a9ef3d-3ab6-414f-8ec0-62348a867a62",
   "metadata": {},
   "outputs": [
    {
     "data": {
      "text/html": [
       "<div>\n",
       "<style scoped>\n",
       "    .dataframe tbody tr th:only-of-type {\n",
       "        vertical-align: middle;\n",
       "    }\n",
       "\n",
       "    .dataframe tbody tr th {\n",
       "        vertical-align: top;\n",
       "    }\n",
       "\n",
       "    .dataframe thead th {\n",
       "        text-align: right;\n",
       "    }\n",
       "</style>\n",
       "<table border=\"1\" class=\"dataframe\">\n",
       "  <thead>\n",
       "    <tr style=\"text-align: right;\">\n",
       "      <th></th>\n",
       "      <th>nome</th>\n",
       "      <th>idade</th>\n",
       "      <th>peso</th>\n",
       "    </tr>\n",
       "  </thead>\n",
       "  <tbody>\n",
       "    <tr>\n",
       "      <th>0</th>\n",
       "      <td>Lucas</td>\n",
       "      <td>30</td>\n",
       "      <td>72</td>\n",
       "    </tr>\n",
       "    <tr>\n",
       "      <th>1</th>\n",
       "      <td>Andressa</td>\n",
       "      <td>28</td>\n",
       "      <td>58</td>\n",
       "    </tr>\n",
       "    <tr>\n",
       "      <th>2</th>\n",
       "      <td>Bruno</td>\n",
       "      <td>35</td>\n",
       "      <td>120</td>\n",
       "    </tr>\n",
       "  </tbody>\n",
       "</table>\n",
       "</div>"
      ],
      "text/plain": [
       "       nome  idade  peso\n",
       "0     Lucas     30    72\n",
       "1  Andressa     28    58\n",
       "2     Bruno     35   120"
      ]
     },
     "execution_count": 11,
     "metadata": {},
     "output_type": "execute_result"
    }
   ],
   "source": [
    "alunos_df"
   ]
  },
  {
   "cell_type": "markdown",
   "id": "8117811e-b852-4a05-9eb7-a06b75a7696e",
   "metadata": {},
   "source": [
    "Para renomear colunas do Data Frame, utilize o método `DataFrame.Rename`, que retorna uma cópia do Data Frame com as colunas alteradas"
   ]
  },
  {
   "cell_type": "code",
   "execution_count": 12,
   "id": "2b3650ac-0e05-4c81-b84e-3e4307c155f1",
   "metadata": {},
   "outputs": [],
   "source": [
    "alunos_df_renomeado = alunos_df.rename(columns={\n",
    "    'nome' : 'primeiro nome', #Renomeando a coluna 'nome' para 'primeiro nome'\n",
    "    'peso' : 'peso (kg)' #Renomeando a coluna 'peso' para 'peso (kg)'\n",
    "})"
   ]
  },
  {
   "cell_type": "code",
   "execution_count": 13,
   "id": "c91e843a-7028-4418-9087-4e3dfba429e4",
   "metadata": {},
   "outputs": [
    {
     "data": {
      "text/html": [
       "<div>\n",
       "<style scoped>\n",
       "    .dataframe tbody tr th:only-of-type {\n",
       "        vertical-align: middle;\n",
       "    }\n",
       "\n",
       "    .dataframe tbody tr th {\n",
       "        vertical-align: top;\n",
       "    }\n",
       "\n",
       "    .dataframe thead th {\n",
       "        text-align: right;\n",
       "    }\n",
       "</style>\n",
       "<table border=\"1\" class=\"dataframe\">\n",
       "  <thead>\n",
       "    <tr style=\"text-align: right;\">\n",
       "      <th></th>\n",
       "      <th>primeiro nome</th>\n",
       "      <th>idade</th>\n",
       "      <th>peso (kg)</th>\n",
       "    </tr>\n",
       "  </thead>\n",
       "  <tbody>\n",
       "    <tr>\n",
       "      <th>0</th>\n",
       "      <td>Lucas</td>\n",
       "      <td>30</td>\n",
       "      <td>72</td>\n",
       "    </tr>\n",
       "    <tr>\n",
       "      <th>1</th>\n",
       "      <td>Andressa</td>\n",
       "      <td>28</td>\n",
       "      <td>58</td>\n",
       "    </tr>\n",
       "    <tr>\n",
       "      <th>2</th>\n",
       "      <td>Bruno</td>\n",
       "      <td>35</td>\n",
       "      <td>120</td>\n",
       "    </tr>\n",
       "  </tbody>\n",
       "</table>\n",
       "</div>"
      ],
      "text/plain": [
       "  primeiro nome  idade  peso (kg)\n",
       "0         Lucas     30         72\n",
       "1      Andressa     28         58\n",
       "2         Bruno     35        120"
      ]
     },
     "execution_count": 13,
     "metadata": {},
     "output_type": "execute_result"
    }
   ],
   "source": [
    "alunos_df_renomeado #Alterado"
   ]
  },
  {
   "cell_type": "code",
   "execution_count": 14,
   "id": "2371d437-7494-4059-a1a7-2ffd0d92412d",
   "metadata": {},
   "outputs": [
    {
     "data": {
      "text/html": [
       "<div>\n",
       "<style scoped>\n",
       "    .dataframe tbody tr th:only-of-type {\n",
       "        vertical-align: middle;\n",
       "    }\n",
       "\n",
       "    .dataframe tbody tr th {\n",
       "        vertical-align: top;\n",
       "    }\n",
       "\n",
       "    .dataframe thead th {\n",
       "        text-align: right;\n",
       "    }\n",
       "</style>\n",
       "<table border=\"1\" class=\"dataframe\">\n",
       "  <thead>\n",
       "    <tr style=\"text-align: right;\">\n",
       "      <th></th>\n",
       "      <th>nome</th>\n",
       "      <th>idade</th>\n",
       "      <th>peso</th>\n",
       "    </tr>\n",
       "  </thead>\n",
       "  <tbody>\n",
       "    <tr>\n",
       "      <th>0</th>\n",
       "      <td>Lucas</td>\n",
       "      <td>30</td>\n",
       "      <td>72</td>\n",
       "    </tr>\n",
       "    <tr>\n",
       "      <th>1</th>\n",
       "      <td>Andressa</td>\n",
       "      <td>28</td>\n",
       "      <td>58</td>\n",
       "    </tr>\n",
       "    <tr>\n",
       "      <th>2</th>\n",
       "      <td>Bruno</td>\n",
       "      <td>35</td>\n",
       "      <td>120</td>\n",
       "    </tr>\n",
       "  </tbody>\n",
       "</table>\n",
       "</div>"
      ],
      "text/plain": [
       "       nome  idade  peso\n",
       "0     Lucas     30    72\n",
       "1  Andressa     28    58\n",
       "2     Bruno     35   120"
      ]
     },
     "execution_count": 14,
     "metadata": {},
     "output_type": "execute_result"
    }
   ],
   "source": [
    "alunos_df #Não alterado"
   ]
  },
  {
   "cell_type": "markdown",
   "id": "75d5e94c-60ed-4168-a734-653da737f379",
   "metadata": {},
   "source": [
    "Para renomear o próprio Data Frame já carregado na memória, sem a necessidade da criação de uma cópia, utilize o parâmetro `inplace = True`"
   ]
  },
  {
   "cell_type": "code",
   "execution_count": 15,
   "id": "e4ff133c-d25e-4ebe-bf73-4221845e7700",
   "metadata": {},
   "outputs": [],
   "source": [
    "alunos_df.rename(columns={\n",
    "    'nome' : 'primeiro nome', #Renomeando a coluna 'nome' para 'primeiro nome'\n",
    "    'peso' : 'peso (kg)' #Renomeando a coluna 'peso' para 'peso (kg)'\n",
    "},inplace=True)"
   ]
  },
  {
   "cell_type": "code",
   "execution_count": 16,
   "id": "e891efce-c26b-4f29-ab4e-809e13711a1d",
   "metadata": {},
   "outputs": [
    {
     "data": {
      "text/html": [
       "<div>\n",
       "<style scoped>\n",
       "    .dataframe tbody tr th:only-of-type {\n",
       "        vertical-align: middle;\n",
       "    }\n",
       "\n",
       "    .dataframe tbody tr th {\n",
       "        vertical-align: top;\n",
       "    }\n",
       "\n",
       "    .dataframe thead th {\n",
       "        text-align: right;\n",
       "    }\n",
       "</style>\n",
       "<table border=\"1\" class=\"dataframe\">\n",
       "  <thead>\n",
       "    <tr style=\"text-align: right;\">\n",
       "      <th></th>\n",
       "      <th>primeiro nome</th>\n",
       "      <th>idade</th>\n",
       "      <th>peso (kg)</th>\n",
       "    </tr>\n",
       "  </thead>\n",
       "  <tbody>\n",
       "    <tr>\n",
       "      <th>0</th>\n",
       "      <td>Lucas</td>\n",
       "      <td>30</td>\n",
       "      <td>72</td>\n",
       "    </tr>\n",
       "    <tr>\n",
       "      <th>1</th>\n",
       "      <td>Andressa</td>\n",
       "      <td>28</td>\n",
       "      <td>58</td>\n",
       "    </tr>\n",
       "    <tr>\n",
       "      <th>2</th>\n",
       "      <td>Bruno</td>\n",
       "      <td>35</td>\n",
       "      <td>120</td>\n",
       "    </tr>\n",
       "  </tbody>\n",
       "</table>\n",
       "</div>"
      ],
      "text/plain": [
       "  primeiro nome  idade  peso (kg)\n",
       "0         Lucas     30         72\n",
       "1      Andressa     28         58\n",
       "2         Bruno     35        120"
      ]
     },
     "execution_count": 16,
     "metadata": {},
     "output_type": "execute_result"
    }
   ],
   "source": [
    "alunos_df"
   ]
  },
  {
   "cell_type": "markdown",
   "id": "64e1ddcb-b49e-4d0b-9e18-e8dc4b67d014",
   "metadata": {},
   "source": [
    "Para renomear todas as colunas de uma vez basta passar uma lista com os novos nomes para o atribuo `DataFrame.columns`"
   ]
  },
  {
   "cell_type": "code",
   "execution_count": 17,
   "id": "873ce6df-6691-4165-9147-f1c9f6c8f063",
   "metadata": {},
   "outputs": [],
   "source": [
    "alunos_df.columns = ['PRIMEIRO NOME','IDADE','PESO (KG)']"
   ]
  },
  {
   "cell_type": "code",
   "execution_count": 18,
   "id": "ccf2b987-9b9e-4d63-b6a2-0fcb8eff4ac0",
   "metadata": {},
   "outputs": [
    {
     "data": {
      "text/html": [
       "<div>\n",
       "<style scoped>\n",
       "    .dataframe tbody tr th:only-of-type {\n",
       "        vertical-align: middle;\n",
       "    }\n",
       "\n",
       "    .dataframe tbody tr th {\n",
       "        vertical-align: top;\n",
       "    }\n",
       "\n",
       "    .dataframe thead th {\n",
       "        text-align: right;\n",
       "    }\n",
       "</style>\n",
       "<table border=\"1\" class=\"dataframe\">\n",
       "  <thead>\n",
       "    <tr style=\"text-align: right;\">\n",
       "      <th></th>\n",
       "      <th>PRIMEIRO NOME</th>\n",
       "      <th>IDADE</th>\n",
       "      <th>PESO (KG)</th>\n",
       "    </tr>\n",
       "  </thead>\n",
       "  <tbody>\n",
       "    <tr>\n",
       "      <th>0</th>\n",
       "      <td>Lucas</td>\n",
       "      <td>30</td>\n",
       "      <td>72</td>\n",
       "    </tr>\n",
       "    <tr>\n",
       "      <th>1</th>\n",
       "      <td>Andressa</td>\n",
       "      <td>28</td>\n",
       "      <td>58</td>\n",
       "    </tr>\n",
       "    <tr>\n",
       "      <th>2</th>\n",
       "      <td>Bruno</td>\n",
       "      <td>35</td>\n",
       "      <td>120</td>\n",
       "    </tr>\n",
       "  </tbody>\n",
       "</table>\n",
       "</div>"
      ],
      "text/plain": [
       "  PRIMEIRO NOME  IDADE  PESO (KG)\n",
       "0         Lucas     30         72\n",
       "1      Andressa     28         58\n",
       "2         Bruno     35        120"
      ]
     },
     "execution_count": 18,
     "metadata": {},
     "output_type": "execute_result"
    }
   ],
   "source": [
    "alunos_df"
   ]
  },
  {
   "cell_type": "markdown",
   "id": "52a8ae0d-44d8-41d6-8a35-a0bd4c34554b",
   "metadata": {},
   "source": [
    "---\n",
    "### 1.3 Criando uma Series\n",
    "O que é uma **Series**? Uma Series é uma estrutura de dados unidimensional com os dados e rótulos em apenas um eixo"
   ]
  },
  {
   "cell_type": "markdown",
   "id": "1399c8c5-4d13-4676-9b17-713b7c3f2249",
   "metadata": {},
   "source": [
    "Para Recuperar/Selecionar uma **COLUNA** inteiro do DataFrame basta:"
   ]
  },
  {
   "cell_type": "code",
   "execution_count": 23,
   "id": "54fc75ac-09c0-4b04-a728-fc008c8d8bea",
   "metadata": {},
   "outputs": [
    {
     "data": {
      "text/plain": [
       "0    30\n",
       "1    28\n",
       "2    35\n",
       "Name: IDADE, dtype: int64"
      ]
     },
     "execution_count": 23,
     "metadata": {},
     "output_type": "execute_result"
    }
   ],
   "source": [
    "alunos_df['IDADE']"
   ]
  },
  {
   "cell_type": "markdown",
   "id": "433fb984-a217-4a32-8bb1-9dcabd2c69ed",
   "metadata": {},
   "source": [
    "ou"
   ]
  },
  {
   "cell_type": "code",
   "execution_count": 22,
   "id": "3fe0a9b2-c7ad-4700-99a2-dcb08afc1d92",
   "metadata": {},
   "outputs": [
    {
     "data": {
      "text/plain": [
       "0    30\n",
       "1    28\n",
       "2    35\n",
       "Name: IDADE, dtype: int64"
      ]
     },
     "execution_count": 22,
     "metadata": {},
     "output_type": "execute_result"
    }
   ],
   "source": [
    "alunos_df.IDADE"
   ]
  },
  {
   "cell_type": "markdown",
   "id": "58c5ce3c-d063-4734-a7df-c6401c49f613",
   "metadata": {},
   "source": [
    "Qual tipo de dado é este? Podemos ver da seguinte forma:"
   ]
  },
  {
   "cell_type": "code",
   "execution_count": 24,
   "id": "1bf6ca3c-ae70-4a9e-942a-f0c8993f93ec",
   "metadata": {},
   "outputs": [
    {
     "data": {
      "text/plain": [
       "pandas.core.series.Series"
      ]
     },
     "execution_count": 24,
     "metadata": {},
     "output_type": "execute_result"
    }
   ],
   "source": [
    "type(alunos_df['IDADE'])"
   ]
  },
  {
   "cell_type": "markdown",
   "id": "4d55032f-51ed-46c9-b233-7f8557986a75",
   "metadata": {},
   "source": [
    "Para Recuperar/Selecionar uma **LINHA** inteiro do DataFrame basta utilizar o atributo `iloc[n]`, da seguinte forma:"
   ]
  },
  {
   "cell_type": "code",
   "execution_count": 25,
   "id": "5ffa129f-3a0f-4a9b-b8e6-0442ab9af157",
   "metadata": {},
   "outputs": [
    {
     "data": {
      "text/plain": [
       "PRIMEIRO NOME    Andressa\n",
       "IDADE                  28\n",
       "PESO (KG)              58\n",
       "Name: 1, dtype: object"
      ]
     },
     "execution_count": 25,
     "metadata": {},
     "output_type": "execute_result"
    }
   ],
   "source": [
    "alunos_df.iloc[1]"
   ]
  },
  {
   "cell_type": "markdown",
   "id": "d1a301d7-01ad-4be9-a842-5bb8b0578c76",
   "metadata": {},
   "source": [
    "Estamos selecionando a linha com o index 1 no DataFrame `alunos_df`"
   ]
  },
  {
   "cell_type": "markdown",
   "id": "403143f5-3808-44d1-895c-01ce2b86e3f7",
   "metadata": {},
   "source": [
    "Para criar uma nova Series a partir de uma lista de elementos (Sem a utilização de um DataFrame), basta utilizar o atributo `Series`"
   ]
  },
  {
   "cell_type": "code",
   "execution_count": 31,
   "id": "1e35cf82-68b3-46ab-aefc-38d4cba60027",
   "metadata": {},
   "outputs": [
    {
     "data": {
      "text/plain": [
       "0       1\n",
       "1      10\n",
       "2     100\n",
       "3    1000\n",
       "dtype: int64"
      ]
     },
     "execution_count": 31,
     "metadata": {},
     "output_type": "execute_result"
    }
   ],
   "source": [
    "pd.Series([1,10,100,1000])"
   ]
  },
  {
   "cell_type": "markdown",
   "id": "c41f8f1c-5696-47c1-b834-06aac9f508b9",
   "metadata": {},
   "source": [
    "Para alterar o nome dos índices podemos utilizar o atributo `index`"
   ]
  },
  {
   "cell_type": "code",
   "execution_count": 28,
   "id": "f6984046-1acb-4772-a3ad-cebea8f9b228",
   "metadata": {},
   "outputs": [
    {
     "data": {
      "text/plain": [
       "um        1\n",
       "dez      10\n",
       "cem     100\n",
       "mil    1000\n",
       "dtype: int64"
      ]
     },
     "execution_count": 28,
     "metadata": {},
     "output_type": "execute_result"
    }
   ],
   "source": [
    "pd.Series([1,10,100,1000], index=['um','dez','cem','mil'])"
   ]
  },
  {
   "cell_type": "markdown",
   "id": "dc89c27e-ee8b-4155-8594-3c46fc1d9563",
   "metadata": {},
   "source": [
    "Para alterar o nome da Series podemos utilizar o atributo `name`"
   ]
  },
  {
   "cell_type": "code",
   "execution_count": 30,
   "id": "2be1bfcc-0b52-4cc7-b4c2-fe9d262a7edf",
   "metadata": {},
   "outputs": [
    {
     "data": {
      "text/plain": [
       "um        1\n",
       "dez      10\n",
       "cem     100\n",
       "mil    1000\n",
       "Name: Números, dtype: int64"
      ]
     },
     "execution_count": 30,
     "metadata": {},
     "output_type": "execute_result"
    }
   ],
   "source": [
    "pd.Series([1,10,100,1000], index=['um','dez','cem','mil'], name='Números')"
   ]
  }
 ],
 "metadata": {
  "kernelspec": {
   "display_name": "Python 3 (ipykernel)",
   "language": "python",
   "name": "python3"
  },
  "language_info": {
   "codemirror_mode": {
    "name": "ipython",
    "version": 3
   },
   "file_extension": ".py",
   "mimetype": "text/x-python",
   "name": "python",
   "nbconvert_exporter": "python",
   "pygments_lexer": "ipython3",
   "version": "3.12.7"
  }
 },
 "nbformat": 4,
 "nbformat_minor": 5
}
