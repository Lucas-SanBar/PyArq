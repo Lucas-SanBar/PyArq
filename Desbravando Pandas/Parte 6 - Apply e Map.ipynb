{
 "cells": [
  {
   "cell_type": "code",
   "execution_count": 1,
   "id": "425a299d-27bf-48ce-93bb-a244e09dedc0",
   "metadata": {},
   "outputs": [],
   "source": [
    "import pandas as pd"
   ]
  },
  {
   "cell_type": "markdown",
   "id": "04bb8893-4c86-4a98-8a96-7f93317d882e",
   "metadata": {},
   "source": [
    "### Base utilizada"
   ]
  },
  {
   "cell_type": "code",
   "execution_count": 2,
   "id": "67085c53-6714-44f2-97fe-97163a2b85ad",
   "metadata": {},
   "outputs": [],
   "source": [
    "df_data = pd.read_csv('./Base de dados/ConsumidorGov.csv',sep = ';')"
   ]
  },
  {
   "cell_type": "markdown",
   "id": "e0f7387a-4ce6-46d5-99b8-f0164c288828",
   "metadata": {},
   "source": [
    "# Apply e Map"
   ]
  },
  {
   "cell_type": "markdown",
   "id": "ebbb293e-a474-464f-b9bb-e4de42dccedf",
   "metadata": {},
   "source": [
    "No pandas, as funções `apply()` e `map()` são amplamente utilizadas para transformar e manipular dados dentro de DataFrames e Series. Ambas permitem a aplicação de funções personalizadas a todos os elementos da estrutura, mas possuem diferenças importantes em sua aplicação."
   ]
  },
  {
   "cell_type": "markdown",
   "id": "b8cb67ad-41b1-46a7-8521-d7a63eeddde7",
   "metadata": {},
   "source": [
    "`apply()` :\n",
    "\n",
    "* Pode ser usada tanto em Series quanto em DataFrames.\n",
    "* Em Series, aplica uma função a cada elemento.\n",
    "* Em DataFrames, permite aplicar funções em colunas (axis=0) ou em linhas (axis=1).\n",
    "* É útil para transformações complexas que envolvem múltiplas colunas."
   ]
  },
  {
   "cell_type": "markdown",
   "id": "e94d5d7c-f209-4c51-b890-827f0c53a614",
   "metadata": {},
   "source": [
    "`map()` :\n",
    "* Aplicável apenas a Series.\n",
    "* Aplica funções elemento por elemento, sendo ideal para mapeamentos simples.\n",
    "* Suporta dicionários para substituição de valores e funções lambda para transformações diretas."
   ]
  },
  {
   "cell_type": "markdown",
   "id": "f0910598-1c3d-4108-aaf0-4c928fe835b2",
   "metadata": {},
   "source": [
    "Em geral, `map()` é mais eficiente quando a operação pode ser feita elemento a elemento, enquanto `apply()` é mais flexível para manipulações que envolvem múltiplas colunas ou estruturas complexas."
   ]
  },
  {
   "cell_type": "markdown",
   "id": "1520887c-e7fe-4d19-82e2-ef38233c0549",
   "metadata": {},
   "source": [
    "|       | DataFrame | Series |\n",
    "|:-----:|:---------:|--------|\n",
    "| apply | ✔️         | ✔️   |\n",
    "| map   | ❌         | ✔️   |"
   ]
  },
  {
   "cell_type": "markdown",
   "id": "24578441-29a2-4c14-b347-c3f96188b628",
   "metadata": {},
   "source": [
    "Para teste, utilizaremos o DataFrame criado a seguir `df_produtos`:"
   ]
  },
  {
   "cell_type": "code",
   "execution_count": 3,
   "id": "92cff32a-572d-4c22-bfc6-182ec590bdf9",
   "metadata": {},
   "outputs": [],
   "source": [
    "df_produtos = pd.DataFrame({\n",
    "    'Produto': ['Notebook', 'Smartphone', 'Tablet', 'Monitor'],\n",
    "    'Valor': [4500, 2500, 1500, 1200],\n",
    "    'Margem': [0.2, 0.15, 0.25, 0.18],\n",
    "    'Estoque': [100, 250, 150, 200]},\n",
    "    index=['Produto 1','Produto 2','Produto 3','Produto 4'])"
   ]
  },
  {
   "cell_type": "code",
   "execution_count": 4,
   "id": "5aba4a3d-5d94-4ebc-adfe-987a0c377a2c",
   "metadata": {},
   "outputs": [
    {
     "data": {
      "text/html": [
       "<div>\n",
       "<style scoped>\n",
       "    .dataframe tbody tr th:only-of-type {\n",
       "        vertical-align: middle;\n",
       "    }\n",
       "\n",
       "    .dataframe tbody tr th {\n",
       "        vertical-align: top;\n",
       "    }\n",
       "\n",
       "    .dataframe thead th {\n",
       "        text-align: right;\n",
       "    }\n",
       "</style>\n",
       "<table border=\"1\" class=\"dataframe\">\n",
       "  <thead>\n",
       "    <tr style=\"text-align: right;\">\n",
       "      <th></th>\n",
       "      <th>Produto</th>\n",
       "      <th>Valor</th>\n",
       "      <th>Margem</th>\n",
       "      <th>Estoque</th>\n",
       "    </tr>\n",
       "  </thead>\n",
       "  <tbody>\n",
       "    <tr>\n",
       "      <th>Produto 1</th>\n",
       "      <td>Notebook</td>\n",
       "      <td>4500</td>\n",
       "      <td>0.20</td>\n",
       "      <td>100</td>\n",
       "    </tr>\n",
       "    <tr>\n",
       "      <th>Produto 2</th>\n",
       "      <td>Smartphone</td>\n",
       "      <td>2500</td>\n",
       "      <td>0.15</td>\n",
       "      <td>250</td>\n",
       "    </tr>\n",
       "    <tr>\n",
       "      <th>Produto 3</th>\n",
       "      <td>Tablet</td>\n",
       "      <td>1500</td>\n",
       "      <td>0.25</td>\n",
       "      <td>150</td>\n",
       "    </tr>\n",
       "    <tr>\n",
       "      <th>Produto 4</th>\n",
       "      <td>Monitor</td>\n",
       "      <td>1200</td>\n",
       "      <td>0.18</td>\n",
       "      <td>200</td>\n",
       "    </tr>\n",
       "  </tbody>\n",
       "</table>\n",
       "</div>"
      ],
      "text/plain": [
       "              Produto  Valor  Margem  Estoque\n",
       "Produto 1    Notebook   4500    0.20      100\n",
       "Produto 2  Smartphone   2500    0.15      250\n",
       "Produto 3      Tablet   1500    0.25      150\n",
       "Produto 4     Monitor   1200    0.18      200"
      ]
     },
     "execution_count": 4,
     "metadata": {},
     "output_type": "execute_result"
    }
   ],
   "source": [
    "df_produtos"
   ]
  },
  {
   "cell_type": "markdown",
   "id": "a8959024-94af-4402-878b-6b50f341a2f3",
   "metadata": {},
   "source": [
    "### Apply()"
   ]
  },
  {
   "cell_type": "markdown",
   "id": "9637a934-ff49-442f-91ed-4075c5b36833",
   "metadata": {},
   "source": [
    "`apply()` : É utilizado para aplicar uma função ao longo de algum eixo do DataFrame ou em valores de uma Series."
   ]
  },
  {
   "cell_type": "markdown",
   "id": "e367e978-7e7b-452c-91fd-77182baf0336",
   "metadata": {},
   "source": [
    "`axis=0` : Significa que estamos selecionando linhas ↑ ↓"
   ]
  },
  {
   "cell_type": "markdown",
   "id": "048db79e-66bf-4c57-98bd-2786ea45753a",
   "metadata": {},
   "source": [
    "`axis=1`: Significa que estamos selecionando colunas → ←"
   ]
  },
  {
   "cell_type": "markdown",
   "id": "f911b6c1-9252-4303-8651-d55b0c5492be",
   "metadata": {},
   "source": [
    "Vamos criar duas funções para exemplificar a diferença dos eixos:"
   ]
  },
  {
   "cell_type": "code",
   "execution_count": 5,
   "id": "3417c398-7d32-4e2a-bb42-b606ae553e5a",
   "metadata": {},
   "outputs": [],
   "source": [
    "## Criando função personalizada\n",
    "def soma_produtos(series):\n",
    "    return series.sum() # Retorna a soma de todos os produtos dado um determinado eixo"
   ]
  },
  {
   "cell_type": "code",
   "execution_count": 6,
   "id": "74266d9a-6c6b-4500-b7bd-62f7fbd90946",
   "metadata": {},
   "outputs": [],
   "source": [
    "## Criando função personalizada\n",
    "def margem_venda(series):\n",
    "    return series.iloc[1] * series.iloc[2] ## Retorna a margem de venda de um dos produtos (Valor * Margem)"
   ]
  },
  {
   "cell_type": "markdown",
   "id": "2c193353-0296-42f4-91b7-fba1a7e074e5",
   "metadata": {},
   "source": [
    "#### `axis=0` - Seleção de linhas"
   ]
  },
  {
   "cell_type": "code",
   "execution_count": 7,
   "id": "bbdbc09d-4a1a-44d9-ad43-2ca2beecd0f6",
   "metadata": {},
   "outputs": [
    {
     "data": {
      "text/plain": [
       "Produto    NotebookSmartphoneTabletMonitor\n",
       "Valor                                 9700\n",
       "Margem                                0.78\n",
       "Estoque                                700\n",
       "dtype: object"
      ]
     },
     "execution_count": 7,
     "metadata": {},
     "output_type": "execute_result"
    }
   ],
   "source": [
    "## Aplicando a função personalizada soma_produtos\n",
    "df_produtos.apply(soma_produtos) "
   ]
  },
  {
   "cell_type": "markdown",
   "id": "1e7fa1d0-7bc6-4a4b-bed5-541bdab8e765",
   "metadata": {},
   "source": [
    "Repare que todas as linhas do DataFrame `df_protudos` foram somadas, criando uma nova linha que pode ser inserida de volta no DataFrame."
   ]
  },
  {
   "cell_type": "code",
   "execution_count": 8,
   "id": "a6d26b5b-4c8a-434e-8bf7-6271b0232aeb",
   "metadata": {},
   "outputs": [],
   "source": [
    "## Aplicando a função personalizada margem_venda e criando uma nova coluna com o valor retornado\n",
    "df_produtos['Valor Margem'] = df_produtos.apply(margem_venda,axis=1)"
   ]
  },
  {
   "cell_type": "code",
   "execution_count": 9,
   "id": "810c1bba-1b55-41b1-b075-d67f6e7e819d",
   "metadata": {},
   "outputs": [
    {
     "data": {
      "text/html": [
       "<div>\n",
       "<style scoped>\n",
       "    .dataframe tbody tr th:only-of-type {\n",
       "        vertical-align: middle;\n",
       "    }\n",
       "\n",
       "    .dataframe tbody tr th {\n",
       "        vertical-align: top;\n",
       "    }\n",
       "\n",
       "    .dataframe thead th {\n",
       "        text-align: right;\n",
       "    }\n",
       "</style>\n",
       "<table border=\"1\" class=\"dataframe\">\n",
       "  <thead>\n",
       "    <tr style=\"text-align: right;\">\n",
       "      <th></th>\n",
       "      <th>Produto</th>\n",
       "      <th>Valor</th>\n",
       "      <th>Margem</th>\n",
       "      <th>Estoque</th>\n",
       "      <th>Valor Margem</th>\n",
       "    </tr>\n",
       "  </thead>\n",
       "  <tbody>\n",
       "    <tr>\n",
       "      <th>Produto 1</th>\n",
       "      <td>Notebook</td>\n",
       "      <td>4500</td>\n",
       "      <td>0.20</td>\n",
       "      <td>100</td>\n",
       "      <td>900.0</td>\n",
       "    </tr>\n",
       "    <tr>\n",
       "      <th>Produto 2</th>\n",
       "      <td>Smartphone</td>\n",
       "      <td>2500</td>\n",
       "      <td>0.15</td>\n",
       "      <td>250</td>\n",
       "      <td>375.0</td>\n",
       "    </tr>\n",
       "    <tr>\n",
       "      <th>Produto 3</th>\n",
       "      <td>Tablet</td>\n",
       "      <td>1500</td>\n",
       "      <td>0.25</td>\n",
       "      <td>150</td>\n",
       "      <td>375.0</td>\n",
       "    </tr>\n",
       "    <tr>\n",
       "      <th>Produto 4</th>\n",
       "      <td>Monitor</td>\n",
       "      <td>1200</td>\n",
       "      <td>0.18</td>\n",
       "      <td>200</td>\n",
       "      <td>216.0</td>\n",
       "    </tr>\n",
       "  </tbody>\n",
       "</table>\n",
       "</div>"
      ],
      "text/plain": [
       "              Produto  Valor  Margem  Estoque  Valor Margem\n",
       "Produto 1    Notebook   4500    0.20      100         900.0\n",
       "Produto 2  Smartphone   2500    0.15      250         375.0\n",
       "Produto 3      Tablet   1500    0.25      150         375.0\n",
       "Produto 4     Monitor   1200    0.18      200         216.0"
      ]
     },
     "execution_count": 9,
     "metadata": {},
     "output_type": "execute_result"
    }
   ],
   "source": [
    "df_produtos"
   ]
  },
  {
   "cell_type": "markdown",
   "id": "d138ca21-9fb0-485a-80db-d262a32716f2",
   "metadata": {},
   "source": [
    "Repare que a função foi aplicada `.loc[1]` (Valor) * `.loc[2]` (Margem), criando uma nova coluna no DataFrame **Valor Margem**"
   ]
  },
  {
   "cell_type": "markdown",
   "id": "028f159e-b5b2-4603-a846-3ffaacd4d3b5",
   "metadata": {},
   "source": [
    "#### Funções `lambda`"
   ]
  },
  {
   "cell_type": "markdown",
   "id": "3a2f6af6-d859-457d-94c7-59ca8740c8d3",
   "metadata": {},
   "source": [
    "No pandas, uma função `lambda` é uma função temporária que pode ser usada de forma rápida. "
   ]
  },
  {
   "cell_type": "code",
   "execution_count": 10,
   "id": "73133e15-9a75-4b92-b560-33542d071ed4",
   "metadata": {},
   "outputs": [],
   "source": [
    "df_produtos['Ganhos Possíveis'] = df_produtos[['Produto','Valor','Margem','Estoque']].apply(lambda series: (series.loc['Valor'] * series.loc['Margem']) * series.loc['Estoque'],axis=1)"
   ]
  },
  {
   "cell_type": "code",
   "execution_count": 11,
   "id": "5eb0d4f6-650d-4c2f-8370-a6aa139c3ec7",
   "metadata": {},
   "outputs": [
    {
     "data": {
      "text/html": [
       "<div>\n",
       "<style scoped>\n",
       "    .dataframe tbody tr th:only-of-type {\n",
       "        vertical-align: middle;\n",
       "    }\n",
       "\n",
       "    .dataframe tbody tr th {\n",
       "        vertical-align: top;\n",
       "    }\n",
       "\n",
       "    .dataframe thead th {\n",
       "        text-align: right;\n",
       "    }\n",
       "</style>\n",
       "<table border=\"1\" class=\"dataframe\">\n",
       "  <thead>\n",
       "    <tr style=\"text-align: right;\">\n",
       "      <th></th>\n",
       "      <th>Produto</th>\n",
       "      <th>Valor</th>\n",
       "      <th>Margem</th>\n",
       "      <th>Estoque</th>\n",
       "      <th>Valor Margem</th>\n",
       "      <th>Ganhos Possíveis</th>\n",
       "    </tr>\n",
       "  </thead>\n",
       "  <tbody>\n",
       "    <tr>\n",
       "      <th>Produto 1</th>\n",
       "      <td>Notebook</td>\n",
       "      <td>4500</td>\n",
       "      <td>0.20</td>\n",
       "      <td>100</td>\n",
       "      <td>900.0</td>\n",
       "      <td>90000.0</td>\n",
       "    </tr>\n",
       "    <tr>\n",
       "      <th>Produto 2</th>\n",
       "      <td>Smartphone</td>\n",
       "      <td>2500</td>\n",
       "      <td>0.15</td>\n",
       "      <td>250</td>\n",
       "      <td>375.0</td>\n",
       "      <td>93750.0</td>\n",
       "    </tr>\n",
       "    <tr>\n",
       "      <th>Produto 3</th>\n",
       "      <td>Tablet</td>\n",
       "      <td>1500</td>\n",
       "      <td>0.25</td>\n",
       "      <td>150</td>\n",
       "      <td>375.0</td>\n",
       "      <td>56250.0</td>\n",
       "    </tr>\n",
       "    <tr>\n",
       "      <th>Produto 4</th>\n",
       "      <td>Monitor</td>\n",
       "      <td>1200</td>\n",
       "      <td>0.18</td>\n",
       "      <td>200</td>\n",
       "      <td>216.0</td>\n",
       "      <td>43200.0</td>\n",
       "    </tr>\n",
       "  </tbody>\n",
       "</table>\n",
       "</div>"
      ],
      "text/plain": [
       "              Produto  Valor  Margem  Estoque  Valor Margem  Ganhos Possíveis\n",
       "Produto 1    Notebook   4500    0.20      100         900.0           90000.0\n",
       "Produto 2  Smartphone   2500    0.15      250         375.0           93750.0\n",
       "Produto 3      Tablet   1500    0.25      150         375.0           56250.0\n",
       "Produto 4     Monitor   1200    0.18      200         216.0           43200.0"
      ]
     },
     "execution_count": 11,
     "metadata": {},
     "output_type": "execute_result"
    }
   ],
   "source": [
    "df_produtos"
   ]
  },
  {
   "cell_type": "markdown",
   "id": "38acad4d-ddca-46d7-b973-25770a380709",
   "metadata": {},
   "source": [
    "A função `lambda` é implicitamente utilizada em alguns momentos. Como neste mesmo caso por exemplo:"
   ]
  },
  {
   "cell_type": "code",
   "execution_count": 13,
   "id": "6781c152-61c3-462a-bac8-8c5693fabadc",
   "metadata": {},
   "outputs": [],
   "source": [
    "df_produtos['Ganhos Possíveis 2'] = ( df_produtos['Valor'] * df_produtos['Margem'] ) * df_produtos['Estoque']"
   ]
  },
  {
   "cell_type": "code",
   "execution_count": 14,
   "id": "04a10812-e2c7-448f-bcb6-a57a3891f07b",
   "metadata": {},
   "outputs": [
    {
     "data": {
      "text/html": [
       "<div>\n",
       "<style scoped>\n",
       "    .dataframe tbody tr th:only-of-type {\n",
       "        vertical-align: middle;\n",
       "    }\n",
       "\n",
       "    .dataframe tbody tr th {\n",
       "        vertical-align: top;\n",
       "    }\n",
       "\n",
       "    .dataframe thead th {\n",
       "        text-align: right;\n",
       "    }\n",
       "</style>\n",
       "<table border=\"1\" class=\"dataframe\">\n",
       "  <thead>\n",
       "    <tr style=\"text-align: right;\">\n",
       "      <th></th>\n",
       "      <th>Produto</th>\n",
       "      <th>Valor</th>\n",
       "      <th>Margem</th>\n",
       "      <th>Estoque</th>\n",
       "      <th>Valor Margem</th>\n",
       "      <th>Ganhos Possíveis</th>\n",
       "      <th>Ganhos Possíveis 2</th>\n",
       "    </tr>\n",
       "  </thead>\n",
       "  <tbody>\n",
       "    <tr>\n",
       "      <th>Produto 1</th>\n",
       "      <td>Notebook</td>\n",
       "      <td>4500</td>\n",
       "      <td>0.20</td>\n",
       "      <td>100</td>\n",
       "      <td>900.0</td>\n",
       "      <td>90000.0</td>\n",
       "      <td>90000.0</td>\n",
       "    </tr>\n",
       "    <tr>\n",
       "      <th>Produto 2</th>\n",
       "      <td>Smartphone</td>\n",
       "      <td>2500</td>\n",
       "      <td>0.15</td>\n",
       "      <td>250</td>\n",
       "      <td>375.0</td>\n",
       "      <td>93750.0</td>\n",
       "      <td>93750.0</td>\n",
       "    </tr>\n",
       "    <tr>\n",
       "      <th>Produto 3</th>\n",
       "      <td>Tablet</td>\n",
       "      <td>1500</td>\n",
       "      <td>0.25</td>\n",
       "      <td>150</td>\n",
       "      <td>375.0</td>\n",
       "      <td>56250.0</td>\n",
       "      <td>56250.0</td>\n",
       "    </tr>\n",
       "    <tr>\n",
       "      <th>Produto 4</th>\n",
       "      <td>Monitor</td>\n",
       "      <td>1200</td>\n",
       "      <td>0.18</td>\n",
       "      <td>200</td>\n",
       "      <td>216.0</td>\n",
       "      <td>43200.0</td>\n",
       "      <td>43200.0</td>\n",
       "    </tr>\n",
       "  </tbody>\n",
       "</table>\n",
       "</div>"
      ],
      "text/plain": [
       "              Produto  Valor  Margem  Estoque  Valor Margem  Ganhos Possíveis  \\\n",
       "Produto 1    Notebook   4500    0.20      100         900.0           90000.0   \n",
       "Produto 2  Smartphone   2500    0.15      250         375.0           93750.0   \n",
       "Produto 3      Tablet   1500    0.25      150         375.0           56250.0   \n",
       "Produto 4     Monitor   1200    0.18      200         216.0           43200.0   \n",
       "\n",
       "           Ganhos Possíveis 2  \n",
       "Produto 1             90000.0  \n",
       "Produto 2             93750.0  \n",
       "Produto 3             56250.0  \n",
       "Produto 4             43200.0  "
      ]
     },
     "execution_count": 14,
     "metadata": {},
     "output_type": "execute_result"
    }
   ],
   "source": [
    "df_produtos"
   ]
  },
  {
   "cell_type": "markdown",
   "id": "82fcfa96-66ee-4c37-93f7-6b9c3310906b",
   "metadata": {},
   "source": [
    "Quando devo ou não utilizar a função `lambda` ao invés da criação de uma função personalização `def`?"
   ]
  },
  {
   "cell_type": "markdown",
   "id": "eccdd94c-991c-4a16-bdbb-108400da24b8",
   "metadata": {},
   "source": [
    "O uso de funções lambda no pandas pode tornar o código mais conciso e eficiente, mas existem momentos em que é melhor evitá-las."
   ]
  },
  {
   "cell_type": "markdown",
   "id": "3cc4d060-9232-4aa0-a597-1ee3f7a0efc6",
   "metadata": {},
   "source": [
    "1. Quando utilizar `lambda`?"
   ]
  },
  {
   "cell_type": "markdown",
   "id": "f0e66656-7505-40a5-b847-73a6a7ade5d8",
   "metadata": {},
   "source": [
    "* Se a função for curta e não precisar ser reutilizada, `lambda` é uma boa escolha.\n",
    "* Uso com `apply()` para manipular múltiplas colunas.\n",
    "* Uso com `map()` para substituições simples."
   ]
  },
  {
   "cell_type": "markdown",
   "id": "9c81c511-ebbf-4b21-8c43-984d48ee8197",
   "metadata": {},
   "source": [
    "2. Quando **NÃO** utilizar `lambda`?"
   ]
  },
  {
   "cell_type": "markdown",
   "id": "32441a33-8565-4ada-a595-58a1a96a8810",
   "metadata": {},
   "source": [
    "* Funções complexas e difíceis de ler.\n",
    "* Duplicação de código (Se uma cálculo é feito mais do que uma vez, considere `def`).\n",
    "* Para operações vetorizadas (Como o exemplo anterior):\n",
    "    * `df['Valor_Dobrado'] = df['Valor'].apply(lambda x: x * 2)` tem um desempenho pior do que `df['Valor_Dobrado'] = df['Valor'] * 2`"
   ]
  },
  {
   "cell_type": "markdown",
   "id": "e32a13f6-add6-4ec2-b573-f14497e40ea9",
   "metadata": {},
   "source": [
    "De forma resumida:\n",
    "\n",
    "|                    Situação                    | Usar `lambda` | Alternativa               |\n",
    "|:----------------------------------------------:|:-------------:|---------------------------|\n",
    "| Operações curtas e diretas                     | ✔️             | -                         |\n",
    "| Aplicação em colunas individuais com `apply()` | ✔️             | -                         |\n",
    "| Conversão simples com `map()`                  | ✔️             | -                         |\n",
    "| Funções longas ou com múltiplas condições      | ❌             | `def` com `apply()`       |\n",
    "| Código precisa ser reutilizável                | ❌             | Criar uma função separada |\n",
    "| Operação pode ser vetorizada                   | ❌             | Métodos nativos do pandas |"
   ]
  },
  {
   "cell_type": "markdown",
   "id": "bdf8b9f8-3f50-4fd3-bc1c-e99279208cf7",
   "metadata": {},
   "source": [
    "### Map()"
   ]
  },
  {
   "cell_type": "markdown",
   "id": "c25f9d53-296d-4760-b98b-38acef04c2e2",
   "metadata": {},
   "source": [
    "Diferente da função `apply()` a função `map()` é exclusiva para Series, sendo usada para aplicar uma função a cada elemento de uma Series."
   ]
  },
  {
   "cell_type": "code",
   "execution_count": 37,
   "id": "770c7fef-57a9-4706-b63e-9181510fb727",
   "metadata": {},
   "outputs": [
    {
     "data": {
      "text/plain": [
       "0       Lucas\n",
       "1    Andressa\n",
       "2       Bruno\n",
       "3       Maria\n",
       "dtype: object"
      ]
     },
     "execution_count": 37,
     "metadata": {},
     "output_type": "execute_result"
    }
   ],
   "source": [
    "## Criando uma Series nomes\n",
    "nomes = pd.Series(['Lucas','Andressa','Bruno','Maria'])\n",
    "nomes"
   ]
  },
  {
   "cell_type": "markdown",
   "id": "87d456b5-5c57-4839-9576-a3a5cb5d2e30",
   "metadata": {},
   "source": [
    "Assim como `apply()` podemos utilizar funções personalizadas `def` ou funções pré definidas no Pandas como por exemplo a função `upper()`:"
   ]
  },
  {
   "cell_type": "code",
   "execution_count": 38,
   "id": "2addec47-a746-46f4-a09f-0006b7d501b4",
   "metadata": {},
   "outputs": [
    {
     "data": {
      "text/plain": [
       "0       LUCAS\n",
       "1    ANDRESSA\n",
       "2       BRUNO\n",
       "3       MARIA\n",
       "dtype: object"
      ]
     },
     "execution_count": 38,
     "metadata": {},
     "output_type": "execute_result"
    }
   ],
   "source": [
    "## Aplicando a função Upper via map na Series nomes\n",
    "nomes.map(lambda x: x.upper())"
   ]
  },
  {
   "cell_type": "markdown",
   "id": "72bedf98-a61c-4469-b7fa-5be24be7d91c",
   "metadata": {},
   "source": [
    "Lembrando que, o Pandas já fornece uma série de métodos para manipulação de dados e não existe necessidade de utilizar a função `map()` quando estamos falando delas."
   ]
  },
  {
   "cell_type": "markdown",
   "id": "a6a7fc85-db60-422b-9bd7-139984c7210b",
   "metadata": {},
   "source": [
    "Como por exemplo, a própria função `upper()` já existe:"
   ]
  },
  {
   "cell_type": "code",
   "execution_count": 39,
   "id": "6b5a7dae-4925-44e6-81d7-1131f8adf862",
   "metadata": {},
   "outputs": [
    {
     "data": {
      "text/plain": [
       "0       LUCAS\n",
       "1    ANDRESSA\n",
       "2       BRUNO\n",
       "3       MARIA\n",
       "dtype: object"
      ]
     },
     "execution_count": 39,
     "metadata": {},
     "output_type": "execute_result"
    }
   ],
   "source": [
    "nomes.str.upper()"
   ]
  },
  {
   "cell_type": "markdown",
   "id": "ad30e11a-67a3-442d-a4ac-4c50d08bf541",
   "metadata": {},
   "source": [
    "Além de funções, `map()` também pode ser usado com dicionários de valores mapeados:"
   ]
  },
  {
   "cell_type": "code",
   "execution_count": 41,
   "id": "db09a01e-78ec-4b44-8498-369a4c041f9f",
   "metadata": {},
   "outputs": [
    {
     "data": {
      "text/plain": [
       "{'Lucas': 'Lucas Santos',\n",
       " 'Andressa': 'Andressa Ferraz',\n",
       " 'Bruno': 'Bruno Barbosa',\n",
       " 'Maria': 'Maria Elias'}"
      ]
     },
     "execution_count": 41,
     "metadata": {},
     "output_type": "execute_result"
    }
   ],
   "source": [
    "## De-Para de nomes\n",
    "De_Para = {'Lucas': 'Lucas Santos', 'Andressa': 'Andressa Ferraz', 'Bruno': 'Bruno Barbosa', 'Maria': 'Maria Elias'}\n",
    "De_Para"
   ]
  },
  {
   "cell_type": "markdown",
   "id": "0e795089-902f-4f90-b490-b09ce763101b",
   "metadata": {},
   "source": [
    "**OBSERVAÇÃO :** A utilização de dicionário juntamente com o `map()` é semelhante ao `Applymap()` do **QLIK**."
   ]
  },
  {
   "cell_type": "code",
   "execution_count": 42,
   "id": "a3e919ce-2fc0-44f9-b341-b222e01f31bd",
   "metadata": {},
   "outputs": [
    {
     "data": {
      "text/plain": [
       "0       Lucas Santos\n",
       "1    Andressa Ferraz\n",
       "2      Bruno Barbosa\n",
       "3        Maria Elias\n",
       "dtype: object"
      ]
     },
     "execution_count": 42,
     "metadata": {},
     "output_type": "execute_result"
    }
   ],
   "source": [
    "nomes = nomes.map(De_Para)\n",
    "nomes"
   ]
  },
  {
   "cell_type": "markdown",
   "id": "cc0e5557-8298-4d35-aba1-07d57c39bd1d",
   "metadata": {},
   "source": [
    "**OBSERVAÇÃO :** Como não estão no dicionário/De-Para, o `map()` retorna `NaN` para eles."
   ]
  },
  {
   "cell_type": "markdown",
   "id": "ba40614e-2e14-49ad-9b53-862d280a3db8",
   "metadata": {},
   "source": [
    "### Resumo"
   ]
  },
  {
   "cell_type": "markdown",
   "id": "ff133659-adf3-43f5-8f53-f4d01cd6f377",
   "metadata": {},
   "source": [
    "Principais diferenças entre `apply()` e `map()`:"
   ]
  },
  {
   "cell_type": "markdown",
   "id": "71a51d6d-ae99-4369-8d18-463c61fd51ee",
   "metadata": {},
   "source": [
    "| Situação                          | Usar `apply()`                                                            | Usar `map()`                 |\n",
    "|-----------------------------------|---------------------------------------------------------------------------|------------------------------|\n",
    "| Onde pode ser usada?              | Series e DataFrame                                                        | Apenas Series                |\n",
    "| Forma de aplicação                | Pode ser usada linha por linha (`axis=1`) ou coluna por coluna (`axis=0`) | Aplica elemento por elemento |\n",
    "| Pode usar dicionário?             | ❌ Não                                                                     | ✅ Sim                        |\n",
    "| Pode usar funções personalizadas? | ✅ Sim                                                                     | ✅ Sim                        |"
   ]
  }
 ],
 "metadata": {
  "kernelspec": {
   "display_name": "Python 3 (ipykernel)",
   "language": "python",
   "name": "python3"
  },
  "language_info": {
   "codemirror_mode": {
    "name": "ipython",
    "version": 3
   },
   "file_extension": ".py",
   "mimetype": "text/x-python",
   "name": "python",
   "nbconvert_exporter": "python",
   "pygments_lexer": "ipython3",
   "version": "3.12.7"
  }
 },
 "nbformat": 4,
 "nbformat_minor": 5
}
