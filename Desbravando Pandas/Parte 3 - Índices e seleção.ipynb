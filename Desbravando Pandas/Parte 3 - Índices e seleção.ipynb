{
 "cells": [
  {
   "cell_type": "code",
   "execution_count": 2,
   "id": "88b25407-fa5f-417e-81db-9238c84bb96f",
   "metadata": {},
   "outputs": [],
   "source": [
    "import pandas as pd"
   ]
  },
  {
   "cell_type": "markdown",
   "id": "93a636dc-3087-4f7e-9821-65f7e18e7db9",
   "metadata": {},
   "source": [
    "### Base utilizada"
   ]
  },
  {
   "cell_type": "code",
   "execution_count": 3,
   "id": "b30e5e66-7bee-4881-878a-d4c6e5c28fa0",
   "metadata": {},
   "outputs": [],
   "source": [
    "df_data = pd.read_csv('./Base de dados/ConsumidorGov.csv',sep = ';')"
   ]
  },
  {
   "cell_type": "markdown",
   "id": "2ed1324a-be42-4d37-93de-7cf7e8e5d661",
   "metadata": {},
   "source": [
    "# Índices"
   ]
  },
  {
   "cell_type": "markdown",
   "id": "98d838de-6569-44e8-8bce-7698aee3bce0",
   "metadata": {},
   "source": [
    "Toda estrutura do tipo DataFrame possui índices, os índices no pandas são essenciais para organizar e acessar dados dentro de um DataFrame ou Series. Eles funcionam como identificadores únicos para as linhas, facilitando buscas, filtragens e operações avançadas."
   ]
  },
  {
   "cell_type": "markdown",
   "id": "80bb4c4e-a3f7-4df3-a0b5-dd7e1ff4cac6",
   "metadata": {},
   "source": [
    "### DataFrame com índices númericos"
   ]
  },
  {
   "cell_type": "markdown",
   "id": "4d3997bd-2153-4424-bf84-c15ba78217ee",
   "metadata": {},
   "source": [
    "Normalmente os índices são do tipo **númerico**, do valor **0** ao **número de linhas do DataFrame - 1**, mas também pode ser do tipo **textual(rótuos/labels)**"
   ]
  },
  {
   "cell_type": "code",
   "execution_count": 29,
   "id": "e678c6e4-8268-445e-9bde-5d7e158e164d",
   "metadata": {
    "scrolled": true
   },
   "outputs": [
    {
     "data": {
      "text/html": [
       "<div>\n",
       "<style scoped>\n",
       "    .dataframe tbody tr th:only-of-type {\n",
       "        vertical-align: middle;\n",
       "    }\n",
       "\n",
       "    .dataframe tbody tr th {\n",
       "        vertical-align: top;\n",
       "    }\n",
       "\n",
       "    .dataframe thead th {\n",
       "        text-align: right;\n",
       "    }\n",
       "</style>\n",
       "<table border=\"1\" class=\"dataframe\">\n",
       "  <thead>\n",
       "    <tr style=\"text-align: right;\">\n",
       "      <th></th>\n",
       "      <th>Gestor</th>\n",
       "      <th>Canal de Origem</th>\n",
       "      <th>Região</th>\n",
       "      <th>UF</th>\n",
       "      <th>Cidade</th>\n",
       "      <th>Sexo</th>\n",
       "      <th>Faixa Etária</th>\n",
       "      <th>Ano Abertura</th>\n",
       "      <th>Mês Abertura</th>\n",
       "      <th>Data Abertura</th>\n",
       "      <th>...</th>\n",
       "      <th>Assunto</th>\n",
       "      <th>Grupo Problema</th>\n",
       "      <th>Problema</th>\n",
       "      <th>Como Comprou Contratou</th>\n",
       "      <th>Procurou Empresa</th>\n",
       "      <th>Respondida</th>\n",
       "      <th>Situação</th>\n",
       "      <th>Avaliação Reclamação</th>\n",
       "      <th>Nota do Consumidor</th>\n",
       "      <th>Análise da Recusa</th>\n",
       "    </tr>\n",
       "  </thead>\n",
       "  <tbody>\n",
       "    <tr>\n",
       "      <th>0</th>\n",
       "      <td>Secretaria Nacional do Consumidor</td>\n",
       "      <td>Plataforma Web</td>\n",
       "      <td>NE</td>\n",
       "      <td>AL</td>\n",
       "      <td>Maceió</td>\n",
       "      <td>F</td>\n",
       "      <td>entre 61 a 70 anos</td>\n",
       "      <td>2024</td>\n",
       "      <td>10</td>\n",
       "      <td>01/10/2024</td>\n",
       "      <td>...</td>\n",
       "      <td>Atendimento Bancário</td>\n",
       "      <td>Atendimento / SAC</td>\n",
       "      <td>Descumprimento do estatuto do idoso</td>\n",
       "      <td>Telefone</td>\n",
       "      <td>S</td>\n",
       "      <td>S</td>\n",
       "      <td>Finalizada avaliada</td>\n",
       "      <td>Resolvida</td>\n",
       "      <td>5.0</td>\n",
       "      <td>NaN</td>\n",
       "    </tr>\n",
       "    <tr>\n",
       "      <th>1</th>\n",
       "      <td>Secretaria Nacional do Consumidor</td>\n",
       "      <td>Plataforma Web</td>\n",
       "      <td>NE</td>\n",
       "      <td>AL</td>\n",
       "      <td>Maceió</td>\n",
       "      <td>F</td>\n",
       "      <td>entre 61 a 70 anos</td>\n",
       "      <td>2024</td>\n",
       "      <td>10</td>\n",
       "      <td>01/10/2024</td>\n",
       "      <td>...</td>\n",
       "      <td>Atendimento Bancário</td>\n",
       "      <td>Atendimento / SAC</td>\n",
       "      <td>Descumprimento do estatuto do idoso</td>\n",
       "      <td>Telefone</td>\n",
       "      <td>S</td>\n",
       "      <td>S</td>\n",
       "      <td>Finalizada avaliada</td>\n",
       "      <td>Resolvida</td>\n",
       "      <td>5.0</td>\n",
       "      <td>NaN</td>\n",
       "    </tr>\n",
       "    <tr>\n",
       "      <th>2</th>\n",
       "      <td>Secretaria de Justiça e Direitos Humanos - Sec...</td>\n",
       "      <td>Plataforma Web</td>\n",
       "      <td>NE</td>\n",
       "      <td>PE</td>\n",
       "      <td>Olinda</td>\n",
       "      <td>F</td>\n",
       "      <td>entre 41 a 50 anos</td>\n",
       "      <td>2024</td>\n",
       "      <td>10</td>\n",
       "      <td>01/10/2024</td>\n",
       "      <td>...</td>\n",
       "      <td>Aplicativo de mobilidade urbana</td>\n",
       "      <td>Cobrança / Contestação</td>\n",
       "      <td>Cobrança por serviço não fornecido/ em desacor...</td>\n",
       "      <td>Internet</td>\n",
       "      <td>S</td>\n",
       "      <td>S</td>\n",
       "      <td>Finalizada avaliada</td>\n",
       "      <td>Não Resolvida</td>\n",
       "      <td>1.0</td>\n",
       "      <td>NaN</td>\n",
       "    </tr>\n",
       "    <tr>\n",
       "      <th>3</th>\n",
       "      <td>Superintendência de Proteção e Defesa do Consu...</td>\n",
       "      <td>Plataforma Web</td>\n",
       "      <td>NE</td>\n",
       "      <td>BA</td>\n",
       "      <td>Salvador</td>\n",
       "      <td>M</td>\n",
       "      <td>entre 21 a 30 anos</td>\n",
       "      <td>2024</td>\n",
       "      <td>10</td>\n",
       "      <td>01/10/2024</td>\n",
       "      <td>...</td>\n",
       "      <td>Cartão de Crédito / Cartão de Débito / Cartão ...</td>\n",
       "      <td>Informação</td>\n",
       "      <td>Informações incompletas / inadequadas sobre o ...</td>\n",
       "      <td>Internet</td>\n",
       "      <td>S</td>\n",
       "      <td>S</td>\n",
       "      <td>Finalizada avaliada</td>\n",
       "      <td>Resolvida</td>\n",
       "      <td>5.0</td>\n",
       "      <td>NaN</td>\n",
       "    </tr>\n",
       "    <tr>\n",
       "      <th>4</th>\n",
       "      <td>Fundação de Proteção e Defesa do Consumidor</td>\n",
       "      <td>Plataforma Web</td>\n",
       "      <td>SE</td>\n",
       "      <td>SP</td>\n",
       "      <td>Guarujá</td>\n",
       "      <td>M</td>\n",
       "      <td>entre 51 a 60 anos</td>\n",
       "      <td>2024</td>\n",
       "      <td>10</td>\n",
       "      <td>01/10/2024</td>\n",
       "      <td>...</td>\n",
       "      <td>Água e Esgoto</td>\n",
       "      <td>Atendimento / SAC</td>\n",
       "      <td>Má qualidade no atendimento (descortesia / des...</td>\n",
       "      <td>Loja física</td>\n",
       "      <td>S</td>\n",
       "      <td>S</td>\n",
       "      <td>Finalizada avaliada</td>\n",
       "      <td>Resolvida</td>\n",
       "      <td>3.0</td>\n",
       "      <td>NaN</td>\n",
       "    </tr>\n",
       "    <tr>\n",
       "      <th>...</th>\n",
       "      <td>...</td>\n",
       "      <td>...</td>\n",
       "      <td>...</td>\n",
       "      <td>...</td>\n",
       "      <td>...</td>\n",
       "      <td>...</td>\n",
       "      <td>...</td>\n",
       "      <td>...</td>\n",
       "      <td>...</td>\n",
       "      <td>...</td>\n",
       "      <td>...</td>\n",
       "      <td>...</td>\n",
       "      <td>...</td>\n",
       "      <td>...</td>\n",
       "      <td>...</td>\n",
       "      <td>...</td>\n",
       "      <td>...</td>\n",
       "      <td>...</td>\n",
       "      <td>...</td>\n",
       "      <td>...</td>\n",
       "      <td>...</td>\n",
       "    </tr>\n",
       "    <tr>\n",
       "      <th>105013</th>\n",
       "      <td>Programa Estadual de Proteção e Defesa do Cons...</td>\n",
       "      <td>Plataforma Web</td>\n",
       "      <td>SE</td>\n",
       "      <td>MG</td>\n",
       "      <td>Ibirité</td>\n",
       "      <td>M</td>\n",
       "      <td>entre 21 a 30 anos</td>\n",
       "      <td>2024</td>\n",
       "      <td>12</td>\n",
       "      <td>31/12/2024</td>\n",
       "      <td>...</td>\n",
       "      <td>Energia Elétrica</td>\n",
       "      <td>Atendimento / SAC</td>\n",
       "      <td>SAC - Dificuldade de contato / acesso</td>\n",
       "      <td>Internet</td>\n",
       "      <td>N</td>\n",
       "      <td>S</td>\n",
       "      <td>Finalizada avaliada</td>\n",
       "      <td>Resolvida</td>\n",
       "      <td>5.0</td>\n",
       "      <td>NaN</td>\n",
       "    </tr>\n",
       "    <tr>\n",
       "      <th>105014</th>\n",
       "      <td>Programa Estadual de Proteção e Defesa do Cons...</td>\n",
       "      <td>Plataforma Web</td>\n",
       "      <td>SE</td>\n",
       "      <td>MG</td>\n",
       "      <td>Ibirité</td>\n",
       "      <td>M</td>\n",
       "      <td>entre 21 a 30 anos</td>\n",
       "      <td>2024</td>\n",
       "      <td>12</td>\n",
       "      <td>31/12/2024</td>\n",
       "      <td>...</td>\n",
       "      <td>Energia Elétrica</td>\n",
       "      <td>Atendimento / SAC</td>\n",
       "      <td>SAC - Descortesia / despreparo / demora</td>\n",
       "      <td>Internet</td>\n",
       "      <td>N</td>\n",
       "      <td>S</td>\n",
       "      <td>Finalizada avaliada</td>\n",
       "      <td>Resolvida</td>\n",
       "      <td>5.0</td>\n",
       "      <td>NaN</td>\n",
       "    </tr>\n",
       "    <tr>\n",
       "      <th>105015</th>\n",
       "      <td>Programa Estadual de Proteção e Defesa do Cons...</td>\n",
       "      <td>Plataforma Web</td>\n",
       "      <td>SE</td>\n",
       "      <td>MG</td>\n",
       "      <td>Ibirité</td>\n",
       "      <td>M</td>\n",
       "      <td>entre 21 a 30 anos</td>\n",
       "      <td>2024</td>\n",
       "      <td>12</td>\n",
       "      <td>31/12/2024</td>\n",
       "      <td>...</td>\n",
       "      <td>Energia Elétrica</td>\n",
       "      <td>Atendimento / SAC</td>\n",
       "      <td>SAC - Descortesia / despreparo / demora</td>\n",
       "      <td>Internet</td>\n",
       "      <td>N</td>\n",
       "      <td>S</td>\n",
       "      <td>Finalizada avaliada</td>\n",
       "      <td>Resolvida</td>\n",
       "      <td>5.0</td>\n",
       "      <td>NaN</td>\n",
       "    </tr>\n",
       "    <tr>\n",
       "      <th>105016</th>\n",
       "      <td>Programa Estadual de Proteção e Defesa do Cons...</td>\n",
       "      <td>Plataforma Web</td>\n",
       "      <td>SE</td>\n",
       "      <td>MG</td>\n",
       "      <td>Ibirité</td>\n",
       "      <td>M</td>\n",
       "      <td>entre 21 a 30 anos</td>\n",
       "      <td>2024</td>\n",
       "      <td>12</td>\n",
       "      <td>31/12/2024</td>\n",
       "      <td>...</td>\n",
       "      <td>Energia Elétrica</td>\n",
       "      <td>Atendimento / SAC</td>\n",
       "      <td>SAC - Descortesia / despreparo / demora</td>\n",
       "      <td>Internet</td>\n",
       "      <td>N</td>\n",
       "      <td>S</td>\n",
       "      <td>Finalizada avaliada</td>\n",
       "      <td>Resolvida</td>\n",
       "      <td>5.0</td>\n",
       "      <td>NaN</td>\n",
       "    </tr>\n",
       "    <tr>\n",
       "      <th>105017</th>\n",
       "      <td>Programa Estadual de Proteção e Defesa do Cons...</td>\n",
       "      <td>Plataforma Web</td>\n",
       "      <td>SE</td>\n",
       "      <td>MG</td>\n",
       "      <td>Ibirité</td>\n",
       "      <td>M</td>\n",
       "      <td>entre 21 a 30 anos</td>\n",
       "      <td>2024</td>\n",
       "      <td>12</td>\n",
       "      <td>31/12/2024</td>\n",
       "      <td>...</td>\n",
       "      <td>Energia Elétrica</td>\n",
       "      <td>Atendimento / SAC</td>\n",
       "      <td>SAC - Descortesia / despreparo / demora</td>\n",
       "      <td>Internet</td>\n",
       "      <td>N</td>\n",
       "      <td>S</td>\n",
       "      <td>Finalizada avaliada</td>\n",
       "      <td>Resolvida</td>\n",
       "      <td>5.0</td>\n",
       "      <td>NaN</td>\n",
       "    </tr>\n",
       "  </tbody>\n",
       "</table>\n",
       "<p>105018 rows × 30 columns</p>\n",
       "</div>"
      ],
      "text/plain": [
       "                                                   Gestor Canal de Origem  \\\n",
       "0                       Secretaria Nacional do Consumidor  Plataforma Web   \n",
       "1                       Secretaria Nacional do Consumidor  Plataforma Web   \n",
       "2       Secretaria de Justiça e Direitos Humanos - Sec...  Plataforma Web   \n",
       "3       Superintendência de Proteção e Defesa do Consu...  Plataforma Web   \n",
       "4             Fundação de Proteção e Defesa do Consumidor  Plataforma Web   \n",
       "...                                                   ...             ...   \n",
       "105013  Programa Estadual de Proteção e Defesa do Cons...  Plataforma Web   \n",
       "105014  Programa Estadual de Proteção e Defesa do Cons...  Plataforma Web   \n",
       "105015  Programa Estadual de Proteção e Defesa do Cons...  Plataforma Web   \n",
       "105016  Programa Estadual de Proteção e Defesa do Cons...  Plataforma Web   \n",
       "105017  Programa Estadual de Proteção e Defesa do Cons...  Plataforma Web   \n",
       "\n",
       "       Região  UF    Cidade Sexo        Faixa Etária  Ano Abertura  \\\n",
       "0          NE  AL    Maceió    F  entre 61 a 70 anos          2024   \n",
       "1          NE  AL    Maceió    F  entre 61 a 70 anos          2024   \n",
       "2          NE  PE    Olinda    F  entre 41 a 50 anos          2024   \n",
       "3          NE  BA  Salvador    M  entre 21 a 30 anos          2024   \n",
       "4          SE  SP   Guarujá    M  entre 51 a 60 anos          2024   \n",
       "...       ...  ..       ...  ...                 ...           ...   \n",
       "105013     SE  MG   Ibirité    M  entre 21 a 30 anos          2024   \n",
       "105014     SE  MG   Ibirité    M  entre 21 a 30 anos          2024   \n",
       "105015     SE  MG   Ibirité    M  entre 21 a 30 anos          2024   \n",
       "105016     SE  MG   Ibirité    M  entre 21 a 30 anos          2024   \n",
       "105017     SE  MG   Ibirité    M  entre 21 a 30 anos          2024   \n",
       "\n",
       "        Mês Abertura Data Abertura  ...  \\\n",
       "0                 10    01/10/2024  ...   \n",
       "1                 10    01/10/2024  ...   \n",
       "2                 10    01/10/2024  ...   \n",
       "3                 10    01/10/2024  ...   \n",
       "4                 10    01/10/2024  ...   \n",
       "...              ...           ...  ...   \n",
       "105013            12    31/12/2024  ...   \n",
       "105014            12    31/12/2024  ...   \n",
       "105015            12    31/12/2024  ...   \n",
       "105016            12    31/12/2024  ...   \n",
       "105017            12    31/12/2024  ...   \n",
       "\n",
       "                                                  Assunto  \\\n",
       "0                                    Atendimento Bancário   \n",
       "1                                    Atendimento Bancário   \n",
       "2                         Aplicativo de mobilidade urbana   \n",
       "3       Cartão de Crédito / Cartão de Débito / Cartão ...   \n",
       "4                                           Água e Esgoto   \n",
       "...                                                   ...   \n",
       "105013                                   Energia Elétrica   \n",
       "105014                                   Energia Elétrica   \n",
       "105015                                   Energia Elétrica   \n",
       "105016                                   Energia Elétrica   \n",
       "105017                                   Energia Elétrica   \n",
       "\n",
       "                Grupo Problema  \\\n",
       "0            Atendimento / SAC   \n",
       "1            Atendimento / SAC   \n",
       "2       Cobrança / Contestação   \n",
       "3                   Informação   \n",
       "4            Atendimento / SAC   \n",
       "...                        ...   \n",
       "105013       Atendimento / SAC   \n",
       "105014       Atendimento / SAC   \n",
       "105015       Atendimento / SAC   \n",
       "105016       Atendimento / SAC   \n",
       "105017       Atendimento / SAC   \n",
       "\n",
       "                                                 Problema  \\\n",
       "0                     Descumprimento do estatuto do idoso   \n",
       "1                     Descumprimento do estatuto do idoso   \n",
       "2       Cobrança por serviço não fornecido/ em desacor...   \n",
       "3       Informações incompletas / inadequadas sobre o ...   \n",
       "4       Má qualidade no atendimento (descortesia / des...   \n",
       "...                                                   ...   \n",
       "105013              SAC - Dificuldade de contato / acesso   \n",
       "105014            SAC - Descortesia / despreparo / demora   \n",
       "105015            SAC - Descortesia / despreparo / demora   \n",
       "105016            SAC - Descortesia / despreparo / demora   \n",
       "105017            SAC - Descortesia / despreparo / demora   \n",
       "\n",
       "       Como Comprou Contratou Procurou Empresa  Respondida  \\\n",
       "0                    Telefone                S           S   \n",
       "1                    Telefone                S           S   \n",
       "2                    Internet                S           S   \n",
       "3                    Internet                S           S   \n",
       "4                 Loja física                S           S   \n",
       "...                       ...              ...         ...   \n",
       "105013               Internet                N           S   \n",
       "105014               Internet                N           S   \n",
       "105015               Internet                N           S   \n",
       "105016               Internet                N           S   \n",
       "105017               Internet                N           S   \n",
       "\n",
       "                   Situação Avaliação Reclamação Nota do Consumidor  \\\n",
       "0       Finalizada avaliada            Resolvida                5.0   \n",
       "1       Finalizada avaliada            Resolvida                5.0   \n",
       "2       Finalizada avaliada        Não Resolvida                1.0   \n",
       "3       Finalizada avaliada            Resolvida                5.0   \n",
       "4       Finalizada avaliada            Resolvida                3.0   \n",
       "...                     ...                  ...                ...   \n",
       "105013  Finalizada avaliada            Resolvida                5.0   \n",
       "105014  Finalizada avaliada            Resolvida                5.0   \n",
       "105015  Finalizada avaliada            Resolvida                5.0   \n",
       "105016  Finalizada avaliada            Resolvida                5.0   \n",
       "105017  Finalizada avaliada            Resolvida                5.0   \n",
       "\n",
       "       Análise da Recusa  \n",
       "0                    NaN  \n",
       "1                    NaN  \n",
       "2                    NaN  \n",
       "3                    NaN  \n",
       "4                    NaN  \n",
       "...                  ...  \n",
       "105013               NaN  \n",
       "105014               NaN  \n",
       "105015               NaN  \n",
       "105016               NaN  \n",
       "105017               NaN  \n",
       "\n",
       "[105018 rows x 30 columns]"
      ]
     },
     "execution_count": 29,
     "metadata": {},
     "output_type": "execute_result"
    }
   ],
   "source": [
    "df_data"
   ]
  },
  {
   "cell_type": "markdown",
   "id": "0025a4d2-eeb9-4ac8-9874-7aa5cc80fd94",
   "metadata": {},
   "source": [
    "Observe que o índice do DataFrame `df_data` não possui uma coluna especifica para ele. Para recuperar o index no Pandas, basta utilizar o método `index`:"
   ]
  },
  {
   "cell_type": "code",
   "execution_count": 5,
   "id": "ddb99a79-78ba-4d22-bda5-5a79e1846bc5",
   "metadata": {},
   "outputs": [
    {
     "data": {
      "text/plain": [
       "RangeIndex(start=0, stop=105018, step=1)"
      ]
     },
     "execution_count": 5,
     "metadata": {},
     "output_type": "execute_result"
    }
   ],
   "source": [
    "df_data.index"
   ]
  },
  {
   "cell_type": "markdown",
   "id": "518fc1ad-1e06-4c84-905b-661abb1527ab",
   "metadata": {},
   "source": [
    "### DataFrame com índices textuais (Labels)"
   ]
  },
  {
   "cell_type": "markdown",
   "id": "1344b066-a4b2-4152-86e7-0e3c3be72fa6",
   "metadata": {},
   "source": [
    "Um **índice textual** no pandas é quando usamos valores de texto (strings) como índice em um DataFrame ou Series. Isso facilita buscas e manipulações, tornando os dados mais legíveis e organizados."
   ]
  },
  {
   "cell_type": "code",
   "execution_count": 47,
   "id": "1f07cb25-cce5-41ee-9f7d-956f1537ba59",
   "metadata": {},
   "outputs": [],
   "source": [
    "satisfacao_labels = pd.DataFrame({\n",
    "    'bom': [50,21,100],\n",
    "    'ruim': [131,2,30],\n",
    "    'pessimo': [30,20,1]\n",
    "}, index = ['Ford','volkswagen', 'BMW'])"
   ]
  },
  {
   "cell_type": "code",
   "execution_count": 7,
   "id": "bc1da00e-1a24-469d-bfd6-ee16fd3b6378",
   "metadata": {},
   "outputs": [
    {
     "data": {
      "text/html": [
       "<div>\n",
       "<style scoped>\n",
       "    .dataframe tbody tr th:only-of-type {\n",
       "        vertical-align: middle;\n",
       "    }\n",
       "\n",
       "    .dataframe tbody tr th {\n",
       "        vertical-align: top;\n",
       "    }\n",
       "\n",
       "    .dataframe thead th {\n",
       "        text-align: right;\n",
       "    }\n",
       "</style>\n",
       "<table border=\"1\" class=\"dataframe\">\n",
       "  <thead>\n",
       "    <tr style=\"text-align: right;\">\n",
       "      <th></th>\n",
       "      <th>bom</th>\n",
       "      <th>ruim</th>\n",
       "      <th>pessimo</th>\n",
       "    </tr>\n",
       "  </thead>\n",
       "  <tbody>\n",
       "    <tr>\n",
       "      <th>Ford</th>\n",
       "      <td>50</td>\n",
       "      <td>131</td>\n",
       "      <td>30</td>\n",
       "    </tr>\n",
       "    <tr>\n",
       "      <th>volkswagen</th>\n",
       "      <td>21</td>\n",
       "      <td>2</td>\n",
       "      <td>20</td>\n",
       "    </tr>\n",
       "    <tr>\n",
       "      <th>BMW</th>\n",
       "      <td>100</td>\n",
       "      <td>30</td>\n",
       "      <td>1</td>\n",
       "    </tr>\n",
       "  </tbody>\n",
       "</table>\n",
       "</div>"
      ],
      "text/plain": [
       "            bom  ruim  pessimo\n",
       "Ford         50   131       30\n",
       "volkswagen   21     2       20\n",
       "BMW         100    30        1"
      ]
     },
     "execution_count": 7,
     "metadata": {},
     "output_type": "execute_result"
    }
   ],
   "source": [
    "satisfacao_labels"
   ]
  },
  {
   "cell_type": "code",
   "execution_count": 31,
   "id": "2ffe2f79-1ebb-4b26-8efc-a410f76bccca",
   "metadata": {},
   "outputs": [
    {
     "data": {
      "text/plain": [
       "Index(['Ford', 'volkswagen', 'BMW'], dtype='object')"
      ]
     },
     "execution_count": 31,
     "metadata": {},
     "output_type": "execute_result"
    }
   ],
   "source": [
    "satisfacao_labels.index"
   ]
  },
  {
   "cell_type": "markdown",
   "id": "6732bcef-cbd5-4ddb-8780-e05cb09855a6",
   "metadata": {},
   "source": [
    "### DataFrame com índices multi-nível (MultiIndex)"
   ]
  },
  {
   "cell_type": "markdown",
   "id": "7d987f98-0d9b-4a2e-8fe9-81457aafebb4",
   "metadata": {},
   "source": [
    "O MultiIndex no pandas permite criar índices hierárquicos, ou seja, um índice composto por múltiplas colunas. Isso é útil para organizar e acessar dados estruturados de forma mais eficiente."
   ]
  },
  {
   "cell_type": "markdown",
   "id": "421430f7-b98a-48f2-a8ae-05639f297203",
   "metadata": {},
   "source": [
    "Podemos definir múltiplas colunas como índice usando `set_index()`"
   ]
  },
  {
   "cell_type": "code",
   "execution_count": 9,
   "id": "19c15481-b207-4be3-a658-62d7095aaeb2",
   "metadata": {},
   "outputs": [
    {
     "data": {
      "text/html": [
       "<div>\n",
       "<style scoped>\n",
       "    .dataframe tbody tr th:only-of-type {\n",
       "        vertical-align: middle;\n",
       "    }\n",
       "\n",
       "    .dataframe tbody tr th {\n",
       "        vertical-align: top;\n",
       "    }\n",
       "\n",
       "    .dataframe thead th {\n",
       "        text-align: right;\n",
       "    }\n",
       "</style>\n",
       "<table border=\"1\" class=\"dataframe\">\n",
       "  <thead>\n",
       "    <tr style=\"text-align: right;\">\n",
       "      <th></th>\n",
       "      <th></th>\n",
       "      <th>vendas</th>\n",
       "    </tr>\n",
       "    <tr>\n",
       "      <th>categoria</th>\n",
       "      <th>produto</th>\n",
       "      <th></th>\n",
       "    </tr>\n",
       "  </thead>\n",
       "  <tbody>\n",
       "    <tr>\n",
       "      <th rowspan=\"2\" valign=\"top\">A</th>\n",
       "      <th>P1</th>\n",
       "      <td>100</td>\n",
       "    </tr>\n",
       "    <tr>\n",
       "      <th>P2</th>\n",
       "      <td>150</td>\n",
       "    </tr>\n",
       "    <tr>\n",
       "      <th rowspan=\"2\" valign=\"top\">B</th>\n",
       "      <th>P1</th>\n",
       "      <td>200</td>\n",
       "    </tr>\n",
       "    <tr>\n",
       "      <th>P2</th>\n",
       "      <td>250</td>\n",
       "    </tr>\n",
       "  </tbody>\n",
       "</table>\n",
       "</div>"
      ],
      "text/plain": [
       "                   vendas\n",
       "categoria produto        \n",
       "A         P1          100\n",
       "          P2          150\n",
       "B         P1          200\n",
       "          P2          250"
      ]
     },
     "execution_count": 9,
     "metadata": {},
     "output_type": "execute_result"
    }
   ],
   "source": [
    "MultiIndex = pd.DataFrame({\n",
    "    'categoria': ['A', 'A', 'B', 'B'],\n",
    "    'produto': ['P1', 'P2', 'P1', 'P2'],\n",
    "    'vendas': [100, 150, 200, 250]\n",
    "})\n",
    "\n",
    "MultiIndex.set_index(['categoria', 'produto'], inplace=True)\n",
    "\n",
    "MultiIndex"
   ]
  },
  {
   "cell_type": "code",
   "execution_count": 30,
   "id": "8c82878e-372f-4c43-a339-73c56160c350",
   "metadata": {},
   "outputs": [
    {
     "data": {
      "text/plain": [
       "MultiIndex([('A', 'P1'),\n",
       "            ('A', 'P2'),\n",
       "            ('B', 'P1'),\n",
       "            ('B', 'P2')],\n",
       "           names=['categoria', 'produto'])"
      ]
     },
     "execution_count": 30,
     "metadata": {},
     "output_type": "execute_result"
    }
   ],
   "source": [
    "MultiIndex.index"
   ]
  },
  {
   "cell_type": "markdown",
   "id": "ed28a9f9-6d1f-418f-b8e2-9b864966c3b2",
   "metadata": {},
   "source": [
    "Para resetar o índex ao padrão original, basta usar `MultiIndex.reset_index(inplace=True)`"
   ]
  },
  {
   "cell_type": "markdown",
   "id": "b870c645-38e8-425f-93ea-2a3799cefcff",
   "metadata": {},
   "source": [
    "# Seleção de Índex"
   ]
  },
  {
   "cell_type": "markdown",
   "id": "869d368a-3adf-4853-bd6c-a5163bd33b0b",
   "metadata": {},
   "source": [
    "A seleção de índice nos permite acessar, organizar e manipular os dados de um DataFrame. O índice funciona como um identificador único para as linhas, possibilitando assim buscas rápidas, segmentação e operações estruturadas."
   ]
  },
  {
   "cell_type": "markdown",
   "id": "360a91a6-2845-4336-a46a-8b483ca05911",
   "metadata": {},
   "source": [
    "### Seleção baseada em índices"
   ]
  },
  {
   "cell_type": "markdown",
   "id": "8154db72-c0a1-49a7-8397-fac497cf2f81",
   "metadata": {},
   "source": [
    "Para mostrar linhas especificas de um DataFrame, usa-se:"
   ]
  },
  {
   "cell_type": "markdown",
   "id": "70c14bd6-96ff-43be-a9d1-cb89f0eb6eaa",
   "metadata": {},
   "source": [
    "`iloc` : Seleciona elementos de um DataFrame, baseando-se em **índices númericos**"
   ]
  },
  {
   "cell_type": "markdown",
   "id": "d7e7b741-19b4-47b0-b12e-dfaa7c97fdbb",
   "metadata": {},
   "source": [
    "#### Selecionando **uma** amostra/linha"
   ]
  },
  {
   "cell_type": "code",
   "execution_count": 10,
   "id": "33d3789b-df5e-4faf-9f52-0ce735d5387b",
   "metadata": {
    "scrolled": true
   },
   "outputs": [
    {
     "data": {
      "text/plain": [
       "Gestor                                  Secretaria Nacional do Consumidor\n",
       "Canal de Origem                                            Plataforma Web\n",
       "Região                                                                 NE\n",
       "UF                                                                     AL\n",
       "Cidade                                                             Maceió\n",
       "Sexo                                                                    F\n",
       "Faixa Etária                                           entre 61 a 70 anos\n",
       "Ano Abertura                                                         2024\n",
       "Mês Abertura                                                           10\n",
       "Data Abertura                                                  01/10/2024\n",
       "Data Resposta                                                  09/10/2024\n",
       "Data Análise                                                          NaN\n",
       "Data Recusa                                                           NaN\n",
       "Data Finalização                                               2024-12-12\n",
       "Prazo Resposta                                                 11/10/2024\n",
       "Prazo Analise Gestor                                                  NaN\n",
       "Tempo Resposta                                                        8.0\n",
       "Nome Fantasia                                              Banco Bradesco\n",
       "Segmento de Mercado       Bancos, Financeiras e Administradoras de Cartão\n",
       "Área                                                 Serviços Financeiros\n",
       "Assunto                                              Atendimento Bancário\n",
       "Grupo Problema                                          Atendimento / SAC\n",
       "Problema                              Descumprimento do estatuto do idoso\n",
       "Como Comprou Contratou                                           Telefone\n",
       "Procurou Empresa                                                        S\n",
       "Respondida                                                              S\n",
       "Situação                                              Finalizada avaliada\n",
       "Avaliação Reclamação                                            Resolvida\n",
       "Nota do Consumidor                                                    5.0\n",
       "Análise da Recusa                                                     NaN\n",
       "Name: 1, dtype: object"
      ]
     },
     "execution_count": 10,
     "metadata": {},
     "output_type": "execute_result"
    }
   ],
   "source": [
    "df_data.iloc[1] ## Extraíndo a linha com o índice 1"
   ]
  },
  {
   "cell_type": "code",
   "execution_count": 11,
   "id": "bc6429b9-bd93-45a3-b473-6efd7210497d",
   "metadata": {},
   "outputs": [
    {
     "data": {
      "text/plain": [
       "'entre 61 a 70 anos'"
      ]
     },
     "execution_count": 11,
     "metadata": {},
     "output_type": "execute_result"
    }
   ],
   "source": [
    "df_data.iloc[1,6] ## Extraíndo a linha com índice 1 e coluna 6 (Faixa Etária)"
   ]
  },
  {
   "cell_type": "markdown",
   "id": "e3cf7541-49d5-4dfb-b8ac-0b6247563d35",
   "metadata": {},
   "source": [
    "#### Selecionando **múltiplas** amostras/linhas"
   ]
  },
  {
   "cell_type": "markdown",
   "id": "68789ff3-c953-4eae-b86b-71560c09622a",
   "metadata": {},
   "source": [
    "Uma das formas de se fazer isso é utilizando **slicing**, passando um intervalo dos nossos valores"
   ]
  },
  {
   "cell_type": "code",
   "execution_count": 12,
   "id": "69c04457-841e-4bf7-beb4-1a9715a29cee",
   "metadata": {
    "scrolled": true
   },
   "outputs": [
    {
     "data": {
      "text/html": [
       "<div>\n",
       "<style scoped>\n",
       "    .dataframe tbody tr th:only-of-type {\n",
       "        vertical-align: middle;\n",
       "    }\n",
       "\n",
       "    .dataframe tbody tr th {\n",
       "        vertical-align: top;\n",
       "    }\n",
       "\n",
       "    .dataframe thead th {\n",
       "        text-align: right;\n",
       "    }\n",
       "</style>\n",
       "<table border=\"1\" class=\"dataframe\">\n",
       "  <thead>\n",
       "    <tr style=\"text-align: right;\">\n",
       "      <th></th>\n",
       "      <th>Gestor</th>\n",
       "      <th>Canal de Origem</th>\n",
       "      <th>Região</th>\n",
       "      <th>UF</th>\n",
       "      <th>Cidade</th>\n",
       "      <th>Sexo</th>\n",
       "      <th>Faixa Etária</th>\n",
       "      <th>Ano Abertura</th>\n",
       "      <th>Mês Abertura</th>\n",
       "      <th>Data Abertura</th>\n",
       "      <th>...</th>\n",
       "      <th>Assunto</th>\n",
       "      <th>Grupo Problema</th>\n",
       "      <th>Problema</th>\n",
       "      <th>Como Comprou Contratou</th>\n",
       "      <th>Procurou Empresa</th>\n",
       "      <th>Respondida</th>\n",
       "      <th>Situação</th>\n",
       "      <th>Avaliação Reclamação</th>\n",
       "      <th>Nota do Consumidor</th>\n",
       "      <th>Análise da Recusa</th>\n",
       "    </tr>\n",
       "  </thead>\n",
       "  <tbody>\n",
       "    <tr>\n",
       "      <th>0</th>\n",
       "      <td>Secretaria Nacional do Consumidor</td>\n",
       "      <td>Plataforma Web</td>\n",
       "      <td>NE</td>\n",
       "      <td>AL</td>\n",
       "      <td>Maceió</td>\n",
       "      <td>F</td>\n",
       "      <td>entre 61 a 70 anos</td>\n",
       "      <td>2024</td>\n",
       "      <td>10</td>\n",
       "      <td>01/10/2024</td>\n",
       "      <td>...</td>\n",
       "      <td>Atendimento Bancário</td>\n",
       "      <td>Atendimento / SAC</td>\n",
       "      <td>Descumprimento do estatuto do idoso</td>\n",
       "      <td>Telefone</td>\n",
       "      <td>S</td>\n",
       "      <td>S</td>\n",
       "      <td>Finalizada avaliada</td>\n",
       "      <td>Resolvida</td>\n",
       "      <td>5.0</td>\n",
       "      <td>NaN</td>\n",
       "    </tr>\n",
       "    <tr>\n",
       "      <th>1</th>\n",
       "      <td>Secretaria Nacional do Consumidor</td>\n",
       "      <td>Plataforma Web</td>\n",
       "      <td>NE</td>\n",
       "      <td>AL</td>\n",
       "      <td>Maceió</td>\n",
       "      <td>F</td>\n",
       "      <td>entre 61 a 70 anos</td>\n",
       "      <td>2024</td>\n",
       "      <td>10</td>\n",
       "      <td>01/10/2024</td>\n",
       "      <td>...</td>\n",
       "      <td>Atendimento Bancário</td>\n",
       "      <td>Atendimento / SAC</td>\n",
       "      <td>Descumprimento do estatuto do idoso</td>\n",
       "      <td>Telefone</td>\n",
       "      <td>S</td>\n",
       "      <td>S</td>\n",
       "      <td>Finalizada avaliada</td>\n",
       "      <td>Resolvida</td>\n",
       "      <td>5.0</td>\n",
       "      <td>NaN</td>\n",
       "    </tr>\n",
       "    <tr>\n",
       "      <th>2</th>\n",
       "      <td>Secretaria de Justiça e Direitos Humanos - Sec...</td>\n",
       "      <td>Plataforma Web</td>\n",
       "      <td>NE</td>\n",
       "      <td>PE</td>\n",
       "      <td>Olinda</td>\n",
       "      <td>F</td>\n",
       "      <td>entre 41 a 50 anos</td>\n",
       "      <td>2024</td>\n",
       "      <td>10</td>\n",
       "      <td>01/10/2024</td>\n",
       "      <td>...</td>\n",
       "      <td>Aplicativo de mobilidade urbana</td>\n",
       "      <td>Cobrança / Contestação</td>\n",
       "      <td>Cobrança por serviço não fornecido/ em desacor...</td>\n",
       "      <td>Internet</td>\n",
       "      <td>S</td>\n",
       "      <td>S</td>\n",
       "      <td>Finalizada avaliada</td>\n",
       "      <td>Não Resolvida</td>\n",
       "      <td>1.0</td>\n",
       "      <td>NaN</td>\n",
       "    </tr>\n",
       "  </tbody>\n",
       "</table>\n",
       "<p>3 rows × 30 columns</p>\n",
       "</div>"
      ],
      "text/plain": [
       "                                              Gestor Canal de Origem Região  \\\n",
       "0                  Secretaria Nacional do Consumidor  Plataforma Web     NE   \n",
       "1                  Secretaria Nacional do Consumidor  Plataforma Web     NE   \n",
       "2  Secretaria de Justiça e Direitos Humanos - Sec...  Plataforma Web     NE   \n",
       "\n",
       "   UF  Cidade Sexo        Faixa Etária  Ano Abertura  Mês Abertura  \\\n",
       "0  AL  Maceió    F  entre 61 a 70 anos          2024            10   \n",
       "1  AL  Maceió    F  entre 61 a 70 anos          2024            10   \n",
       "2  PE  Olinda    F  entre 41 a 50 anos          2024            10   \n",
       "\n",
       "  Data Abertura  ...                          Assunto          Grupo Problema  \\\n",
       "0    01/10/2024  ...             Atendimento Bancário       Atendimento / SAC   \n",
       "1    01/10/2024  ...             Atendimento Bancário       Atendimento / SAC   \n",
       "2    01/10/2024  ...  Aplicativo de mobilidade urbana  Cobrança / Contestação   \n",
       "\n",
       "                                            Problema Como Comprou Contratou  \\\n",
       "0                Descumprimento do estatuto do idoso               Telefone   \n",
       "1                Descumprimento do estatuto do idoso               Telefone   \n",
       "2  Cobrança por serviço não fornecido/ em desacor...               Internet   \n",
       "\n",
       "  Procurou Empresa  Respondida             Situação Avaliação Reclamação  \\\n",
       "0                S           S  Finalizada avaliada            Resolvida   \n",
       "1                S           S  Finalizada avaliada            Resolvida   \n",
       "2                S           S  Finalizada avaliada        Não Resolvida   \n",
       "\n",
       "  Nota do Consumidor Análise da Recusa  \n",
       "0                5.0               NaN  \n",
       "1                5.0               NaN  \n",
       "2                1.0               NaN  \n",
       "\n",
       "[3 rows x 30 columns]"
      ]
     },
     "execution_count": 12,
     "metadata": {},
     "output_type": "execute_result"
    }
   ],
   "source": [
    "df_data.iloc[:3] ## Extraíndo as linhas com índice >= 0 e <= 2"
   ]
  },
  {
   "cell_type": "code",
   "execution_count": 13,
   "id": "4e5c79d1-4894-4905-9432-e408ce3cef2d",
   "metadata": {},
   "outputs": [
    {
     "data": {
      "text/html": [
       "<div>\n",
       "<style scoped>\n",
       "    .dataframe tbody tr th:only-of-type {\n",
       "        vertical-align: middle;\n",
       "    }\n",
       "\n",
       "    .dataframe tbody tr th {\n",
       "        vertical-align: top;\n",
       "    }\n",
       "\n",
       "    .dataframe thead th {\n",
       "        text-align: right;\n",
       "    }\n",
       "</style>\n",
       "<table border=\"1\" class=\"dataframe\">\n",
       "  <thead>\n",
       "    <tr style=\"text-align: right;\">\n",
       "      <th></th>\n",
       "      <th>Gestor</th>\n",
       "      <th>Canal de Origem</th>\n",
       "      <th>Região</th>\n",
       "      <th>UF</th>\n",
       "      <th>Cidade</th>\n",
       "      <th>Sexo</th>\n",
       "      <th>Faixa Etária</th>\n",
       "      <th>Ano Abertura</th>\n",
       "      <th>Mês Abertura</th>\n",
       "      <th>Data Abertura</th>\n",
       "      <th>...</th>\n",
       "      <th>Assunto</th>\n",
       "      <th>Grupo Problema</th>\n",
       "      <th>Problema</th>\n",
       "      <th>Como Comprou Contratou</th>\n",
       "      <th>Procurou Empresa</th>\n",
       "      <th>Respondida</th>\n",
       "      <th>Situação</th>\n",
       "      <th>Avaliação Reclamação</th>\n",
       "      <th>Nota do Consumidor</th>\n",
       "      <th>Análise da Recusa</th>\n",
       "    </tr>\n",
       "  </thead>\n",
       "  <tbody>\n",
       "    <tr>\n",
       "      <th>10</th>\n",
       "      <td>Programa Estadual de Proteção e Defesa do Cons...</td>\n",
       "      <td>Plataforma Web</td>\n",
       "      <td>SE</td>\n",
       "      <td>MG</td>\n",
       "      <td>Belo Horizonte</td>\n",
       "      <td>M</td>\n",
       "      <td>entre 31 a 40 anos</td>\n",
       "      <td>2024</td>\n",
       "      <td>10</td>\n",
       "      <td>01/10/2024</td>\n",
       "      <td>...</td>\n",
       "      <td>Cartão de Crédito / Cartão de Débito / Cartão ...</td>\n",
       "      <td>Cobrança / Contestação</td>\n",
       "      <td>Cobrança indevida / abusiva para alterar ou ca...</td>\n",
       "      <td>Internet</td>\n",
       "      <td>S</td>\n",
       "      <td>S</td>\n",
       "      <td>Finalizada avaliada</td>\n",
       "      <td>Não Resolvida</td>\n",
       "      <td>1.0</td>\n",
       "      <td>NaN</td>\n",
       "    </tr>\n",
       "    <tr>\n",
       "      <th>11</th>\n",
       "      <td>Superintendência de Proteção e Defesa do Consu...</td>\n",
       "      <td>Plataforma Web</td>\n",
       "      <td>NE</td>\n",
       "      <td>BA</td>\n",
       "      <td>Feira de Santana</td>\n",
       "      <td>F</td>\n",
       "      <td>entre 41 a 50 anos</td>\n",
       "      <td>2024</td>\n",
       "      <td>10</td>\n",
       "      <td>01/10/2024</td>\n",
       "      <td>...</td>\n",
       "      <td>Telefonia Móvel Pós-paga</td>\n",
       "      <td>Cobrança / Contestação</td>\n",
       "      <td>Cobrança indevida / abusiva para alterar ou ca...</td>\n",
       "      <td>Loja física</td>\n",
       "      <td>S</td>\n",
       "      <td>S</td>\n",
       "      <td>Finalizada avaliada</td>\n",
       "      <td>Resolvida</td>\n",
       "      <td>5.0</td>\n",
       "      <td>NaN</td>\n",
       "    </tr>\n",
       "    <tr>\n",
       "      <th>12</th>\n",
       "      <td>Secretaria Nacional do Consumidor</td>\n",
       "      <td>Plataforma Web</td>\n",
       "      <td>NE</td>\n",
       "      <td>RN</td>\n",
       "      <td>Natal</td>\n",
       "      <td>F</td>\n",
       "      <td>entre 31 a 40 anos</td>\n",
       "      <td>2024</td>\n",
       "      <td>10</td>\n",
       "      <td>01/10/2024</td>\n",
       "      <td>...</td>\n",
       "      <td>Serviços na internet (provedor, hospedagem, ap...</td>\n",
       "      <td>Vício de Qualidade</td>\n",
       "      <td>Suspensão ou desligamento indevido do serviço</td>\n",
       "      <td>Não comprei / contratei</td>\n",
       "      <td>S</td>\n",
       "      <td>S</td>\n",
       "      <td>Finalizada avaliada</td>\n",
       "      <td>Não Resolvida</td>\n",
       "      <td>1.0</td>\n",
       "      <td>Improcedente</td>\n",
       "    </tr>\n",
       "  </tbody>\n",
       "</table>\n",
       "<p>3 rows × 30 columns</p>\n",
       "</div>"
      ],
      "text/plain": [
       "                                               Gestor Canal de Origem Região  \\\n",
       "10  Programa Estadual de Proteção e Defesa do Cons...  Plataforma Web     SE   \n",
       "11  Superintendência de Proteção e Defesa do Consu...  Plataforma Web     NE   \n",
       "12                  Secretaria Nacional do Consumidor  Plataforma Web     NE   \n",
       "\n",
       "    UF            Cidade Sexo        Faixa Etária  Ano Abertura  Mês Abertura  \\\n",
       "10  MG    Belo Horizonte    M  entre 31 a 40 anos          2024            10   \n",
       "11  BA  Feira de Santana    F  entre 41 a 50 anos          2024            10   \n",
       "12  RN             Natal    F  entre 31 a 40 anos          2024            10   \n",
       "\n",
       "   Data Abertura  ...                                            Assunto  \\\n",
       "10    01/10/2024  ...  Cartão de Crédito / Cartão de Débito / Cartão ...   \n",
       "11    01/10/2024  ...                           Telefonia Móvel Pós-paga   \n",
       "12    01/10/2024  ...  Serviços na internet (provedor, hospedagem, ap...   \n",
       "\n",
       "            Grupo Problema                                           Problema  \\\n",
       "10  Cobrança / Contestação  Cobrança indevida / abusiva para alterar ou ca...   \n",
       "11  Cobrança / Contestação  Cobrança indevida / abusiva para alterar ou ca...   \n",
       "12      Vício de Qualidade      Suspensão ou desligamento indevido do serviço   \n",
       "\n",
       "     Como Comprou Contratou Procurou Empresa  Respondida             Situação  \\\n",
       "10                 Internet                S           S  Finalizada avaliada   \n",
       "11              Loja física                S           S  Finalizada avaliada   \n",
       "12  Não comprei / contratei                S           S  Finalizada avaliada   \n",
       "\n",
       "   Avaliação Reclamação Nota do Consumidor Análise da Recusa  \n",
       "10        Não Resolvida                1.0               NaN  \n",
       "11            Resolvida                5.0               NaN  \n",
       "12        Não Resolvida                1.0      Improcedente  \n",
       "\n",
       "[3 rows x 30 columns]"
      ]
     },
     "execution_count": 13,
     "metadata": {},
     "output_type": "execute_result"
    }
   ],
   "source": [
    "df_data.iloc[10:13] ## Extraíndo as linhas com índice >= 10 e <= 12"
   ]
  },
  {
   "cell_type": "code",
   "execution_count": 14,
   "id": "1663604e-79ed-4a22-89cc-b96a27db6319",
   "metadata": {},
   "outputs": [
    {
     "data": {
      "text/html": [
       "<div>\n",
       "<style scoped>\n",
       "    .dataframe tbody tr th:only-of-type {\n",
       "        vertical-align: middle;\n",
       "    }\n",
       "\n",
       "    .dataframe tbody tr th {\n",
       "        vertical-align: top;\n",
       "    }\n",
       "\n",
       "    .dataframe thead th {\n",
       "        text-align: right;\n",
       "    }\n",
       "</style>\n",
       "<table border=\"1\" class=\"dataframe\">\n",
       "  <thead>\n",
       "    <tr style=\"text-align: right;\">\n",
       "      <th></th>\n",
       "      <th>Gestor</th>\n",
       "      <th>Canal de Origem</th>\n",
       "      <th>Região</th>\n",
       "      <th>UF</th>\n",
       "      <th>Cidade</th>\n",
       "      <th>Sexo</th>\n",
       "      <th>Faixa Etária</th>\n",
       "      <th>Ano Abertura</th>\n",
       "      <th>Mês Abertura</th>\n",
       "      <th>Data Abertura</th>\n",
       "      <th>...</th>\n",
       "      <th>Assunto</th>\n",
       "      <th>Grupo Problema</th>\n",
       "      <th>Problema</th>\n",
       "      <th>Como Comprou Contratou</th>\n",
       "      <th>Procurou Empresa</th>\n",
       "      <th>Respondida</th>\n",
       "      <th>Situação</th>\n",
       "      <th>Avaliação Reclamação</th>\n",
       "      <th>Nota do Consumidor</th>\n",
       "      <th>Análise da Recusa</th>\n",
       "    </tr>\n",
       "  </thead>\n",
       "  <tbody>\n",
       "    <tr>\n",
       "      <th>1</th>\n",
       "      <td>Secretaria Nacional do Consumidor</td>\n",
       "      <td>Plataforma Web</td>\n",
       "      <td>NE</td>\n",
       "      <td>AL</td>\n",
       "      <td>Maceió</td>\n",
       "      <td>F</td>\n",
       "      <td>entre 61 a 70 anos</td>\n",
       "      <td>2024</td>\n",
       "      <td>10</td>\n",
       "      <td>01/10/2024</td>\n",
       "      <td>...</td>\n",
       "      <td>Atendimento Bancário</td>\n",
       "      <td>Atendimento / SAC</td>\n",
       "      <td>Descumprimento do estatuto do idoso</td>\n",
       "      <td>Telefone</td>\n",
       "      <td>S</td>\n",
       "      <td>S</td>\n",
       "      <td>Finalizada avaliada</td>\n",
       "      <td>Resolvida</td>\n",
       "      <td>5.0</td>\n",
       "      <td>NaN</td>\n",
       "    </tr>\n",
       "    <tr>\n",
       "      <th>5</th>\n",
       "      <td>Secretaria Adjunta de Proteção e Defesa dos Di...</td>\n",
       "      <td>Plataforma Web</td>\n",
       "      <td>CO</td>\n",
       "      <td>MT</td>\n",
       "      <td>Cuiabá</td>\n",
       "      <td>M</td>\n",
       "      <td>entre 21 a 30 anos</td>\n",
       "      <td>2024</td>\n",
       "      <td>10</td>\n",
       "      <td>01/10/2024</td>\n",
       "      <td>...</td>\n",
       "      <td>Demais aparelhos de comunicação</td>\n",
       "      <td>Cobrança / Contestação</td>\n",
       "      <td>Cobrança indevida / abusiva para alterar ou ca...</td>\n",
       "      <td>Internet</td>\n",
       "      <td>S</td>\n",
       "      <td>S</td>\n",
       "      <td>Finalizada avaliada</td>\n",
       "      <td>Resolvida</td>\n",
       "      <td>5.0</td>\n",
       "      <td>NaN</td>\n",
       "    </tr>\n",
       "    <tr>\n",
       "      <th>10</th>\n",
       "      <td>Programa Estadual de Proteção e Defesa do Cons...</td>\n",
       "      <td>Plataforma Web</td>\n",
       "      <td>SE</td>\n",
       "      <td>MG</td>\n",
       "      <td>Belo Horizonte</td>\n",
       "      <td>M</td>\n",
       "      <td>entre 31 a 40 anos</td>\n",
       "      <td>2024</td>\n",
       "      <td>10</td>\n",
       "      <td>01/10/2024</td>\n",
       "      <td>...</td>\n",
       "      <td>Cartão de Crédito / Cartão de Débito / Cartão ...</td>\n",
       "      <td>Cobrança / Contestação</td>\n",
       "      <td>Cobrança indevida / abusiva para alterar ou ca...</td>\n",
       "      <td>Internet</td>\n",
       "      <td>S</td>\n",
       "      <td>S</td>\n",
       "      <td>Finalizada avaliada</td>\n",
       "      <td>Não Resolvida</td>\n",
       "      <td>1.0</td>\n",
       "      <td>NaN</td>\n",
       "    </tr>\n",
       "  </tbody>\n",
       "</table>\n",
       "<p>3 rows × 30 columns</p>\n",
       "</div>"
      ],
      "text/plain": [
       "                                               Gestor Canal de Origem Região  \\\n",
       "1                   Secretaria Nacional do Consumidor  Plataforma Web     NE   \n",
       "5   Secretaria Adjunta de Proteção e Defesa dos Di...  Plataforma Web     CO   \n",
       "10  Programa Estadual de Proteção e Defesa do Cons...  Plataforma Web     SE   \n",
       "\n",
       "    UF          Cidade Sexo        Faixa Etária  Ano Abertura  Mês Abertura  \\\n",
       "1   AL          Maceió    F  entre 61 a 70 anos          2024            10   \n",
       "5   MT          Cuiabá    M  entre 21 a 30 anos          2024            10   \n",
       "10  MG  Belo Horizonte    M  entre 31 a 40 anos          2024            10   \n",
       "\n",
       "   Data Abertura  ...                                            Assunto  \\\n",
       "1     01/10/2024  ...                               Atendimento Bancário   \n",
       "5     01/10/2024  ...                    Demais aparelhos de comunicação   \n",
       "10    01/10/2024  ...  Cartão de Crédito / Cartão de Débito / Cartão ...   \n",
       "\n",
       "            Grupo Problema                                           Problema  \\\n",
       "1        Atendimento / SAC                Descumprimento do estatuto do idoso   \n",
       "5   Cobrança / Contestação  Cobrança indevida / abusiva para alterar ou ca...   \n",
       "10  Cobrança / Contestação  Cobrança indevida / abusiva para alterar ou ca...   \n",
       "\n",
       "   Como Comprou Contratou Procurou Empresa  Respondida             Situação  \\\n",
       "1                Telefone                S           S  Finalizada avaliada   \n",
       "5                Internet                S           S  Finalizada avaliada   \n",
       "10               Internet                S           S  Finalizada avaliada   \n",
       "\n",
       "   Avaliação Reclamação Nota do Consumidor Análise da Recusa  \n",
       "1             Resolvida                5.0               NaN  \n",
       "5             Resolvida                5.0               NaN  \n",
       "10        Não Resolvida                1.0               NaN  \n",
       "\n",
       "[3 rows x 30 columns]"
      ]
     },
     "execution_count": 14,
     "metadata": {},
     "output_type": "execute_result"
    }
   ],
   "source": [
    "df_data.iloc[[1,5,10]] ## Extraíndo as linhas com índice 1, 5 e 10 (Não precisa obedecer ordem númerica)"
   ]
  },
  {
   "cell_type": "markdown",
   "id": "fc1289df-2a9d-488e-9f1b-55a229bd79b4",
   "metadata": {},
   "source": [
    "### Seleção baseada em label"
   ]
  },
  {
   "cell_type": "markdown",
   "id": "d4cb86d3-b3c3-440d-b60c-60b360d848b6",
   "metadata": {},
   "source": [
    "Para seleccionar elementos do DataFrame pelo seu **rótulo/label** usa se:"
   ]
  },
  {
   "cell_type": "markdown",
   "id": "232b63b0-86e6-4f79-8eae-edc8cdae8bbe",
   "metadata": {},
   "source": [
    "`loc` : Seleciona elementos de um DataFrame, baseando-se em **rótulo**."
   ]
  },
  {
   "cell_type": "code",
   "execution_count": 32,
   "id": "ff746d58-eb9b-451a-b866-119301b39875",
   "metadata": {},
   "outputs": [
    {
     "data": {
      "text/plain": [
       "bom         50\n",
       "ruim       131\n",
       "pessimo     30\n",
       "Name: Ford, dtype: int64"
      ]
     },
     "execution_count": 32,
     "metadata": {},
     "output_type": "execute_result"
    }
   ],
   "source": [
    "satisfacao_labels.loc['Ford'] ## Retorna a linha cujo o rótulo do índice é 'Ford'"
   ]
  },
  {
   "cell_type": "markdown",
   "id": "1de68ecb-3061-4522-ad8d-3729e46d958d",
   "metadata": {},
   "source": [
    "Semelhante ao `iloc` podemos selecionar linha e coluna baseando no label"
   ]
  },
  {
   "cell_type": "code",
   "execution_count": 20,
   "id": "e36c3cde-78d6-4a7a-881b-d96d15182dfa",
   "metadata": {},
   "outputs": [
    {
     "data": {
      "text/plain": [
       "131"
      ]
     },
     "execution_count": 20,
     "metadata": {},
     "output_type": "execute_result"
    }
   ],
   "source": [
    "satisfacao_labels.loc['Ford','ruim']"
   ]
  },
  {
   "cell_type": "markdown",
   "id": "e21fd27d-8838-4949-a45e-bdfb62e248f5",
   "metadata": {},
   "source": [
    "Se quisermos buscar apenas as colunas **'ruim'** e **'pessimo'** do DataFrame `satisfacao_labels`, existem duas possibilidades:"
   ]
  },
  {
   "cell_type": "code",
   "execution_count": 23,
   "id": "f5a7f33b-18a9-4e10-b754-b777eb2a5c96",
   "metadata": {},
   "outputs": [
    {
     "data": {
      "text/html": [
       "<div>\n",
       "<style scoped>\n",
       "    .dataframe tbody tr th:only-of-type {\n",
       "        vertical-align: middle;\n",
       "    }\n",
       "\n",
       "    .dataframe tbody tr th {\n",
       "        vertical-align: top;\n",
       "    }\n",
       "\n",
       "    .dataframe thead th {\n",
       "        text-align: right;\n",
       "    }\n",
       "</style>\n",
       "<table border=\"1\" class=\"dataframe\">\n",
       "  <thead>\n",
       "    <tr style=\"text-align: right;\">\n",
       "      <th></th>\n",
       "      <th>ruim</th>\n",
       "      <th>pessimo</th>\n",
       "    </tr>\n",
       "  </thead>\n",
       "  <tbody>\n",
       "    <tr>\n",
       "      <th>Ford</th>\n",
       "      <td>131</td>\n",
       "      <td>30</td>\n",
       "    </tr>\n",
       "    <tr>\n",
       "      <th>volkswagen</th>\n",
       "      <td>2</td>\n",
       "      <td>20</td>\n",
       "    </tr>\n",
       "    <tr>\n",
       "      <th>BMW</th>\n",
       "      <td>30</td>\n",
       "      <td>1</td>\n",
       "    </tr>\n",
       "  </tbody>\n",
       "</table>\n",
       "</div>"
      ],
      "text/plain": [
       "            ruim  pessimo\n",
       "Ford         131       30\n",
       "volkswagen     2       20\n",
       "BMW           30        1"
      ]
     },
     "execution_count": 23,
     "metadata": {},
     "output_type": "execute_result"
    }
   ],
   "source": [
    "## Forma 1:\n",
    "satisfacao_labels[['ruim','pessimo']] ## Retorna todas as linhas do DataFrame mas apenas as colunas 'ruim' e 'pessimo'"
   ]
  },
  {
   "cell_type": "code",
   "execution_count": 25,
   "id": "b4d536fe-bb65-4742-a292-ffa09a603039",
   "metadata": {},
   "outputs": [
    {
     "data": {
      "text/html": [
       "<div>\n",
       "<style scoped>\n",
       "    .dataframe tbody tr th:only-of-type {\n",
       "        vertical-align: middle;\n",
       "    }\n",
       "\n",
       "    .dataframe tbody tr th {\n",
       "        vertical-align: top;\n",
       "    }\n",
       "\n",
       "    .dataframe thead th {\n",
       "        text-align: right;\n",
       "    }\n",
       "</style>\n",
       "<table border=\"1\" class=\"dataframe\">\n",
       "  <thead>\n",
       "    <tr style=\"text-align: right;\">\n",
       "      <th></th>\n",
       "      <th>ruim</th>\n",
       "      <th>pessimo</th>\n",
       "    </tr>\n",
       "  </thead>\n",
       "  <tbody>\n",
       "    <tr>\n",
       "      <th>Ford</th>\n",
       "      <td>131</td>\n",
       "      <td>30</td>\n",
       "    </tr>\n",
       "    <tr>\n",
       "      <th>volkswagen</th>\n",
       "      <td>2</td>\n",
       "      <td>20</td>\n",
       "    </tr>\n",
       "    <tr>\n",
       "      <th>BMW</th>\n",
       "      <td>30</td>\n",
       "      <td>1</td>\n",
       "    </tr>\n",
       "  </tbody>\n",
       "</table>\n",
       "</div>"
      ],
      "text/plain": [
       "            ruim  pessimo\n",
       "Ford         131       30\n",
       "volkswagen     2       20\n",
       "BMW           30        1"
      ]
     },
     "execution_count": 25,
     "metadata": {},
     "output_type": "execute_result"
    }
   ],
   "source": [
    "## Forma 2\n",
    "satisfacao_labels.loc[:,['ruim','pessimo']] ## Retorna os índices 0 a n-1 (:) mas apenas as colunas 'ruim' e 'pessimo'"
   ]
  },
  {
   "cell_type": "markdown",
   "id": "13c774db-13aa-4fbf-afd7-02e70dce66b3",
   "metadata": {},
   "source": [
    "Mesmo em DataFrame com índices baseados em rótulos, é possível a utilização do `iloc` para selecionar elementos baseando-se em seu índice implícito, por exemplo, se quisermos seleccionar a linha 2 do DataFrame `satisfacao_labels` basta:"
   ]
  },
  {
   "cell_type": "code",
   "execution_count": 18,
   "id": "803e01c5-42fb-4b23-94e6-c58a1c574191",
   "metadata": {},
   "outputs": [
    {
     "data": {
      "text/plain": [
       "bom        100\n",
       "ruim        30\n",
       "pessimo      1\n",
       "Name: BMW, dtype: int64"
      ]
     },
     "execution_count": 18,
     "metadata": {},
     "output_type": "execute_result"
    }
   ],
   "source": [
    "satisfacao_labels.iloc[2] ## Retorna a linha de índice 2 (BMW) do DataFrame"
   ]
  },
  {
   "cell_type": "markdown",
   "id": "8537cb79-9592-49ab-8115-f47aaa7e6354",
   "metadata": {},
   "source": [
    "**OBSEVAÇÃO:** Índices números, por default, possuem rótulos que correspondem aos seus valores númericos. Ou seja, é possível usar o `iloc` e `loc` para índices númericos."
   ]
  },
  {
   "cell_type": "markdown",
   "id": "51f8ef31-1fee-42b8-bd81-4c56262c2921",
   "metadata": {},
   "source": [
    "### Seleção de uma ou mais colunas"
   ]
  },
  {
   "cell_type": "markdown",
   "id": "6334914f-51be-4d98-a75e-54d7224a0c2d",
   "metadata": {},
   "source": [
    "Já vimos que para selecionar uma coluna de um DataFrame(`df_data`) basta utilizar `df_data['Cidade']` , `df_data.Cidade` (Este, apenas para casos com colunas sem caracteres especiais e sem espaço) ou `data.loc[:, 'Cidade']` ."
   ]
  },
  {
   "cell_type": "markdown",
   "id": "c623a7e5-0536-42e7-a80f-c2f32b42102b",
   "metadata": {},
   "source": [
    "Para retorno de mais de uma coluna é necessário passar uma lista ['Colune 1','Coluna 2','Coluna 3', '...']"
   ]
  },
  {
   "cell_type": "code",
   "execution_count": 28,
   "id": "b06828aa-cfe1-4810-9a99-d89dbcc56098",
   "metadata": {
    "scrolled": true
   },
   "outputs": [
    {
     "data": {
      "text/html": [
       "<div>\n",
       "<style scoped>\n",
       "    .dataframe tbody tr th:only-of-type {\n",
       "        vertical-align: middle;\n",
       "    }\n",
       "\n",
       "    .dataframe tbody tr th {\n",
       "        vertical-align: top;\n",
       "    }\n",
       "\n",
       "    .dataframe thead th {\n",
       "        text-align: right;\n",
       "    }\n",
       "</style>\n",
       "<table border=\"1\" class=\"dataframe\">\n",
       "  <thead>\n",
       "    <tr style=\"text-align: right;\">\n",
       "      <th></th>\n",
       "      <th>Cidade</th>\n",
       "      <th>UF</th>\n",
       "      <th>Região</th>\n",
       "    </tr>\n",
       "  </thead>\n",
       "  <tbody>\n",
       "    <tr>\n",
       "      <th>0</th>\n",
       "      <td>Maceió</td>\n",
       "      <td>AL</td>\n",
       "      <td>NE</td>\n",
       "    </tr>\n",
       "    <tr>\n",
       "      <th>1</th>\n",
       "      <td>Maceió</td>\n",
       "      <td>AL</td>\n",
       "      <td>NE</td>\n",
       "    </tr>\n",
       "    <tr>\n",
       "      <th>2</th>\n",
       "      <td>Olinda</td>\n",
       "      <td>PE</td>\n",
       "      <td>NE</td>\n",
       "    </tr>\n",
       "    <tr>\n",
       "      <th>3</th>\n",
       "      <td>Salvador</td>\n",
       "      <td>BA</td>\n",
       "      <td>NE</td>\n",
       "    </tr>\n",
       "    <tr>\n",
       "      <th>4</th>\n",
       "      <td>Guarujá</td>\n",
       "      <td>SP</td>\n",
       "      <td>SE</td>\n",
       "    </tr>\n",
       "    <tr>\n",
       "      <th>...</th>\n",
       "      <td>...</td>\n",
       "      <td>...</td>\n",
       "      <td>...</td>\n",
       "    </tr>\n",
       "    <tr>\n",
       "      <th>105013</th>\n",
       "      <td>Ibirité</td>\n",
       "      <td>MG</td>\n",
       "      <td>SE</td>\n",
       "    </tr>\n",
       "    <tr>\n",
       "      <th>105014</th>\n",
       "      <td>Ibirité</td>\n",
       "      <td>MG</td>\n",
       "      <td>SE</td>\n",
       "    </tr>\n",
       "    <tr>\n",
       "      <th>105015</th>\n",
       "      <td>Ibirité</td>\n",
       "      <td>MG</td>\n",
       "      <td>SE</td>\n",
       "    </tr>\n",
       "    <tr>\n",
       "      <th>105016</th>\n",
       "      <td>Ibirité</td>\n",
       "      <td>MG</td>\n",
       "      <td>SE</td>\n",
       "    </tr>\n",
       "    <tr>\n",
       "      <th>105017</th>\n",
       "      <td>Ibirité</td>\n",
       "      <td>MG</td>\n",
       "      <td>SE</td>\n",
       "    </tr>\n",
       "  </tbody>\n",
       "</table>\n",
       "<p>105018 rows × 3 columns</p>\n",
       "</div>"
      ],
      "text/plain": [
       "          Cidade  UF Região\n",
       "0         Maceió  AL     NE\n",
       "1         Maceió  AL     NE\n",
       "2         Olinda  PE     NE\n",
       "3       Salvador  BA     NE\n",
       "4        Guarujá  SP     SE\n",
       "...          ...  ..    ...\n",
       "105013   Ibirité  MG     SE\n",
       "105014   Ibirité  MG     SE\n",
       "105015   Ibirité  MG     SE\n",
       "105016   Ibirité  MG     SE\n",
       "105017   Ibirité  MG     SE\n",
       "\n",
       "[105018 rows x 3 columns]"
      ]
     },
     "execution_count": 28,
     "metadata": {},
     "output_type": "execute_result"
    }
   ],
   "source": [
    "df_data[['Cidade','UF','Região']] ## Retorna a coluna 'Cidade', 'UF' e 'Região'"
   ]
  },
  {
   "cell_type": "markdown",
   "id": "2bfbaeed-78c1-49e4-908b-cfc9c75c11c4",
   "metadata": {},
   "source": [
    "### Seleção de índices MultiIndex"
   ]
  },
  {
   "cell_type": "markdown",
   "id": "293a27d1-04c4-407a-89dc-cc3d22b54cb3",
   "metadata": {},
   "source": [
    "Para identificar os níveis do índex do tipo MultiIndex, utilizaremos o método `index.levels`"
   ]
  },
  {
   "cell_type": "code",
   "execution_count": 40,
   "id": "0a6a5cfe-a10b-4311-aa49-e30a1d442aa7",
   "metadata": {},
   "outputs": [
    {
     "data": {
      "text/html": [
       "<div>\n",
       "<style scoped>\n",
       "    .dataframe tbody tr th:only-of-type {\n",
       "        vertical-align: middle;\n",
       "    }\n",
       "\n",
       "    .dataframe tbody tr th {\n",
       "        vertical-align: top;\n",
       "    }\n",
       "\n",
       "    .dataframe thead th {\n",
       "        text-align: right;\n",
       "    }\n",
       "</style>\n",
       "<table border=\"1\" class=\"dataframe\">\n",
       "  <thead>\n",
       "    <tr style=\"text-align: right;\">\n",
       "      <th></th>\n",
       "      <th></th>\n",
       "      <th>vendas</th>\n",
       "    </tr>\n",
       "    <tr>\n",
       "      <th>categoria</th>\n",
       "      <th>produto</th>\n",
       "      <th></th>\n",
       "    </tr>\n",
       "  </thead>\n",
       "  <tbody>\n",
       "    <tr>\n",
       "      <th rowspan=\"2\" valign=\"top\">A</th>\n",
       "      <th>P1</th>\n",
       "      <td>100</td>\n",
       "    </tr>\n",
       "    <tr>\n",
       "      <th>P2</th>\n",
       "      <td>150</td>\n",
       "    </tr>\n",
       "    <tr>\n",
       "      <th rowspan=\"2\" valign=\"top\">B</th>\n",
       "      <th>P1</th>\n",
       "      <td>200</td>\n",
       "    </tr>\n",
       "    <tr>\n",
       "      <th>P2</th>\n",
       "      <td>250</td>\n",
       "    </tr>\n",
       "  </tbody>\n",
       "</table>\n",
       "</div>"
      ],
      "text/plain": [
       "                   vendas\n",
       "categoria produto        \n",
       "A         P1          100\n",
       "          P2          150\n",
       "B         P1          200\n",
       "          P2          250"
      ]
     },
     "execution_count": 40,
     "metadata": {},
     "output_type": "execute_result"
    }
   ],
   "source": [
    "MultiIndex"
   ]
  },
  {
   "cell_type": "code",
   "execution_count": 35,
   "id": "aa8677e7-aa68-486b-ad42-7276b6c864ad",
   "metadata": {},
   "outputs": [
    {
     "data": {
      "text/plain": [
       "FrozenList([['A', 'B'], ['P1', 'P2']])"
      ]
     },
     "execution_count": 35,
     "metadata": {},
     "output_type": "execute_result"
    }
   ],
   "source": [
    "MultiIndex.index.levels"
   ]
  },
  {
   "cell_type": "markdown",
   "id": "d76af3a3-311e-4f13-bb80-48d231db1619",
   "metadata": {},
   "source": [
    "Para identificar os valores do nível 1 e 2 respectivamente, usamos o método `get_level_values(n)`, com **n** sendo o level do índice."
   ]
  },
  {
   "cell_type": "code",
   "execution_count": 36,
   "id": "8ea7e5f3-95f2-4b8c-95b6-3900e79097c1",
   "metadata": {},
   "outputs": [
    {
     "data": {
      "text/plain": [
       "Index(['A', 'A', 'B', 'B'], dtype='object', name='categoria')"
      ]
     },
     "execution_count": 36,
     "metadata": {},
     "output_type": "execute_result"
    }
   ],
   "source": [
    "MultiIndex.index.get_level_values(0)  ## Retorna os valores do primeiro nível"
   ]
  },
  {
   "cell_type": "code",
   "execution_count": 38,
   "id": "fedcf367-a1bf-42e9-abf2-41f0a0d3c712",
   "metadata": {},
   "outputs": [
    {
     "data": {
      "text/plain": [
       "Index(['P1', 'P2', 'P1', 'P2'], dtype='object', name='produto')"
      ]
     },
     "execution_count": 38,
     "metadata": {},
     "output_type": "execute_result"
    }
   ],
   "source": [
    "MultiIndex.index.get_level_values(1)  ## Retorna os valores do segundo nível"
   ]
  },
  {
   "cell_type": "markdown",
   "id": "6c0d2d56-6d11-49f4-95d8-98f3fb77f2f4",
   "metadata": {},
   "source": [
    "Para extrair informações de índices MultiIndex devemos passar os n índices requeridos através do método `loc`"
   ]
  },
  {
   "cell_type": "code",
   "execution_count": 46,
   "id": "f2e2809f-c8f6-4317-8324-09d19a84ec2d",
   "metadata": {},
   "outputs": [
    {
     "data": {
      "text/plain": [
       "vendas    100\n",
       "Name: (A, P1), dtype: int64"
      ]
     },
     "execution_count": 46,
     "metadata": {},
     "output_type": "execute_result"
    }
   ],
   "source": [
    "MultiIndex.loc[('A', 'P1')]  ## Retorna o valor referente ao índice 1 (Categoria) textual 'A' e ao índice 2 (Produto) textual 'P1'"
   ]
  },
  {
   "cell_type": "code",
   "execution_count": 52,
   "id": "1bf642a0-36f7-4258-b9ff-ab1b24a64aa7",
   "metadata": {},
   "outputs": [
    {
     "data": {
      "text/html": [
       "<div>\n",
       "<style scoped>\n",
       "    .dataframe tbody tr th:only-of-type {\n",
       "        vertical-align: middle;\n",
       "    }\n",
       "\n",
       "    .dataframe tbody tr th {\n",
       "        vertical-align: top;\n",
       "    }\n",
       "\n",
       "    .dataframe thead th {\n",
       "        text-align: right;\n",
       "    }\n",
       "</style>\n",
       "<table border=\"1\" class=\"dataframe\">\n",
       "  <thead>\n",
       "    <tr style=\"text-align: right;\">\n",
       "      <th></th>\n",
       "      <th></th>\n",
       "      <th>vendas</th>\n",
       "    </tr>\n",
       "    <tr>\n",
       "      <th>categoria</th>\n",
       "      <th>produto</th>\n",
       "      <th></th>\n",
       "    </tr>\n",
       "  </thead>\n",
       "  <tbody>\n",
       "    <tr>\n",
       "      <th>A</th>\n",
       "      <th>P1</th>\n",
       "      <td>100</td>\n",
       "    </tr>\n",
       "    <tr>\n",
       "      <th>B</th>\n",
       "      <th>P1</th>\n",
       "      <td>200</td>\n",
       "    </tr>\n",
       "  </tbody>\n",
       "</table>\n",
       "</div>"
      ],
      "text/plain": [
       "                   vendas\n",
       "categoria produto        \n",
       "A         P1          100\n",
       "B         P1          200"
      ]
     },
     "execution_count": 52,
     "metadata": {},
     "output_type": "execute_result"
    }
   ],
   "source": [
    "MultiIndex.loc[(['A', 'B'], ['P1']), :] ## Retorna o valor referente ao índice 1 (Categoria) textual 'A' e 'B' e ao índice 2 (Produto) textual 'P1'"
   ]
  },
  {
   "cell_type": "markdown",
   "id": "8b7d7569-f7ca-4d8b-9835-976409f90a48",
   "metadata": {},
   "source": [
    "**OBSEVAÇÃO:** \n",
    "1. `(['A', 'B'], ['P1'])` : \n",
    "    * O primeiro nível (categoria) recebe uma lista ['A', 'B'], garantindo que ambas sejam selecionadas.\n",
    "    * O segundo nível (produto) também recebe uma lista ['P1'], garantindo que apenas P1 seja selecionado.\n",
    "2. Adição de `:` (dois pontos) :\n",
    "    * Necessário para indicar que queremos todas as colunas.\n"
   ]
  },
  {
   "cell_type": "code",
   "execution_count": null,
   "id": "9e5f4d2b-a738-411a-883e-4ce06120ab17",
   "metadata": {},
   "outputs": [],
   "source": []
  }
 ],
 "metadata": {
  "kernelspec": {
   "display_name": "Python 3 (ipykernel)",
   "language": "python",
   "name": "python3"
  },
  "language_info": {
   "codemirror_mode": {
    "name": "ipython",
    "version": 3
   },
   "file_extension": ".py",
   "mimetype": "text/x-python",
   "name": "python",
   "nbconvert_exporter": "python",
   "pygments_lexer": "ipython3",
   "version": "3.12.7"
  }
 },
 "nbformat": 4,
 "nbformat_minor": 5
}
