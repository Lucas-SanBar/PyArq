{
 "cells": [
  {
   "cell_type": "code",
   "execution_count": 13,
   "id": "2a8f2994-91dd-4a59-9e51-5909438db6c7",
   "metadata": {},
   "outputs": [],
   "source": [
    "import pandas as pd"
   ]
  },
  {
   "cell_type": "markdown",
   "id": "c70e1505-8f79-4123-8109-7f9f6960f843",
   "metadata": {},
   "source": [
    "# Merge"
   ]
  },
  {
   "cell_type": "markdown",
   "id": "4699b385-4a3b-41a0-a3df-5d1fbd2e48c7",
   "metadata": {},
   "source": [
    "No pandas, o merge é usado para combinar dois DataFrames, funcionando de maneira semelhante a um `JOIN` em **SQL**. Ele é feito com o método `merge()`, que permite unir os dados com base em uma ou mais colunas."
   ]
  },
  {
   "cell_type": "markdown",
   "id": "9efedbd7-25ee-4695-8002-8e18b85054dc",
   "metadata": {},
   "source": [
    "Sintaxe básica do método `merge()` :\n"
   ]
  },
  {
   "cell_type": "markdown",
   "id": "6b6cbc70-ac8b-41e0-9f0c-ddb091bec7d8",
   "metadata": {},
   "source": [
    "`df_merge = pd.merge(DataFrame1, DataFrame2, on='coluna_chave', how='tipo_de_join')`"
   ]
  },
  {
   "cell_type": "markdown",
   "id": "2a62939e-1c9c-4557-9138-76fda2550dd4",
   "metadata": {},
   "source": [
    "* **DataFrame1**, **DataFrame2** : DataFrames que serão únidos;\n",
    "* **on** : Coluna chave utilizada na junção;\n",
    "* **how**: Tipo de junção;"
   ]
  },
  {
   "cell_type": "markdown",
   "id": "49832d53-311f-4b7b-88c3-e5df5db58b0b",
   "metadata": {},
   "source": [
    "Tipos de Merge"
   ]
  },
  {
   "cell_type": "markdown",
   "id": "830eeab8-6289-480d-a98d-e0dbca41ffc6",
   "metadata": {},
   "source": [
    "| Tipo de `merge()` | Descrição                                                                                               |\n",
    "|-------------------|---------------------------------------------------------------------------------------------------------|\n",
    "| `inner` (padrão)  | Mantém apenas os registros correspondentes nas duas tabelas.                                            |\n",
    "| `left`            | Mantém todos os registros do primeiro DataFrame e os correspondentes do segundo.                        |\n",
    "| `right`           | Mantém todos os registros do segundo DataFrame e os correspondentes do primeiro.                        |\n",
    "| `outer`           | Retorna todos os registros de ambos os DataFrames, preenchendo com NaN onde não houver correspondência. |\n",
    "| `cross`           | Retorna o produto cartesiano de ambos os DataFrmes. |"
   ]
  },
  {
   "cell_type": "markdown",
   "id": "eb271fe3-2b65-4ce7-90b8-0b1d9f2b45c4",
   "metadata": {},
   "source": [
    "Para exemplificar o método `merge()` e os tipos de **join** usaremos o seguinte DataFrame:"
   ]
  },
  {
   "cell_type": "code",
   "execution_count": 14,
   "id": "2bda9208-d4e9-42f1-aa66-f6b577c13168",
   "metadata": {},
   "outputs": [
    {
     "data": {
      "text/html": [
       "<div>\n",
       "<style scoped>\n",
       "    .dataframe tbody tr th:only-of-type {\n",
       "        vertical-align: middle;\n",
       "    }\n",
       "\n",
       "    .dataframe tbody tr th {\n",
       "        vertical-align: top;\n",
       "    }\n",
       "\n",
       "    .dataframe thead th {\n",
       "        text-align: right;\n",
       "    }\n",
       "</style>\n",
       "<table border=\"1\" class=\"dataframe\">\n",
       "  <thead>\n",
       "    <tr style=\"text-align: right;\">\n",
       "      <th></th>\n",
       "      <th>id_aluno</th>\n",
       "      <th>nome</th>\n",
       "    </tr>\n",
       "  </thead>\n",
       "  <tbody>\n",
       "    <tr>\n",
       "      <th>0</th>\n",
       "      <td>1</td>\n",
       "      <td>Rafael</td>\n",
       "    </tr>\n",
       "    <tr>\n",
       "      <th>1</th>\n",
       "      <td>2</td>\n",
       "      <td>Mariana</td>\n",
       "    </tr>\n",
       "    <tr>\n",
       "      <th>2</th>\n",
       "      <td>3</td>\n",
       "      <td>Eduardo</td>\n",
       "    </tr>\n",
       "    <tr>\n",
       "      <th>3</th>\n",
       "      <td>4</td>\n",
       "      <td>Camila</td>\n",
       "    </tr>\n",
       "    <tr>\n",
       "      <th>4</th>\n",
       "      <td>5</td>\n",
       "      <td>Gustavo</td>\n",
       "    </tr>\n",
       "    <tr>\n",
       "      <th>5</th>\n",
       "      <td>6</td>\n",
       "      <td>Fernanda</td>\n",
       "    </tr>\n",
       "    <tr>\n",
       "      <th>6</th>\n",
       "      <td>7</td>\n",
       "      <td>Lucas</td>\n",
       "    </tr>\n",
       "    <tr>\n",
       "      <th>7</th>\n",
       "      <td>8</td>\n",
       "      <td>Bianca</td>\n",
       "    </tr>\n",
       "    <tr>\n",
       "      <th>8</th>\n",
       "      <td>9</td>\n",
       "      <td>Ricardo</td>\n",
       "    </tr>\n",
       "    <tr>\n",
       "      <th>9</th>\n",
       "      <td>10</td>\n",
       "      <td>Juliana</td>\n",
       "    </tr>\n",
       "    <tr>\n",
       "      <th>10</th>\n",
       "      <td>11</td>\n",
       "      <td>André</td>\n",
       "    </tr>\n",
       "    <tr>\n",
       "      <th>11</th>\n",
       "      <td>12</td>\n",
       "      <td>Vanessa</td>\n",
       "    </tr>\n",
       "    <tr>\n",
       "      <th>12</th>\n",
       "      <td>13</td>\n",
       "      <td>Felipe</td>\n",
       "    </tr>\n",
       "    <tr>\n",
       "      <th>13</th>\n",
       "      <td>14</td>\n",
       "      <td>Amanda</td>\n",
       "    </tr>\n",
       "    <tr>\n",
       "      <th>14</th>\n",
       "      <td>15</td>\n",
       "      <td>Leonardo</td>\n",
       "    </tr>\n",
       "    <tr>\n",
       "      <th>15</th>\n",
       "      <td>16</td>\n",
       "      <td>Tatiane</td>\n",
       "    </tr>\n",
       "    <tr>\n",
       "      <th>16</th>\n",
       "      <td>17</td>\n",
       "      <td>Bruno</td>\n",
       "    </tr>\n",
       "    <tr>\n",
       "      <th>17</th>\n",
       "      <td>18</td>\n",
       "      <td>Carolina</td>\n",
       "    </tr>\n",
       "    <tr>\n",
       "      <th>18</th>\n",
       "      <td>19</td>\n",
       "      <td>Daniel</td>\n",
       "    </tr>\n",
       "    <tr>\n",
       "      <th>19</th>\n",
       "      <td>20</td>\n",
       "      <td>Isabela</td>\n",
       "    </tr>\n",
       "  </tbody>\n",
       "</table>\n",
       "</div>"
      ],
      "text/plain": [
       "    id_aluno      nome\n",
       "0          1    Rafael\n",
       "1          2   Mariana\n",
       "2          3   Eduardo\n",
       "3          4    Camila\n",
       "4          5   Gustavo\n",
       "5          6  Fernanda\n",
       "6          7     Lucas\n",
       "7          8    Bianca\n",
       "8          9   Ricardo\n",
       "9         10   Juliana\n",
       "10        11     André\n",
       "11        12   Vanessa\n",
       "12        13    Felipe\n",
       "13        14    Amanda\n",
       "14        15  Leonardo\n",
       "15        16   Tatiane\n",
       "16        17     Bruno\n",
       "17        18  Carolina\n",
       "18        19    Daniel\n",
       "19        20   Isabela"
      ]
     },
     "execution_count": 14,
     "metadata": {},
     "output_type": "execute_result"
    }
   ],
   "source": [
    "## Criando o DataFrame alunos contendo id_aluno de 1 até 20\n",
    "df_alunos = pd.DataFrame({\n",
    "    'id_aluno':list(range(1,21)),\n",
    "    'nome':['Rafael','Mariana','Eduardo','Camila','Gustavo','Fernanda','Lucas','Bianca','Ricardo','Juliana','André','Vanessa','Felipe','Amanda','Leonardo','Tatiane','Bruno','Carolina','Daniel','Isabela']\n",
    "})\n",
    "\n",
    "df_alunos"
   ]
  },
  {
   "cell_type": "code",
   "execution_count": 15,
   "id": "4068b94d-2af5-43fa-9b5c-dc1985d358b8",
   "metadata": {},
   "outputs": [
    {
     "data": {
      "text/html": [
       "<div>\n",
       "<style scoped>\n",
       "    .dataframe tbody tr th:only-of-type {\n",
       "        vertical-align: middle;\n",
       "    }\n",
       "\n",
       "    .dataframe tbody tr th {\n",
       "        vertical-align: top;\n",
       "    }\n",
       "\n",
       "    .dataframe thead th {\n",
       "        text-align: right;\n",
       "    }\n",
       "</style>\n",
       "<table border=\"1\" class=\"dataframe\">\n",
       "  <thead>\n",
       "    <tr style=\"text-align: right;\">\n",
       "      <th></th>\n",
       "      <th>id_aluno</th>\n",
       "      <th>nota_media</th>\n",
       "    </tr>\n",
       "  </thead>\n",
       "  <tbody>\n",
       "    <tr>\n",
       "      <th>0</th>\n",
       "      <td>1</td>\n",
       "      <td>4.3</td>\n",
       "    </tr>\n",
       "    <tr>\n",
       "      <th>1</th>\n",
       "      <td>3</td>\n",
       "      <td>5.0</td>\n",
       "    </tr>\n",
       "    <tr>\n",
       "      <th>2</th>\n",
       "      <td>5</td>\n",
       "      <td>6.7</td>\n",
       "    </tr>\n",
       "    <tr>\n",
       "      <th>3</th>\n",
       "      <td>7</td>\n",
       "      <td>8.9</td>\n",
       "    </tr>\n",
       "    <tr>\n",
       "      <th>4</th>\n",
       "      <td>8</td>\n",
       "      <td>10.0</td>\n",
       "    </tr>\n",
       "    <tr>\n",
       "      <th>5</th>\n",
       "      <td>10</td>\n",
       "      <td>9.3</td>\n",
       "    </tr>\n",
       "    <tr>\n",
       "      <th>6</th>\n",
       "      <td>12</td>\n",
       "      <td>4.0</td>\n",
       "    </tr>\n",
       "    <tr>\n",
       "      <th>7</th>\n",
       "      <td>13</td>\n",
       "      <td>5.5</td>\n",
       "    </tr>\n",
       "    <tr>\n",
       "      <th>8</th>\n",
       "      <td>14</td>\n",
       "      <td>8.7</td>\n",
       "    </tr>\n",
       "    <tr>\n",
       "      <th>9</th>\n",
       "      <td>16</td>\n",
       "      <td>5.7</td>\n",
       "    </tr>\n",
       "    <tr>\n",
       "      <th>10</th>\n",
       "      <td>18</td>\n",
       "      <td>9.2</td>\n",
       "    </tr>\n",
       "    <tr>\n",
       "      <th>11</th>\n",
       "      <td>20</td>\n",
       "      <td>9.7</td>\n",
       "    </tr>\n",
       "    <tr>\n",
       "      <th>12</th>\n",
       "      <td>25</td>\n",
       "      <td>10.0</td>\n",
       "    </tr>\n",
       "    <tr>\n",
       "      <th>13</th>\n",
       "      <td>31</td>\n",
       "      <td>0.6</td>\n",
       "    </tr>\n",
       "    <tr>\n",
       "      <th>14</th>\n",
       "      <td>34</td>\n",
       "      <td>7.5</td>\n",
       "    </tr>\n",
       "    <tr>\n",
       "      <th>15</th>\n",
       "      <td>37</td>\n",
       "      <td>7.0</td>\n",
       "    </tr>\n",
       "  </tbody>\n",
       "</table>\n",
       "</div>"
      ],
      "text/plain": [
       "    id_aluno  nota_media\n",
       "0          1         4.3\n",
       "1          3         5.0\n",
       "2          5         6.7\n",
       "3          7         8.9\n",
       "4          8        10.0\n",
       "5         10         9.3\n",
       "6         12         4.0\n",
       "7         13         5.5\n",
       "8         14         8.7\n",
       "9         16         5.7\n",
       "10        18         9.2\n",
       "11        20         9.7\n",
       "12        25        10.0\n",
       "13        31         0.6\n",
       "14        34         7.5\n",
       "15        37         7.0"
      ]
     },
     "execution_count": 15,
     "metadata": {},
     "output_type": "execute_result"
    }
   ],
   "source": [
    "## Criando DataFrame auxiliar contendo as notas de alguns alunos\n",
    "df_notas = pd.DataFrame({\n",
    "    'id_aluno' :[1,3,5,7,8,10,12,13,14,16,18,20,25,31,34,37],\n",
    "    'nota_media':[4.3,5,6.7,8.9,10,9.3,4,5.5,8.7,5.7,9.2,9.7,10,0.6,7.5,7]\n",
    "})\n",
    "\n",
    "df_notas"
   ]
  },
  {
   "cell_type": "markdown",
   "id": "068c2890-9ce7-4155-8b19-46b82140ee0a",
   "metadata": {},
   "source": [
    "## Inner Join"
   ]
  },
  {
   "cell_type": "markdown",
   "id": "be862a5f-d402-41b4-a530-eec3ac988fff",
   "metadata": {},
   "source": [
    "O **INNER JOIN** retorna apenas as linhas que têm correspondência entre os DataFrames. Se uma chave estiver presente em apenas um dos DataFrames, a linha correspondente será descartada."
   ]
  },
  {
   "attachments": {
    "3ebf24aa-deed-46e0-b790-3e91a347e1af.png": {
     "image/png": "[encoded data removed]"
    }
   },
   "cell_type": "markdown",
   "id": "135cd2d0-fe54-4def-8882-fd2b3d04d703",
   "metadata": {},
   "source": [
    "![Inner Join.png](attachment:3ebf24aa-deed-46e0-b790-3e91a347e1af.png)"
   ]
  },
  {
   "cell_type": "markdown",
   "id": "01c86f6d-eaf6-4c35-b08c-df17dfc34fb2",
   "metadata": {},
   "source": [
    "Utilizaremos os DataFrames criados `df_alunos` e `df_notas`."
   ]
  },
  {
   "cell_type": "code",
   "execution_count": 16,
   "id": "afd19b10-3738-4cdc-b718-7762f7a6dd80",
   "metadata": {},
   "outputs": [
    {
     "data": {
      "text/html": [
       "<div>\n",
       "<style scoped>\n",
       "    .dataframe tbody tr th:only-of-type {\n",
       "        vertical-align: middle;\n",
       "    }\n",
       "\n",
       "    .dataframe tbody tr th {\n",
       "        vertical-align: top;\n",
       "    }\n",
       "\n",
       "    .dataframe thead th {\n",
       "        text-align: right;\n",
       "    }\n",
       "</style>\n",
       "<table border=\"1\" class=\"dataframe\">\n",
       "  <thead>\n",
       "    <tr style=\"text-align: right;\">\n",
       "      <th></th>\n",
       "      <th>id_aluno</th>\n",
       "      <th>nome</th>\n",
       "      <th>nota_media</th>\n",
       "    </tr>\n",
       "  </thead>\n",
       "  <tbody>\n",
       "    <tr>\n",
       "      <th>0</th>\n",
       "      <td>1</td>\n",
       "      <td>Rafael</td>\n",
       "      <td>4.3</td>\n",
       "    </tr>\n",
       "    <tr>\n",
       "      <th>1</th>\n",
       "      <td>3</td>\n",
       "      <td>Eduardo</td>\n",
       "      <td>5.0</td>\n",
       "    </tr>\n",
       "    <tr>\n",
       "      <th>2</th>\n",
       "      <td>5</td>\n",
       "      <td>Gustavo</td>\n",
       "      <td>6.7</td>\n",
       "    </tr>\n",
       "    <tr>\n",
       "      <th>3</th>\n",
       "      <td>7</td>\n",
       "      <td>Lucas</td>\n",
       "      <td>8.9</td>\n",
       "    </tr>\n",
       "    <tr>\n",
       "      <th>4</th>\n",
       "      <td>8</td>\n",
       "      <td>Bianca</td>\n",
       "      <td>10.0</td>\n",
       "    </tr>\n",
       "    <tr>\n",
       "      <th>5</th>\n",
       "      <td>10</td>\n",
       "      <td>Juliana</td>\n",
       "      <td>9.3</td>\n",
       "    </tr>\n",
       "    <tr>\n",
       "      <th>6</th>\n",
       "      <td>12</td>\n",
       "      <td>Vanessa</td>\n",
       "      <td>4.0</td>\n",
       "    </tr>\n",
       "    <tr>\n",
       "      <th>7</th>\n",
       "      <td>13</td>\n",
       "      <td>Felipe</td>\n",
       "      <td>5.5</td>\n",
       "    </tr>\n",
       "    <tr>\n",
       "      <th>8</th>\n",
       "      <td>14</td>\n",
       "      <td>Amanda</td>\n",
       "      <td>8.7</td>\n",
       "    </tr>\n",
       "    <tr>\n",
       "      <th>9</th>\n",
       "      <td>16</td>\n",
       "      <td>Tatiane</td>\n",
       "      <td>5.7</td>\n",
       "    </tr>\n",
       "    <tr>\n",
       "      <th>10</th>\n",
       "      <td>18</td>\n",
       "      <td>Carolina</td>\n",
       "      <td>9.2</td>\n",
       "    </tr>\n",
       "    <tr>\n",
       "      <th>11</th>\n",
       "      <td>20</td>\n",
       "      <td>Isabela</td>\n",
       "      <td>9.7</td>\n",
       "    </tr>\n",
       "  </tbody>\n",
       "</table>\n",
       "</div>"
      ],
      "text/plain": [
       "    id_aluno      nome  nota_media\n",
       "0          1    Rafael         4.3\n",
       "1          3   Eduardo         5.0\n",
       "2          5   Gustavo         6.7\n",
       "3          7     Lucas         8.9\n",
       "4          8    Bianca        10.0\n",
       "5         10   Juliana         9.3\n",
       "6         12   Vanessa         4.0\n",
       "7         13    Felipe         5.5\n",
       "8         14    Amanda         8.7\n",
       "9         16   Tatiane         5.7\n",
       "10        18  Carolina         9.2\n",
       "11        20   Isabela         9.7"
      ]
     },
     "execution_count": 16,
     "metadata": {},
     "output_type": "execute_result"
    }
   ],
   "source": [
    "df_inner_merged = pd.merge(df_alunos, df_notas, on='id_aluno')\n",
    "\n",
    "df_inner_merged"
   ]
  },
  {
   "cell_type": "markdown",
   "id": "11dd5f20-e0ce-47d9-bfac-a90f8d3bc19d",
   "metadata": {},
   "source": [
    "Como o **inner join** já é a junção padrão do Pandas, não é necessário especificar no atributo `how=`"
   ]
  },
  {
   "cell_type": "markdown",
   "id": "612a34b3-2fa7-4848-9ce0-105357e82e57",
   "metadata": {},
   "source": [
    "Perceba que:\n",
    "* O **inner join** mantém apenas as correspondências entre os DataFrames;\n",
    "* As linhas sem correspondência são excluídas;\n",
    "* Podemos unir com uma ou mais colunas-chave (Podemos passar no atributo `on=` uma lista de colunas chaves);"
   ]
  },
  {
   "cell_type": "markdown",
   "id": "781e86df-1553-4b48-92ad-fdb346669f8e",
   "metadata": {},
   "source": [
    "Portanto, nosso DataFrame com o `merge(merge(df_alunos, df_notas, on='id_aluno')` feito possui no final apenas **12 linhas**. Pois, o limitante da junção é o DataFrame com menor índice `df_notas`."
   ]
  },
  {
   "cell_type": "markdown",
   "id": "25def26c-b108-4e2e-b857-71234f04a5a5",
   "metadata": {},
   "source": [
    "Quando usar o **inner join**:\n",
    "* Quando queremos apenas os dados que possuem correspondência entre os dois DataFrames;\n",
    "* Para limpar dados, removendo registros sem correspondência;"
   ]
  },
  {
   "cell_type": "markdown",
   "id": "f96496c2-d544-4566-960e-fdc73b6bf07c",
   "metadata": {},
   "source": [
    "## Left Join"
   ]
  },
  {
   "cell_type": "markdown",
   "id": "eb1cfb92-191f-45bb-82e4-ded95abd39f2",
   "metadata": {},
   "source": [
    "O **LEFT JOIN** retorna todas as linhas do primeiro DataFrame (DataFrame 1 na imagem), mantendo apenas as correspondências do segundo DataFrame (DataFrame 2 na imagem). Se não houver correspondência, os valores do segundo DataFrame (DataFrame 2) serão preenchidos com `NaN`."
   ]
  },
  {
   "attachments": {
    "c2e6145b-da46-4e60-8e34-3eefad125116.png": {
     "image/png": "[encoded data removed]"
    }
   },
   "cell_type": "markdown",
   "id": "9c68ed27-da76-4f96-80ef-a2329e43c9b2",
   "metadata": {},
   "source": [
    "![Left Join.png](attachment:c2e6145b-da46-4e60-8e34-3eefad125116.png)"
   ]
  },
  {
   "cell_type": "markdown",
   "id": "23d4eac5-aa0c-4faa-9a04-3fc3d5529c68",
   "metadata": {},
   "source": [
    "Utilizaremos os DataFrames criados `df_alunos` e `df_notas`."
   ]
  },
  {
   "cell_type": "code",
   "execution_count": 17,
   "id": "83224883-2569-4015-a6f8-664206427eb6",
   "metadata": {},
   "outputs": [
    {
     "data": {
      "text/html": [
       "<div>\n",
       "<style scoped>\n",
       "    .dataframe tbody tr th:only-of-type {\n",
       "        vertical-align: middle;\n",
       "    }\n",
       "\n",
       "    .dataframe tbody tr th {\n",
       "        vertical-align: top;\n",
       "    }\n",
       "\n",
       "    .dataframe thead th {\n",
       "        text-align: right;\n",
       "    }\n",
       "</style>\n",
       "<table border=\"1\" class=\"dataframe\">\n",
       "  <thead>\n",
       "    <tr style=\"text-align: right;\">\n",
       "      <th></th>\n",
       "      <th>id_aluno</th>\n",
       "      <th>nome</th>\n",
       "      <th>nota_media</th>\n",
       "    </tr>\n",
       "  </thead>\n",
       "  <tbody>\n",
       "    <tr>\n",
       "      <th>0</th>\n",
       "      <td>1</td>\n",
       "      <td>Rafael</td>\n",
       "      <td>4.3</td>\n",
       "    </tr>\n",
       "    <tr>\n",
       "      <th>1</th>\n",
       "      <td>2</td>\n",
       "      <td>Mariana</td>\n",
       "      <td>NaN</td>\n",
       "    </tr>\n",
       "    <tr>\n",
       "      <th>2</th>\n",
       "      <td>3</td>\n",
       "      <td>Eduardo</td>\n",
       "      <td>5.0</td>\n",
       "    </tr>\n",
       "    <tr>\n",
       "      <th>3</th>\n",
       "      <td>4</td>\n",
       "      <td>Camila</td>\n",
       "      <td>NaN</td>\n",
       "    </tr>\n",
       "    <tr>\n",
       "      <th>4</th>\n",
       "      <td>5</td>\n",
       "      <td>Gustavo</td>\n",
       "      <td>6.7</td>\n",
       "    </tr>\n",
       "    <tr>\n",
       "      <th>5</th>\n",
       "      <td>6</td>\n",
       "      <td>Fernanda</td>\n",
       "      <td>NaN</td>\n",
       "    </tr>\n",
       "    <tr>\n",
       "      <th>6</th>\n",
       "      <td>7</td>\n",
       "      <td>Lucas</td>\n",
       "      <td>8.9</td>\n",
       "    </tr>\n",
       "    <tr>\n",
       "      <th>7</th>\n",
       "      <td>8</td>\n",
       "      <td>Bianca</td>\n",
       "      <td>10.0</td>\n",
       "    </tr>\n",
       "    <tr>\n",
       "      <th>8</th>\n",
       "      <td>9</td>\n",
       "      <td>Ricardo</td>\n",
       "      <td>NaN</td>\n",
       "    </tr>\n",
       "    <tr>\n",
       "      <th>9</th>\n",
       "      <td>10</td>\n",
       "      <td>Juliana</td>\n",
       "      <td>9.3</td>\n",
       "    </tr>\n",
       "    <tr>\n",
       "      <th>10</th>\n",
       "      <td>11</td>\n",
       "      <td>André</td>\n",
       "      <td>NaN</td>\n",
       "    </tr>\n",
       "    <tr>\n",
       "      <th>11</th>\n",
       "      <td>12</td>\n",
       "      <td>Vanessa</td>\n",
       "      <td>4.0</td>\n",
       "    </tr>\n",
       "    <tr>\n",
       "      <th>12</th>\n",
       "      <td>13</td>\n",
       "      <td>Felipe</td>\n",
       "      <td>5.5</td>\n",
       "    </tr>\n",
       "    <tr>\n",
       "      <th>13</th>\n",
       "      <td>14</td>\n",
       "      <td>Amanda</td>\n",
       "      <td>8.7</td>\n",
       "    </tr>\n",
       "    <tr>\n",
       "      <th>14</th>\n",
       "      <td>15</td>\n",
       "      <td>Leonardo</td>\n",
       "      <td>NaN</td>\n",
       "    </tr>\n",
       "    <tr>\n",
       "      <th>15</th>\n",
       "      <td>16</td>\n",
       "      <td>Tatiane</td>\n",
       "      <td>5.7</td>\n",
       "    </tr>\n",
       "    <tr>\n",
       "      <th>16</th>\n",
       "      <td>17</td>\n",
       "      <td>Bruno</td>\n",
       "      <td>NaN</td>\n",
       "    </tr>\n",
       "    <tr>\n",
       "      <th>17</th>\n",
       "      <td>18</td>\n",
       "      <td>Carolina</td>\n",
       "      <td>9.2</td>\n",
       "    </tr>\n",
       "    <tr>\n",
       "      <th>18</th>\n",
       "      <td>19</td>\n",
       "      <td>Daniel</td>\n",
       "      <td>NaN</td>\n",
       "    </tr>\n",
       "    <tr>\n",
       "      <th>19</th>\n",
       "      <td>20</td>\n",
       "      <td>Isabela</td>\n",
       "      <td>9.7</td>\n",
       "    </tr>\n",
       "  </tbody>\n",
       "</table>\n",
       "</div>"
      ],
      "text/plain": [
       "    id_aluno      nome  nota_media\n",
       "0          1    Rafael         4.3\n",
       "1          2   Mariana         NaN\n",
       "2          3   Eduardo         5.0\n",
       "3          4    Camila         NaN\n",
       "4          5   Gustavo         6.7\n",
       "5          6  Fernanda         NaN\n",
       "6          7     Lucas         8.9\n",
       "7          8    Bianca        10.0\n",
       "8          9   Ricardo         NaN\n",
       "9         10   Juliana         9.3\n",
       "10        11     André         NaN\n",
       "11        12   Vanessa         4.0\n",
       "12        13    Felipe         5.5\n",
       "13        14    Amanda         8.7\n",
       "14        15  Leonardo         NaN\n",
       "15        16   Tatiane         5.7\n",
       "16        17     Bruno         NaN\n",
       "17        18  Carolina         9.2\n",
       "18        19    Daniel         NaN\n",
       "19        20   Isabela         9.7"
      ]
     },
     "execution_count": 17,
     "metadata": {},
     "output_type": "execute_result"
    }
   ],
   "source": [
    "df_left_merged = pd.merge(df_alunos, df_notas, on='id_aluno', how='left')\n",
    "\n",
    "df_left_merged"
   ]
  },
  {
   "cell_type": "markdown",
   "id": "582252aa-2e6b-484f-8676-6f6a0b50608f",
   "metadata": {},
   "source": [
    "Perceba que:\n",
    "* O **left join** mantém as linhas do primeiro DataFrame (`df_alunos`) intacta;\n",
    "* As linhas sem correspondência no segundo DataFrame (`df_notas`) são preenchidos com `NaN`;\n",
    "* Podemos unir com uma ou mais colunas-chave (Podemos passar no atributo `on=` uma lista de colunas chaves);"
   ]
  },
  {
   "cell_type": "markdown",
   "id": "0a6a681f-6225-4c39-9660-c8b811f115fb",
   "metadata": {},
   "source": [
    "Portanto, nosso DataFrame com o `merge(df_alunos, df_notas, on='id_aluno', how='left')` feito possui no final todas as **20 linhas** do DataFrame `df_alunos`. Pois, o limitante da junção é sempre o primeiro DataFrame."
   ]
  },
  {
   "cell_type": "markdown",
   "id": "c9fa0612-79c6-4bda-9d5d-bfe7b126b72a",
   "metadata": {},
   "source": [
    "Quando usar o **left join**:\n",
    "* Quando queremos manter todos os registros do primeiro DataFrame, mesmo sem correspondência no segundo;\n",
    "* Quando estamos trabalhando com tabelas principais e secundárias, onde o DataFrame 1 contém todos os registros e o DataFrame 2 tem apenas informações adicionais;\n",
    "* Quando queremos evitar perda de dados ao unir tabelas;"
   ]
  },
  {
   "cell_type": "markdown",
   "id": "f6471c07-a998-4930-846e-b0140e986d2c",
   "metadata": {},
   "source": [
    "## Right Join"
   ]
  },
  {
   "cell_type": "markdown",
   "id": "aef43369-3835-4a95-906f-af1fe96720d0",
   "metadata": {},
   "source": [
    "O **RIGHT JOIN** retorna todas as linhas do segundo DataFrame (DataFrame 2 na imagem), mantendo apenas as correspondências do primeiro DataFrame (DataFrame 1 na imagem). Se não houver correspondência, os valores do primeiro DataFrame serão preenchidos com `NaN`."
   ]
  },
  {
   "attachments": {
    "966aa1d1-6df1-413b-b717-d8b30cb2b1c8.png": {
     "image/png": "[encoded data removed]"
    }
   },
   "cell_type": "markdown",
   "id": "bd4ace26-d7c5-488a-9466-68e8a3ed41e2",
   "metadata": {},
   "source": [
    "![Right Join.png](attachment:966aa1d1-6df1-413b-b717-d8b30cb2b1c8.png)"
   ]
  },
  {
   "cell_type": "markdown",
   "id": "5d31023b-663d-45b6-80ea-6a7919beb0fe",
   "metadata": {},
   "source": [
    "Utilizaremos os DataFrames criados `df_alunos` e `df_notas`."
   ]
  },
  {
   "cell_type": "code",
   "execution_count": 18,
   "id": "f22a0f64-e145-448b-9f55-92263f1df3f4",
   "metadata": {},
   "outputs": [
    {
     "data": {
      "text/html": [
       "<div>\n",
       "<style scoped>\n",
       "    .dataframe tbody tr th:only-of-type {\n",
       "        vertical-align: middle;\n",
       "    }\n",
       "\n",
       "    .dataframe tbody tr th {\n",
       "        vertical-align: top;\n",
       "    }\n",
       "\n",
       "    .dataframe thead th {\n",
       "        text-align: right;\n",
       "    }\n",
       "</style>\n",
       "<table border=\"1\" class=\"dataframe\">\n",
       "  <thead>\n",
       "    <tr style=\"text-align: right;\">\n",
       "      <th></th>\n",
       "      <th>id_aluno</th>\n",
       "      <th>nome</th>\n",
       "      <th>nota_media</th>\n",
       "    </tr>\n",
       "  </thead>\n",
       "  <tbody>\n",
       "    <tr>\n",
       "      <th>0</th>\n",
       "      <td>1</td>\n",
       "      <td>Rafael</td>\n",
       "      <td>4.3</td>\n",
       "    </tr>\n",
       "    <tr>\n",
       "      <th>1</th>\n",
       "      <td>3</td>\n",
       "      <td>Eduardo</td>\n",
       "      <td>5.0</td>\n",
       "    </tr>\n",
       "    <tr>\n",
       "      <th>2</th>\n",
       "      <td>5</td>\n",
       "      <td>Gustavo</td>\n",
       "      <td>6.7</td>\n",
       "    </tr>\n",
       "    <tr>\n",
       "      <th>3</th>\n",
       "      <td>7</td>\n",
       "      <td>Lucas</td>\n",
       "      <td>8.9</td>\n",
       "    </tr>\n",
       "    <tr>\n",
       "      <th>4</th>\n",
       "      <td>8</td>\n",
       "      <td>Bianca</td>\n",
       "      <td>10.0</td>\n",
       "    </tr>\n",
       "    <tr>\n",
       "      <th>5</th>\n",
       "      <td>10</td>\n",
       "      <td>Juliana</td>\n",
       "      <td>9.3</td>\n",
       "    </tr>\n",
       "    <tr>\n",
       "      <th>6</th>\n",
       "      <td>12</td>\n",
       "      <td>Vanessa</td>\n",
       "      <td>4.0</td>\n",
       "    </tr>\n",
       "    <tr>\n",
       "      <th>7</th>\n",
       "      <td>13</td>\n",
       "      <td>Felipe</td>\n",
       "      <td>5.5</td>\n",
       "    </tr>\n",
       "    <tr>\n",
       "      <th>8</th>\n",
       "      <td>14</td>\n",
       "      <td>Amanda</td>\n",
       "      <td>8.7</td>\n",
       "    </tr>\n",
       "    <tr>\n",
       "      <th>9</th>\n",
       "      <td>16</td>\n",
       "      <td>Tatiane</td>\n",
       "      <td>5.7</td>\n",
       "    </tr>\n",
       "    <tr>\n",
       "      <th>10</th>\n",
       "      <td>18</td>\n",
       "      <td>Carolina</td>\n",
       "      <td>9.2</td>\n",
       "    </tr>\n",
       "    <tr>\n",
       "      <th>11</th>\n",
       "      <td>20</td>\n",
       "      <td>Isabela</td>\n",
       "      <td>9.7</td>\n",
       "    </tr>\n",
       "    <tr>\n",
       "      <th>12</th>\n",
       "      <td>25</td>\n",
       "      <td>NaN</td>\n",
       "      <td>10.0</td>\n",
       "    </tr>\n",
       "    <tr>\n",
       "      <th>13</th>\n",
       "      <td>31</td>\n",
       "      <td>NaN</td>\n",
       "      <td>0.6</td>\n",
       "    </tr>\n",
       "    <tr>\n",
       "      <th>14</th>\n",
       "      <td>34</td>\n",
       "      <td>NaN</td>\n",
       "      <td>7.5</td>\n",
       "    </tr>\n",
       "    <tr>\n",
       "      <th>15</th>\n",
       "      <td>37</td>\n",
       "      <td>NaN</td>\n",
       "      <td>7.0</td>\n",
       "    </tr>\n",
       "  </tbody>\n",
       "</table>\n",
       "</div>"
      ],
      "text/plain": [
       "    id_aluno      nome  nota_media\n",
       "0          1    Rafael         4.3\n",
       "1          3   Eduardo         5.0\n",
       "2          5   Gustavo         6.7\n",
       "3          7     Lucas         8.9\n",
       "4          8    Bianca        10.0\n",
       "5         10   Juliana         9.3\n",
       "6         12   Vanessa         4.0\n",
       "7         13    Felipe         5.5\n",
       "8         14    Amanda         8.7\n",
       "9         16   Tatiane         5.7\n",
       "10        18  Carolina         9.2\n",
       "11        20   Isabela         9.7\n",
       "12        25       NaN        10.0\n",
       "13        31       NaN         0.6\n",
       "14        34       NaN         7.5\n",
       "15        37       NaN         7.0"
      ]
     },
     "execution_count": 18,
     "metadata": {},
     "output_type": "execute_result"
    }
   ],
   "source": [
    "df_right_merged = pd.merge(df_alunos, df_notas, on='id_aluno', how='right')\n",
    "\n",
    "df_right_merged"
   ]
  },
  {
   "cell_type": "markdown",
   "id": "36dc65a7-535a-4d6c-9c66-a238dffc9cea",
   "metadata": {},
   "source": [
    "Perceba que:\n",
    "* O **right join** mantém as linhas do segundo DataFrame (`df_notas`) intacta;\n",
    "* As linhas sem correspondência no primeiro DataFrame (`df_alunos`) são preenchidos com `NaN`;\n",
    "* Podemos unir com uma ou mais colunas-chave (Podemos passar no atributo `on=` uma lista de colunas chaves);"
   ]
  },
  {
   "cell_type": "markdown",
   "id": "67ba192e-0785-4c43-aa64-d2846bca324a",
   "metadata": {},
   "source": [
    "Portanto, nosso DataFrame com o `merge(df_alunos, df_notas, on='id_aluno', how='right')` feito possui no final todas as **16 linhas** do DataFrame `df_notas`. Pois, o limitante da junção é sempre o segundo DataFrame."
   ]
  },
  {
   "cell_type": "markdown",
   "id": "2cd67c0e-f382-4f7d-8d07-fb5bc6e235b3",
   "metadata": {},
   "source": [
    "Quando usar o **right join**:\n",
    "* Quando queremos manter todos os registros do segundo DataFrame, mesmo sem correspondência no primeiro;\n",
    "* Quando estamos trabalhando com tabelas principais e secundárias, onde o DataFrame 2 contém todos os registros e o DataFrame 1 tem apenas informações adicionais;\n",
    "* Quando queremos evitar perda de dados do segundo DataFrame ao unir tabelas;"
   ]
  },
  {
   "cell_type": "markdown",
   "id": "587f50e6-5dd5-435d-acbd-58e0c3eea345",
   "metadata": {},
   "source": [
    "## Outer Join"
   ]
  },
  {
   "cell_type": "markdown",
   "id": "6dffd934-5fbc-4f06-b9d2-11a481cdf365",
   "metadata": {},
   "source": [
    "O **OUTER JOIN** retorna todas as linhas de ambos os DataFrames, mantendo as correspondências sempre que possível. Se um valor não tiver correspondência no outro DataFrame, ele será preenchido com `NaN`."
   ]
  },
  {
   "attachments": {
    "5cc36e01-ff45-43ff-90d9-a305b34031a4.png": {
     "image/png": "[encoded data removed]"
    }
   },
   "cell_type": "markdown",
   "id": "3c18a0d7-36cb-499b-9799-2022f867599e",
   "metadata": {},
   "source": [
    "![Outer Join.png](attachment:5cc36e01-ff45-43ff-90d9-a305b34031a4.png)"
   ]
  },
  {
   "cell_type": "code",
   "execution_count": 19,
   "id": "b5689e50-0f99-41d5-a56c-841b5b0a95fd",
   "metadata": {},
   "outputs": [
    {
     "data": {
      "text/html": [
       "<div>\n",
       "<style scoped>\n",
       "    .dataframe tbody tr th:only-of-type {\n",
       "        vertical-align: middle;\n",
       "    }\n",
       "\n",
       "    .dataframe tbody tr th {\n",
       "        vertical-align: top;\n",
       "    }\n",
       "\n",
       "    .dataframe thead th {\n",
       "        text-align: right;\n",
       "    }\n",
       "</style>\n",
       "<table border=\"1\" class=\"dataframe\">\n",
       "  <thead>\n",
       "    <tr style=\"text-align: right;\">\n",
       "      <th></th>\n",
       "      <th>id_aluno</th>\n",
       "      <th>nome</th>\n",
       "      <th>nota_media</th>\n",
       "    </tr>\n",
       "  </thead>\n",
       "  <tbody>\n",
       "    <tr>\n",
       "      <th>0</th>\n",
       "      <td>1</td>\n",
       "      <td>Rafael</td>\n",
       "      <td>4.3</td>\n",
       "    </tr>\n",
       "    <tr>\n",
       "      <th>1</th>\n",
       "      <td>2</td>\n",
       "      <td>Mariana</td>\n",
       "      <td>NaN</td>\n",
       "    </tr>\n",
       "    <tr>\n",
       "      <th>2</th>\n",
       "      <td>3</td>\n",
       "      <td>Eduardo</td>\n",
       "      <td>5.0</td>\n",
       "    </tr>\n",
       "    <tr>\n",
       "      <th>3</th>\n",
       "      <td>4</td>\n",
       "      <td>Camila</td>\n",
       "      <td>NaN</td>\n",
       "    </tr>\n",
       "    <tr>\n",
       "      <th>4</th>\n",
       "      <td>5</td>\n",
       "      <td>Gustavo</td>\n",
       "      <td>6.7</td>\n",
       "    </tr>\n",
       "    <tr>\n",
       "      <th>5</th>\n",
       "      <td>6</td>\n",
       "      <td>Fernanda</td>\n",
       "      <td>NaN</td>\n",
       "    </tr>\n",
       "    <tr>\n",
       "      <th>6</th>\n",
       "      <td>7</td>\n",
       "      <td>Lucas</td>\n",
       "      <td>8.9</td>\n",
       "    </tr>\n",
       "    <tr>\n",
       "      <th>7</th>\n",
       "      <td>8</td>\n",
       "      <td>Bianca</td>\n",
       "      <td>10.0</td>\n",
       "    </tr>\n",
       "    <tr>\n",
       "      <th>8</th>\n",
       "      <td>9</td>\n",
       "      <td>Ricardo</td>\n",
       "      <td>NaN</td>\n",
       "    </tr>\n",
       "    <tr>\n",
       "      <th>9</th>\n",
       "      <td>10</td>\n",
       "      <td>Juliana</td>\n",
       "      <td>9.3</td>\n",
       "    </tr>\n",
       "    <tr>\n",
       "      <th>10</th>\n",
       "      <td>11</td>\n",
       "      <td>André</td>\n",
       "      <td>NaN</td>\n",
       "    </tr>\n",
       "    <tr>\n",
       "      <th>11</th>\n",
       "      <td>12</td>\n",
       "      <td>Vanessa</td>\n",
       "      <td>4.0</td>\n",
       "    </tr>\n",
       "    <tr>\n",
       "      <th>12</th>\n",
       "      <td>13</td>\n",
       "      <td>Felipe</td>\n",
       "      <td>5.5</td>\n",
       "    </tr>\n",
       "    <tr>\n",
       "      <th>13</th>\n",
       "      <td>14</td>\n",
       "      <td>Amanda</td>\n",
       "      <td>8.7</td>\n",
       "    </tr>\n",
       "    <tr>\n",
       "      <th>14</th>\n",
       "      <td>15</td>\n",
       "      <td>Leonardo</td>\n",
       "      <td>NaN</td>\n",
       "    </tr>\n",
       "    <tr>\n",
       "      <th>15</th>\n",
       "      <td>16</td>\n",
       "      <td>Tatiane</td>\n",
       "      <td>5.7</td>\n",
       "    </tr>\n",
       "    <tr>\n",
       "      <th>16</th>\n",
       "      <td>17</td>\n",
       "      <td>Bruno</td>\n",
       "      <td>NaN</td>\n",
       "    </tr>\n",
       "    <tr>\n",
       "      <th>17</th>\n",
       "      <td>18</td>\n",
       "      <td>Carolina</td>\n",
       "      <td>9.2</td>\n",
       "    </tr>\n",
       "    <tr>\n",
       "      <th>18</th>\n",
       "      <td>19</td>\n",
       "      <td>Daniel</td>\n",
       "      <td>NaN</td>\n",
       "    </tr>\n",
       "    <tr>\n",
       "      <th>19</th>\n",
       "      <td>20</td>\n",
       "      <td>Isabela</td>\n",
       "      <td>9.7</td>\n",
       "    </tr>\n",
       "    <tr>\n",
       "      <th>20</th>\n",
       "      <td>25</td>\n",
       "      <td>NaN</td>\n",
       "      <td>10.0</td>\n",
       "    </tr>\n",
       "    <tr>\n",
       "      <th>21</th>\n",
       "      <td>31</td>\n",
       "      <td>NaN</td>\n",
       "      <td>0.6</td>\n",
       "    </tr>\n",
       "    <tr>\n",
       "      <th>22</th>\n",
       "      <td>34</td>\n",
       "      <td>NaN</td>\n",
       "      <td>7.5</td>\n",
       "    </tr>\n",
       "    <tr>\n",
       "      <th>23</th>\n",
       "      <td>37</td>\n",
       "      <td>NaN</td>\n",
       "      <td>7.0</td>\n",
       "    </tr>\n",
       "  </tbody>\n",
       "</table>\n",
       "</div>"
      ],
      "text/plain": [
       "    id_aluno      nome  nota_media\n",
       "0          1    Rafael         4.3\n",
       "1          2   Mariana         NaN\n",
       "2          3   Eduardo         5.0\n",
       "3          4    Camila         NaN\n",
       "4          5   Gustavo         6.7\n",
       "5          6  Fernanda         NaN\n",
       "6          7     Lucas         8.9\n",
       "7          8    Bianca        10.0\n",
       "8          9   Ricardo         NaN\n",
       "9         10   Juliana         9.3\n",
       "10        11     André         NaN\n",
       "11        12   Vanessa         4.0\n",
       "12        13    Felipe         5.5\n",
       "13        14    Amanda         8.7\n",
       "14        15  Leonardo         NaN\n",
       "15        16   Tatiane         5.7\n",
       "16        17     Bruno         NaN\n",
       "17        18  Carolina         9.2\n",
       "18        19    Daniel         NaN\n",
       "19        20   Isabela         9.7\n",
       "20        25       NaN        10.0\n",
       "21        31       NaN         0.6\n",
       "22        34       NaN         7.5\n",
       "23        37       NaN         7.0"
      ]
     },
     "execution_count": 19,
     "metadata": {},
     "output_type": "execute_result"
    }
   ],
   "source": [
    "df_outer_merged = pd.merge(df_alunos, df_notas, on='id_aluno', how='outer')\n",
    "\n",
    "df_outer_merged"
   ]
  },
  {
   "cell_type": "markdown",
   "id": "91c7a578-81c8-4082-80dc-829912fa170d",
   "metadata": {},
   "source": [
    "Perceba que:\n",
    "* O **outer join** mantém todas as linhas de ambos os DataFrames;\n",
    "* Se não houver correspondência em um dos DataFrames, os valores são preenchidos com `NaN`;\n",
    "* Podemos unir com uma ou mais colunas-chave (Podemos passar no atributo `on=` uma lista de colunas chaves);"
   ]
  },
  {
   "cell_type": "markdown",
   "id": "31aff09a-3185-40ad-b7da-70dfea407aa0",
   "metadata": {},
   "source": [
    "Portanto, nosso DataFrame com o `merge(df_alunos, df_notas, on='id_aluno', how='outer')` feito possui no final todas as **20 linhas** do DataFrame `df_notas` e todas as **16 linhas** do DataFrame `df_notas` com suas respectivas combinações e o valor `NaN` quando não existe correspondência."
   ]
  },
  {
   "cell_type": "markdown",
   "id": "b7c6a10d-c079-4138-823a-399e02716691",
   "metadata": {},
   "source": [
    "Quando usar o **outer join**:\n",
    "* Quando queremos manter todos os registros de ambos os DataFrames, independentemente de haver correspondência;\n",
    "* Quando estamos trabalhando com dados de fontes diferentes, e queremos unir tudo sem perder informações;\n",
    "* Quando precisamos identificar quais registros não têm correspondência entre os dois DataFrames;"
   ]
  },
  {
   "cell_type": "markdown",
   "id": "2f1a5ee4-18fa-40e5-8b9c-ae6df218563a",
   "metadata": {},
   "source": [
    "## Cross Join"
   ]
  },
  {
   "cell_type": "markdown",
   "id": "ba8d3a97-961b-4cce-b5e9-9991219410e9",
   "metadata": {},
   "source": [
    "O **CROSS JOIN** retorna o produto cartesiano dos dois DataFrames, ou seja, cada linha do DataFrame 1 é combinada com todas as linhas do DataFrame 2, independentemente de haver uma chave em comum."
   ]
  },
  {
   "attachments": {
    "f3fcba92-4025-452e-b4f1-ff80f780ae0f.png": {
     "image/png": "[encoded data removed]"
    }
   },
   "cell_type": "markdown",
   "id": "5735c7b3-a59e-4759-8b85-5ecd555a5622",
   "metadata": {},
   "source": [
    "![Cross Join.png](attachment:f3fcba92-4025-452e-b4f1-ff80f780ae0f.png)"
   ]
  },
  {
   "cell_type": "markdown",
   "id": "b8ffa5e2-445a-4e8b-a911-00131a9be4f3",
   "metadata": {},
   "source": [
    "Utilizaremos o seguinte DataFrame para exemplificar o **cros join** :"
   ]
  },
  {
   "cell_type": "code",
   "execution_count": 20,
   "id": "988847f1-b8d1-4842-80af-417af6c46c79",
   "metadata": {},
   "outputs": [
    {
     "data": {
      "text/html": [
       "<div>\n",
       "<style scoped>\n",
       "    .dataframe tbody tr th:only-of-type {\n",
       "        vertical-align: middle;\n",
       "    }\n",
       "\n",
       "    .dataframe tbody tr th {\n",
       "        vertical-align: top;\n",
       "    }\n",
       "\n",
       "    .dataframe thead th {\n",
       "        text-align: right;\n",
       "    }\n",
       "</style>\n",
       "<table border=\"1\" class=\"dataframe\">\n",
       "  <thead>\n",
       "    <tr style=\"text-align: right;\">\n",
       "      <th></th>\n",
       "      <th>nome</th>\n",
       "      <th>idade</th>\n",
       "    </tr>\n",
       "  </thead>\n",
       "  <tbody>\n",
       "    <tr>\n",
       "      <th>0</th>\n",
       "      <td>Lucas</td>\n",
       "      <td>30</td>\n",
       "    </tr>\n",
       "    <tr>\n",
       "      <th>1</th>\n",
       "      <td>Andressa</td>\n",
       "      <td>28</td>\n",
       "    </tr>\n",
       "    <tr>\n",
       "      <th>2</th>\n",
       "      <td>Gabriel</td>\n",
       "      <td>29</td>\n",
       "    </tr>\n",
       "  </tbody>\n",
       "</table>\n",
       "</div>"
      ],
      "text/plain": [
       "       nome  idade\n",
       "0     Lucas     30\n",
       "1  Andressa     28\n",
       "2   Gabriel     29"
      ]
     },
     "execution_count": 20,
     "metadata": {},
     "output_type": "execute_result"
    }
   ],
   "source": [
    "## Criando DataFrame 1\n",
    "Dataframe_1 = pd.DataFrame({\n",
    "    'nome' :['Lucas','Andressa','Gabriel'],\n",
    "    'idade':[30,28,29]\n",
    "})\n",
    "\n",
    "Dataframe_1"
   ]
  },
  {
   "cell_type": "code",
   "execution_count": 23,
   "id": "a3abbc04-86ca-4530-a193-434f8e23b80a",
   "metadata": {
    "scrolled": true
   },
   "outputs": [
    {
     "data": {
      "text/html": [
       "<div>\n",
       "<style scoped>\n",
       "    .dataframe tbody tr th:only-of-type {\n",
       "        vertical-align: middle;\n",
       "    }\n",
       "\n",
       "    .dataframe tbody tr th {\n",
       "        vertical-align: top;\n",
       "    }\n",
       "\n",
       "    .dataframe thead th {\n",
       "        text-align: right;\n",
       "    }\n",
       "</style>\n",
       "<table border=\"1\" class=\"dataframe\">\n",
       "  <thead>\n",
       "    <tr style=\"text-align: right;\">\n",
       "      <th></th>\n",
       "      <th>materias</th>\n",
       "      <th>nota_aprovacao</th>\n",
       "    </tr>\n",
       "  </thead>\n",
       "  <tbody>\n",
       "    <tr>\n",
       "      <th>0</th>\n",
       "      <td>Matemática</td>\n",
       "      <td>7.5</td>\n",
       "    </tr>\n",
       "    <tr>\n",
       "      <th>1</th>\n",
       "      <td>Geografia</td>\n",
       "      <td>6.0</td>\n",
       "    </tr>\n",
       "  </tbody>\n",
       "</table>\n",
       "</div>"
      ],
      "text/plain": [
       "     materias  nota_aprovacao\n",
       "0  Matemática             7.5\n",
       "1   Geografia             6.0"
      ]
     },
     "execution_count": 23,
     "metadata": {},
     "output_type": "execute_result"
    }
   ],
   "source": [
    "## Criando DataFrame 2\n",
    "Dataframe_2 = pd.DataFrame({\n",
    "    'materias' :['Matemática','Geografia'],\n",
    "    'nota_aprovacao':[7.5,6.0]\n",
    "})\n",
    "\n",
    "Dataframe_2"
   ]
  },
  {
   "cell_type": "code",
   "execution_count": 24,
   "id": "ed0d204c-d70d-416d-b01e-6866366a9fa8",
   "metadata": {},
   "outputs": [
    {
     "data": {
      "text/html": [
       "<div>\n",
       "<style scoped>\n",
       "    .dataframe tbody tr th:only-of-type {\n",
       "        vertical-align: middle;\n",
       "    }\n",
       "\n",
       "    .dataframe tbody tr th {\n",
       "        vertical-align: top;\n",
       "    }\n",
       "\n",
       "    .dataframe thead th {\n",
       "        text-align: right;\n",
       "    }\n",
       "</style>\n",
       "<table border=\"1\" class=\"dataframe\">\n",
       "  <thead>\n",
       "    <tr style=\"text-align: right;\">\n",
       "      <th></th>\n",
       "      <th>nome</th>\n",
       "      <th>idade</th>\n",
       "      <th>materias</th>\n",
       "      <th>nota_aprovacao</th>\n",
       "    </tr>\n",
       "  </thead>\n",
       "  <tbody>\n",
       "    <tr>\n",
       "      <th>0</th>\n",
       "      <td>Lucas</td>\n",
       "      <td>30</td>\n",
       "      <td>Matemática</td>\n",
       "      <td>7.5</td>\n",
       "    </tr>\n",
       "    <tr>\n",
       "      <th>1</th>\n",
       "      <td>Lucas</td>\n",
       "      <td>30</td>\n",
       "      <td>Geografia</td>\n",
       "      <td>6.0</td>\n",
       "    </tr>\n",
       "    <tr>\n",
       "      <th>2</th>\n",
       "      <td>Andressa</td>\n",
       "      <td>28</td>\n",
       "      <td>Matemática</td>\n",
       "      <td>7.5</td>\n",
       "    </tr>\n",
       "    <tr>\n",
       "      <th>3</th>\n",
       "      <td>Andressa</td>\n",
       "      <td>28</td>\n",
       "      <td>Geografia</td>\n",
       "      <td>6.0</td>\n",
       "    </tr>\n",
       "    <tr>\n",
       "      <th>4</th>\n",
       "      <td>Gabriel</td>\n",
       "      <td>29</td>\n",
       "      <td>Matemática</td>\n",
       "      <td>7.5</td>\n",
       "    </tr>\n",
       "    <tr>\n",
       "      <th>5</th>\n",
       "      <td>Gabriel</td>\n",
       "      <td>29</td>\n",
       "      <td>Geografia</td>\n",
       "      <td>6.0</td>\n",
       "    </tr>\n",
       "  </tbody>\n",
       "</table>\n",
       "</div>"
      ],
      "text/plain": [
       "       nome  idade    materias  nota_aprovacao\n",
       "0     Lucas     30  Matemática             7.5\n",
       "1     Lucas     30   Geografia             6.0\n",
       "2  Andressa     28  Matemática             7.5\n",
       "3  Andressa     28   Geografia             6.0\n",
       "4   Gabriel     29  Matemática             7.5\n",
       "5   Gabriel     29   Geografia             6.0"
      ]
     },
     "execution_count": 24,
     "metadata": {},
     "output_type": "execute_result"
    }
   ],
   "source": [
    "df_cross_merged = pd.merge(Dataframe_1, Dataframe_2, how='cross')\n",
    "\n",
    "df_cross_merged"
   ]
  },
  {
   "cell_type": "markdown",
   "id": "6031e31d-0d95-4725-8f4e-1825010745eb",
   "metadata": {},
   "source": [
    "Perceba que:\n",
    "* O **cross join** cada linha do DataFrame 1 foi combinada com todas as linhas de DataFrame 2;\n",
    "* O resultado tem **N * M** linhas, onde **N** é o número de linhas em `DataFrame_1` e **M** é o número de linhas em `DataFrame_2`;\n",
    "* Não contém o parâmetro `on=`"
   ]
  },
  {
   "cell_type": "markdown",
   "id": "b3b9def3-8687-40ad-890c-57611419b668",
   "metadata": {},
   "source": [
    "Portanto, nosso DataFrame com o `merge(Dataframe_1, Dataframe_2, how='cross')` feito possui no final todas as **6 linhas** já que o resultado do **cross join** sempre é o número de linhas do DataFrame 1 (**3 linhas**) * número de linhas do DataFrame 2 (**2 linhas**), o que é igual a **6* linhas*."
   ]
  },
  {
   "cell_type": "markdown",
   "id": "eafa90cf-9c54-41b7-be19-61d837c15f23",
   "metadata": {},
   "source": [
    "Quando usar o **cross join**:\n",
    "* Quando precisamos combinar todas as possibilidades entre dois conjuntos de dados;\n",
    "* Em casos de simulações e modelagens, onde cada variável precisa ser combinada com todas as outras;\n",
    "* Para criar combinações exaustivas entre duas tabelas que não possuem uma chave comum;"
   ]
  },
  {
   "cell_type": "markdown",
   "id": "d5d0dd5a-4fee-4f0a-9a3f-37be84aa45c8",
   "metadata": {},
   "source": [
    "# Concat"
   ]
  },
  {
   "cell_type": "markdown",
   "id": "ebcbe1b5-7fbf-4ddb-81f9-9e7197669923",
   "metadata": {},
   "source": [
    "No **SQL**, a operação `UNION` combina os resultados de duas tabelas. No Pandas, usamos a função `concat()` para empilhar DataFrames de forma **VERTICAL** (Adicionando mais linhas) ou de forma **HORIZONTAL** (Adicionando mais colunas)."
   ]
  },
  {
   "cell_type": "markdown",
   "id": "0da75df7-08c3-4e9b-abce-a7d9da06bc92",
   "metadata": {},
   "source": [
    "Sintaxe básica do método `concat()` :"
   ]
  },
  {
   "cell_type": "markdown",
   "id": "b77a82a6-21f2-4c58-98dc-30c6b191d507",
   "metadata": {},
   "source": [
    "`df_concat = pd.concat(lista_df, axis=0, join='tipo_de_join', ignore_index=False, keys=None)`"
   ]
  },
  {
   "cell_type": "markdown",
   "id": "e9657059-0e3c-428c-8418-7f160d1e992e",
   "metadata": {},
   "source": [
    "* **lista_df** : Lista de DataFrames a serem concatenados;\n",
    "* **axis=0 (Padrão)** : Concatena verticalmente (adiciona linhas, igual ao `UNION ALL` do **SQL**);\n",
    "* **axis=1** : Concatena horizontalmente (adiciona colunas, similar a um `JOIN`);\n",
    "* **join='outer' (Padrão)** : Mantém todas as colunas, preenchendo `NaN` quando necessário;\n",
    "* **join='inner'** : Mantém somente as colunas comuns entre os DataFrames;\n",
    "* **ignore_index=True** : Índices vão ser reajustados automaticamente;\n",
    "* **keys=['R1','R2']** : Adiciona rótulos de identificação para cada DataFrame concatenado;"
   ]
  },
  {
   "cell_type": "markdown",
   "id": "b09b0679-f2b7-407f-a9be-b1207f3ded85",
   "metadata": {},
   "source": [
    "Para exemplificar o método `concat()` usaremos os seguintes DataFrames:"
   ]
  },
  {
   "cell_type": "code",
   "execution_count": 27,
   "id": "2ea614ca-8325-4207-a578-eb495b0b2128",
   "metadata": {
    "scrolled": true
   },
   "outputs": [
    {
     "data": {
      "text/html": [
       "<div>\n",
       "<style scoped>\n",
       "    .dataframe tbody tr th:only-of-type {\n",
       "        vertical-align: middle;\n",
       "    }\n",
       "\n",
       "    .dataframe tbody tr th {\n",
       "        vertical-align: top;\n",
       "    }\n",
       "\n",
       "    .dataframe thead th {\n",
       "        text-align: right;\n",
       "    }\n",
       "</style>\n",
       "<table border=\"1\" class=\"dataframe\">\n",
       "  <thead>\n",
       "    <tr style=\"text-align: right;\">\n",
       "      <th></th>\n",
       "      <th>ID</th>\n",
       "      <th>Nome</th>\n",
       "      <th>Idade</th>\n",
       "    </tr>\n",
       "  </thead>\n",
       "  <tbody>\n",
       "    <tr>\n",
       "      <th>0</th>\n",
       "      <td>1</td>\n",
       "      <td>Ana</td>\n",
       "      <td>25</td>\n",
       "    </tr>\n",
       "    <tr>\n",
       "      <th>1</th>\n",
       "      <td>2</td>\n",
       "      <td>Bruno</td>\n",
       "      <td>35</td>\n",
       "    </tr>\n",
       "    <tr>\n",
       "      <th>2</th>\n",
       "      <td>3</td>\n",
       "      <td>Lucas</td>\n",
       "      <td>30</td>\n",
       "    </tr>\n",
       "    <tr>\n",
       "      <th>3</th>\n",
       "      <td>4</td>\n",
       "      <td>Andressa</td>\n",
       "      <td>28</td>\n",
       "    </tr>\n",
       "    <tr>\n",
       "      <th>4</th>\n",
       "      <td>5</td>\n",
       "      <td>Marcelo</td>\n",
       "      <td>20</td>\n",
       "    </tr>\n",
       "  </tbody>\n",
       "</table>\n",
       "</div>"
      ],
      "text/plain": [
       "   ID      Nome  Idade\n",
       "0   1       Ana     25\n",
       "1   2     Bruno     35\n",
       "2   3     Lucas     30\n",
       "3   4  Andressa     28\n",
       "4   5   Marcelo     20"
      ]
     },
     "execution_count": 27,
     "metadata": {},
     "output_type": "execute_result"
    }
   ],
   "source": [
    "## Criando DataFrame 1 contendo cadastro de pessoas feito via site\n",
    "df_cadastro_site = pd.DataFrame({\n",
    "    'ID': [1, 2, 3, 4, 5], \n",
    "    'Nome': ['Ana', 'Bruno', 'Lucas', 'Andressa', 'Marcelo'],\n",
    "    'Idade': [25, 35, 30, 28, 20]})\n",
    "\n",
    "df_cadastro_site"
   ]
  },
  {
   "cell_type": "code",
   "execution_count": 30,
   "id": "65575583-17f7-4bdb-94ce-a8c65ea55b59",
   "metadata": {
    "scrolled": true
   },
   "outputs": [
    {
     "data": {
      "text/html": [
       "<div>\n",
       "<style scoped>\n",
       "    .dataframe tbody tr th:only-of-type {\n",
       "        vertical-align: middle;\n",
       "    }\n",
       "\n",
       "    .dataframe tbody tr th {\n",
       "        vertical-align: top;\n",
       "    }\n",
       "\n",
       "    .dataframe thead th {\n",
       "        text-align: right;\n",
       "    }\n",
       "</style>\n",
       "<table border=\"1\" class=\"dataframe\">\n",
       "  <thead>\n",
       "    <tr style=\"text-align: right;\">\n",
       "      <th></th>\n",
       "      <th>ID</th>\n",
       "      <th>Nome</th>\n",
       "      <th>Idade</th>\n",
       "      <th>Sexo</th>\n",
       "    </tr>\n",
       "  </thead>\n",
       "  <tbody>\n",
       "    <tr>\n",
       "      <th>0</th>\n",
       "      <td>6</td>\n",
       "      <td>Frederico</td>\n",
       "      <td>25</td>\n",
       "      <td>M</td>\n",
       "    </tr>\n",
       "    <tr>\n",
       "      <th>1</th>\n",
       "      <td>7</td>\n",
       "      <td>Junior</td>\n",
       "      <td>40</td>\n",
       "      <td>M</td>\n",
       "    </tr>\n",
       "    <tr>\n",
       "      <th>2</th>\n",
       "      <td>8</td>\n",
       "      <td>Pedro</td>\n",
       "      <td>70</td>\n",
       "      <td>M</td>\n",
       "    </tr>\n",
       "    <tr>\n",
       "      <th>3</th>\n",
       "      <td>9</td>\n",
       "      <td>Gabriela</td>\n",
       "      <td>33</td>\n",
       "      <td>F</td>\n",
       "    </tr>\n",
       "    <tr>\n",
       "      <th>4</th>\n",
       "      <td>10</td>\n",
       "      <td>Lucia</td>\n",
       "      <td>45</td>\n",
       "      <td>F</td>\n",
       "    </tr>\n",
       "  </tbody>\n",
       "</table>\n",
       "</div>"
      ],
      "text/plain": [
       "   ID       Nome  Idade Sexo\n",
       "0   6  Frederico     25    M\n",
       "1   7     Junior     40    M\n",
       "2   8      Pedro     70    M\n",
       "3   9   Gabriela     33    F\n",
       "4  10      Lucia     45    F"
      ]
     },
     "execution_count": 30,
     "metadata": {},
     "output_type": "execute_result"
    }
   ],
   "source": [
    "## Criando DataFrame 2 contendo cadastro de pessoas feito via visita\n",
    "df_cadastro_visita = pd.DataFrame({\n",
    "    'ID': [6, 7, 8, 9, 10], \n",
    "    'Nome': ['Frederico', 'Junior', 'Pedro', 'Gabriela', 'Lucia'],\n",
    "    'Idade': [25, 40, 70, 33, 45],\n",
    "    'Sexo': ['M','M','M','F','F']})\n",
    "\n",
    "df_cadastro_visita"
   ]
  },
  {
   "cell_type": "code",
   "execution_count": 44,
   "id": "dbd2927f-e2a6-47ef-a9bb-05d86dd3d97c",
   "metadata": {},
   "outputs": [
    {
     "data": {
      "text/html": [
       "<div>\n",
       "<style scoped>\n",
       "    .dataframe tbody tr th:only-of-type {\n",
       "        vertical-align: middle;\n",
       "    }\n",
       "\n",
       "    .dataframe tbody tr th {\n",
       "        vertical-align: top;\n",
       "    }\n",
       "\n",
       "    .dataframe thead th {\n",
       "        text-align: right;\n",
       "    }\n",
       "</style>\n",
       "<table border=\"1\" class=\"dataframe\">\n",
       "  <thead>\n",
       "    <tr style=\"text-align: right;\">\n",
       "      <th></th>\n",
       "      <th>Profissão</th>\n",
       "      <th>Salario</th>\n",
       "    </tr>\n",
       "  </thead>\n",
       "  <tbody>\n",
       "    <tr>\n",
       "      <th>0</th>\n",
       "      <td>Professor</td>\n",
       "      <td>5000</td>\n",
       "    </tr>\n",
       "    <tr>\n",
       "      <th>1</th>\n",
       "      <td>Motorista</td>\n",
       "      <td>6500</td>\n",
       "    </tr>\n",
       "    <tr>\n",
       "      <th>2</th>\n",
       "      <td>Segurança</td>\n",
       "      <td>3200</td>\n",
       "    </tr>\n",
       "    <tr>\n",
       "      <th>3</th>\n",
       "      <td>Entregador</td>\n",
       "      <td>4400</td>\n",
       "    </tr>\n",
       "  </tbody>\n",
       "</table>\n",
       "</div>"
      ],
      "text/plain": [
       "    Profissão  Salario\n",
       "0   Professor     5000\n",
       "1   Motorista     6500\n",
       "2   Segurança     3200\n",
       "3  Entregador     4400"
      ]
     },
     "execution_count": 44,
     "metadata": {},
     "output_type": "execute_result"
    }
   ],
   "source": [
    "## Criando DataFrame 2 contendo cadastro de pessoas feito via visita\n",
    "df_salario = pd.DataFrame({\n",
    "    'Profissão': ['Professor', 'Motorista', 'Segurança', 'Entregador'], \n",
    "    'Salario': [5000,6500,3200,4400]\n",
    "    })\n",
    "\n",
    "df_salario"
   ]
  },
  {
   "cell_type": "markdown",
   "id": "519dff2c-dd88-416c-8694-ab44637b3f2b",
   "metadata": {},
   "source": [
    "## Concatenação Vertical"
   ]
  },
  {
   "cell_type": "markdown",
   "id": "51f463ac-9dea-4609-a32e-5be5d97d0325",
   "metadata": {},
   "source": [
    "A concatenação vertical é a operação de 'empilhar' DataFrames, adicionando novas linhas. No Pandas, isso é feito com `concat()` usando `axis=0` (padrão)."
   ]
  },
  {
   "attachments": {
    "750ae8c0-8f38-452b-ab5a-29b44813e98d.png": {
     "image/png": "[encoded data removed]"
    }
   },
   "cell_type": "markdown",
   "id": "42fc087e-a796-43b4-bf31-a2188ac95c42",
   "metadata": {},
   "source": [
    "![concat 0.png](attachment:750ae8c0-8f38-452b-ab5a-29b44813e98d.png)"
   ]
  },
  {
   "cell_type": "code",
   "execution_count": 46,
   "id": "a50e8d8f-8fe3-4808-9424-ea7436032f11",
   "metadata": {},
   "outputs": [
    {
     "data": {
      "text/html": [
       "<div>\n",
       "<style scoped>\n",
       "    .dataframe tbody tr th:only-of-type {\n",
       "        vertical-align: middle;\n",
       "    }\n",
       "\n",
       "    .dataframe tbody tr th {\n",
       "        vertical-align: top;\n",
       "    }\n",
       "\n",
       "    .dataframe thead th {\n",
       "        text-align: right;\n",
       "    }\n",
       "</style>\n",
       "<table border=\"1\" class=\"dataframe\">\n",
       "  <thead>\n",
       "    <tr style=\"text-align: right;\">\n",
       "      <th></th>\n",
       "      <th>ID</th>\n",
       "      <th>Nome</th>\n",
       "      <th>Idade</th>\n",
       "      <th>Sexo</th>\n",
       "    </tr>\n",
       "  </thead>\n",
       "  <tbody>\n",
       "    <tr>\n",
       "      <th>0</th>\n",
       "      <td>1</td>\n",
       "      <td>Ana</td>\n",
       "      <td>25</td>\n",
       "      <td>NaN</td>\n",
       "    </tr>\n",
       "    <tr>\n",
       "      <th>1</th>\n",
       "      <td>2</td>\n",
       "      <td>Bruno</td>\n",
       "      <td>35</td>\n",
       "      <td>NaN</td>\n",
       "    </tr>\n",
       "    <tr>\n",
       "      <th>2</th>\n",
       "      <td>3</td>\n",
       "      <td>Lucas</td>\n",
       "      <td>30</td>\n",
       "      <td>NaN</td>\n",
       "    </tr>\n",
       "    <tr>\n",
       "      <th>3</th>\n",
       "      <td>4</td>\n",
       "      <td>Andressa</td>\n",
       "      <td>28</td>\n",
       "      <td>NaN</td>\n",
       "    </tr>\n",
       "    <tr>\n",
       "      <th>4</th>\n",
       "      <td>5</td>\n",
       "      <td>Marcelo</td>\n",
       "      <td>20</td>\n",
       "      <td>NaN</td>\n",
       "    </tr>\n",
       "    <tr>\n",
       "      <th>5</th>\n",
       "      <td>6</td>\n",
       "      <td>Frederico</td>\n",
       "      <td>25</td>\n",
       "      <td>M</td>\n",
       "    </tr>\n",
       "    <tr>\n",
       "      <th>6</th>\n",
       "      <td>7</td>\n",
       "      <td>Junior</td>\n",
       "      <td>40</td>\n",
       "      <td>M</td>\n",
       "    </tr>\n",
       "    <tr>\n",
       "      <th>7</th>\n",
       "      <td>8</td>\n",
       "      <td>Pedro</td>\n",
       "      <td>70</td>\n",
       "      <td>M</td>\n",
       "    </tr>\n",
       "    <tr>\n",
       "      <th>8</th>\n",
       "      <td>9</td>\n",
       "      <td>Gabriela</td>\n",
       "      <td>33</td>\n",
       "      <td>F</td>\n",
       "    </tr>\n",
       "    <tr>\n",
       "      <th>9</th>\n",
       "      <td>10</td>\n",
       "      <td>Lucia</td>\n",
       "      <td>45</td>\n",
       "      <td>F</td>\n",
       "    </tr>\n",
       "  </tbody>\n",
       "</table>\n",
       "</div>"
      ],
      "text/plain": [
       "   ID       Nome  Idade Sexo\n",
       "0   1        Ana     25  NaN\n",
       "1   2      Bruno     35  NaN\n",
       "2   3      Lucas     30  NaN\n",
       "3   4   Andressa     28  NaN\n",
       "4   5    Marcelo     20  NaN\n",
       "5   6  Frederico     25    M\n",
       "6   7     Junior     40    M\n",
       "7   8      Pedro     70    M\n",
       "8   9   Gabriela     33    F\n",
       "9  10      Lucia     45    F"
      ]
     },
     "execution_count": 46,
     "metadata": {},
     "output_type": "execute_result"
    }
   ],
   "source": [
    "## Concatenando o DataFrame 1 (df_cadastro_site) com o DataFrame 2 (df_cadastro_visita)\n",
    "df_vertical_concat = pd.concat([df_cadastro_site, df_cadastro_visita], ignore_index=True)\n",
    "\n",
    "df_vertical_concat"
   ]
  },
  {
   "cell_type": "markdown",
   "id": "5e182578-3604-4055-b705-7cb8f2bf8ce4",
   "metadata": {},
   "source": [
    "Repare que a coluna que existia de diferente entre a lista de DataFrames (**'Sexo'**) foi preenchida como `NaN` e o novo DataFrame `df_vertical_concat` contém agora **10 linhas** e **4 colunas**."
   ]
  },
  {
   "cell_type": "markdown",
   "id": "cf74a3fa-b601-4f89-b679-7e2d75d92d9a",
   "metadata": {},
   "source": [
    "Podemos utilizar a junção `join='inner'` para obtermos apenas o empilhamento de linhas com colunas identicas entre a lista de DataFrames:"
   ]
  },
  {
   "cell_type": "code",
   "execution_count": 40,
   "id": "d4d6684b-ba39-44e2-befc-9e4bf11e26ae",
   "metadata": {},
   "outputs": [
    {
     "data": {
      "text/html": [
       "<div>\n",
       "<style scoped>\n",
       "    .dataframe tbody tr th:only-of-type {\n",
       "        vertical-align: middle;\n",
       "    }\n",
       "\n",
       "    .dataframe tbody tr th {\n",
       "        vertical-align: top;\n",
       "    }\n",
       "\n",
       "    .dataframe thead th {\n",
       "        text-align: right;\n",
       "    }\n",
       "</style>\n",
       "<table border=\"1\" class=\"dataframe\">\n",
       "  <thead>\n",
       "    <tr style=\"text-align: right;\">\n",
       "      <th></th>\n",
       "      <th>ID</th>\n",
       "      <th>Nome</th>\n",
       "      <th>Idade</th>\n",
       "    </tr>\n",
       "  </thead>\n",
       "  <tbody>\n",
       "    <tr>\n",
       "      <th>0</th>\n",
       "      <td>1</td>\n",
       "      <td>Ana</td>\n",
       "      <td>25</td>\n",
       "    </tr>\n",
       "    <tr>\n",
       "      <th>1</th>\n",
       "      <td>2</td>\n",
       "      <td>Bruno</td>\n",
       "      <td>35</td>\n",
       "    </tr>\n",
       "    <tr>\n",
       "      <th>2</th>\n",
       "      <td>3</td>\n",
       "      <td>Lucas</td>\n",
       "      <td>30</td>\n",
       "    </tr>\n",
       "    <tr>\n",
       "      <th>3</th>\n",
       "      <td>4</td>\n",
       "      <td>Andressa</td>\n",
       "      <td>28</td>\n",
       "    </tr>\n",
       "    <tr>\n",
       "      <th>4</th>\n",
       "      <td>5</td>\n",
       "      <td>Marcelo</td>\n",
       "      <td>20</td>\n",
       "    </tr>\n",
       "    <tr>\n",
       "      <th>5</th>\n",
       "      <td>6</td>\n",
       "      <td>Frederico</td>\n",
       "      <td>25</td>\n",
       "    </tr>\n",
       "    <tr>\n",
       "      <th>6</th>\n",
       "      <td>7</td>\n",
       "      <td>Junior</td>\n",
       "      <td>40</td>\n",
       "    </tr>\n",
       "    <tr>\n",
       "      <th>7</th>\n",
       "      <td>8</td>\n",
       "      <td>Pedro</td>\n",
       "      <td>70</td>\n",
       "    </tr>\n",
       "    <tr>\n",
       "      <th>8</th>\n",
       "      <td>9</td>\n",
       "      <td>Gabriela</td>\n",
       "      <td>33</td>\n",
       "    </tr>\n",
       "    <tr>\n",
       "      <th>9</th>\n",
       "      <td>10</td>\n",
       "      <td>Lucia</td>\n",
       "      <td>45</td>\n",
       "    </tr>\n",
       "  </tbody>\n",
       "</table>\n",
       "</div>"
      ],
      "text/plain": [
       "   ID       Nome  Idade\n",
       "0   1        Ana     25\n",
       "1   2      Bruno     35\n",
       "2   3      Lucas     30\n",
       "3   4   Andressa     28\n",
       "4   5    Marcelo     20\n",
       "5   6  Frederico     25\n",
       "6   7     Junior     40\n",
       "7   8      Pedro     70\n",
       "8   9   Gabriela     33\n",
       "9  10      Lucia     45"
      ]
     },
     "execution_count": 40,
     "metadata": {},
     "output_type": "execute_result"
    }
   ],
   "source": [
    "## Concatenando apenas as colunas iguais do DataFrame 1 (df_cadastro_site) com o DataFrame 2 (df_cadastro_visita)\n",
    "df_vertical_inner_concat = pd.concat([df_cadastro_site, df_cadastro_visita], join='inner', ignore_index=True)\n",
    "\n",
    "df_vertical_inner_concat"
   ]
  },
  {
   "cell_type": "markdown",
   "id": "db9523f7-9767-406b-8b59-802dacba90d3",
   "metadata": {},
   "source": [
    "Agora a coluna **'Sexo'** não existe mais e o empilhamento de linhas aconteceu somente nas colunas que eram identicas na lista de FataFrames. O novo DataFrame `df_vertical_inner_concat` contém agora **10 linhas** e **3 colunas**."
   ]
  },
  {
   "cell_type": "markdown",
   "id": "ab8cb5d1-b755-48c1-a9f8-5b71eab5be46",
   "metadata": {},
   "source": [
    "Quando usar a **concatenação com `axis=0`?**:\n",
    "* Quando temos dados adicionais da mesma estrutura e queremos empilha-los;\n",
    "* Para combinar datasets de diferentes períodos (ex: dados de vendas mensais e/ou anuais);\n",
    "* Para empilhar registros de diferentes fontes sem alterar as colunas;"
   ]
  },
  {
   "cell_type": "markdown",
   "id": "4d076946-851d-4ce8-a793-f14552d7e6ec",
   "metadata": {},
   "source": [
    "## Concatenação Horizontal"
   ]
  },
  {
   "cell_type": "markdown",
   "id": "0ab26fd7-1662-4cf5-a90f-c1998ff5ff72",
   "metadata": {},
   "source": [
    "A concatenação horizontal é a operação de juntar DataFrames lado a lado, adicionando novas colunas em vez de novas linhas. No Pandas, fazemos isso com `concat()` usando `axis=1`."
   ]
  },
  {
   "attachments": {
    "d3615280-0998-4eb3-849b-3699b2bae7d0.png": {
     "image/png": "[encoded data removed]"
    }
   },
   "cell_type": "markdown",
   "id": "d7a648ae-391d-47a3-9328-c32de5ee7e93",
   "metadata": {},
   "source": [
    "![concat 1.png](attachment:d3615280-0998-4eb3-849b-3699b2bae7d0.png)"
   ]
  },
  {
   "cell_type": "code",
   "execution_count": 49,
   "id": "58479f34-7bfe-491e-81a4-3e340809c35a",
   "metadata": {},
   "outputs": [
    {
     "data": {
      "text/html": [
       "<div>\n",
       "<style scoped>\n",
       "    .dataframe tbody tr th:only-of-type {\n",
       "        vertical-align: middle;\n",
       "    }\n",
       "\n",
       "    .dataframe tbody tr th {\n",
       "        vertical-align: top;\n",
       "    }\n",
       "\n",
       "    .dataframe thead th {\n",
       "        text-align: right;\n",
       "    }\n",
       "</style>\n",
       "<table border=\"1\" class=\"dataframe\">\n",
       "  <thead>\n",
       "    <tr style=\"text-align: right;\">\n",
       "      <th></th>\n",
       "      <th>ID</th>\n",
       "      <th>Nome</th>\n",
       "      <th>Idade</th>\n",
       "      <th>Profissão</th>\n",
       "      <th>Salario</th>\n",
       "    </tr>\n",
       "  </thead>\n",
       "  <tbody>\n",
       "    <tr>\n",
       "      <th>0</th>\n",
       "      <td>1</td>\n",
       "      <td>Ana</td>\n",
       "      <td>25</td>\n",
       "      <td>Professor</td>\n",
       "      <td>5000.0</td>\n",
       "    </tr>\n",
       "    <tr>\n",
       "      <th>1</th>\n",
       "      <td>2</td>\n",
       "      <td>Bruno</td>\n",
       "      <td>35</td>\n",
       "      <td>Motorista</td>\n",
       "      <td>6500.0</td>\n",
       "    </tr>\n",
       "    <tr>\n",
       "      <th>2</th>\n",
       "      <td>3</td>\n",
       "      <td>Lucas</td>\n",
       "      <td>30</td>\n",
       "      <td>Segurança</td>\n",
       "      <td>3200.0</td>\n",
       "    </tr>\n",
       "    <tr>\n",
       "      <th>3</th>\n",
       "      <td>4</td>\n",
       "      <td>Andressa</td>\n",
       "      <td>28</td>\n",
       "      <td>Entregador</td>\n",
       "      <td>4400.0</td>\n",
       "    </tr>\n",
       "    <tr>\n",
       "      <th>4</th>\n",
       "      <td>5</td>\n",
       "      <td>Marcelo</td>\n",
       "      <td>20</td>\n",
       "      <td>NaN</td>\n",
       "      <td>NaN</td>\n",
       "    </tr>\n",
       "  </tbody>\n",
       "</table>\n",
       "</div>"
      ],
      "text/plain": [
       "   ID      Nome  Idade   Profissão  Salario\n",
       "0   1       Ana     25   Professor   5000.0\n",
       "1   2     Bruno     35   Motorista   6500.0\n",
       "2   3     Lucas     30   Segurança   3200.0\n",
       "3   4  Andressa     28  Entregador   4400.0\n",
       "4   5   Marcelo     20         NaN      NaN"
      ]
     },
     "execution_count": 49,
     "metadata": {},
     "output_type": "execute_result"
    }
   ],
   "source": [
    "## Concatenando o DataFrame 1 (df_cadastro_site) com o DataFrame 3 (df_salario)\n",
    "df_horizontal_concat = pd.concat([df_cadastro_site, df_salario],axis=1)\n",
    "\n",
    "df_horizontal_concat"
   ]
  },
  {
   "cell_type": "markdown",
   "id": "3933b90c-1b1b-4b20-a5f3-01092aa2c97c",
   "metadata": {},
   "source": [
    "Repare que os DataFrames foram unidos lado a lado, formando um novo conjunto de colunas no novo DataFrame `df_horizontal_concat` e que os índices diferentes foram preenchidos com `NaN`."
   ]
  },
  {
   "cell_type": "markdown",
   "id": "ef677ce8-4294-4197-8612-f36cc7ebf4b5",
   "metadata": {},
   "source": [
    "Podemos também utilizar a junção `join='inner'` na concatenação com `axis=1`:"
   ]
  },
  {
   "cell_type": "code",
   "execution_count": 50,
   "id": "07c58fb2-4e3c-4678-a5f7-5ee9065a4319",
   "metadata": {},
   "outputs": [
    {
     "data": {
      "text/html": [
       "<div>\n",
       "<style scoped>\n",
       "    .dataframe tbody tr th:only-of-type {\n",
       "        vertical-align: middle;\n",
       "    }\n",
       "\n",
       "    .dataframe tbody tr th {\n",
       "        vertical-align: top;\n",
       "    }\n",
       "\n",
       "    .dataframe thead th {\n",
       "        text-align: right;\n",
       "    }\n",
       "</style>\n",
       "<table border=\"1\" class=\"dataframe\">\n",
       "  <thead>\n",
       "    <tr style=\"text-align: right;\">\n",
       "      <th></th>\n",
       "      <th>ID</th>\n",
       "      <th>Nome</th>\n",
       "      <th>Idade</th>\n",
       "      <th>Profissão</th>\n",
       "      <th>Salario</th>\n",
       "    </tr>\n",
       "  </thead>\n",
       "  <tbody>\n",
       "    <tr>\n",
       "      <th>0</th>\n",
       "      <td>1</td>\n",
       "      <td>Ana</td>\n",
       "      <td>25</td>\n",
       "      <td>Professor</td>\n",
       "      <td>5000</td>\n",
       "    </tr>\n",
       "    <tr>\n",
       "      <th>1</th>\n",
       "      <td>2</td>\n",
       "      <td>Bruno</td>\n",
       "      <td>35</td>\n",
       "      <td>Motorista</td>\n",
       "      <td>6500</td>\n",
       "    </tr>\n",
       "    <tr>\n",
       "      <th>2</th>\n",
       "      <td>3</td>\n",
       "      <td>Lucas</td>\n",
       "      <td>30</td>\n",
       "      <td>Segurança</td>\n",
       "      <td>3200</td>\n",
       "    </tr>\n",
       "    <tr>\n",
       "      <th>3</th>\n",
       "      <td>4</td>\n",
       "      <td>Andressa</td>\n",
       "      <td>28</td>\n",
       "      <td>Entregador</td>\n",
       "      <td>4400</td>\n",
       "    </tr>\n",
       "  </tbody>\n",
       "</table>\n",
       "</div>"
      ],
      "text/plain": [
       "   ID      Nome  Idade   Profissão  Salario\n",
       "0   1       Ana     25   Professor     5000\n",
       "1   2     Bruno     35   Motorista     6500\n",
       "2   3     Lucas     30   Segurança     3200\n",
       "3   4  Andressa     28  Entregador     4400"
      ]
     },
     "execution_count": 50,
     "metadata": {},
     "output_type": "execute_result"
    }
   ],
   "source": [
    "## Concatenando apenas índices iguais do DataFrame 1 (df_cadastro_site) com o DataFrame 3 (df_salario)\n",
    "df_horizontal_inner_concat = pd.concat([df_cadastro_site, df_salario],axis=1,join='inner')\n",
    "\n",
    "df_horizontal_inner_concat"
   ]
  },
  {
   "cell_type": "markdown",
   "id": "cea7a9f2-fa0c-430f-8cfa-4fe0bb188b45",
   "metadata": {},
   "source": [
    "Agora apenas os índices iguais foram mantidos no novo DataFrame `df_horizontal_inner_concat`."
   ]
  },
  {
   "cell_type": "markdown",
   "id": "b2d5b845-b646-4a15-9c70-36f1f3d53213",
   "metadata": {},
   "source": [
    "Quando usar a **concatenação com `axis=1`?**:\n",
    "* Quando temos dados complementares sobre as mesmas observações;\n",
    "* Quando queremos juntar informações de diferentes fontes;\n",
    "* Quando precisamos combinar colunas extras em um DataFrame;"
   ]
  }
 ],
 "metadata": {
  "kernelspec": {
   "display_name": "Python 3 (ipykernel)",
   "language": "python",
   "name": "python3"
  },
  "language_info": {
   "codemirror_mode": {
    "name": "ipython",
    "version": 3
   },
   "file_extension": ".py",
   "mimetype": "text/x-python",
   "name": "python",
   "nbconvert_exporter": "python",
   "pygments_lexer": "ipython3",
   "version": "3.12.7"
  }
 },
 "nbformat": 4,
 "nbformat_minor": 5
}
