{
 "cells": [
  {
   "cell_type": "code",
   "execution_count": 47,
   "id": "ead5a7f2-7108-452a-a507-6c07104024ae",
   "metadata": {},
   "outputs": [],
   "source": [
    "import pandas as pd"
   ]
  },
  {
   "cell_type": "markdown",
   "id": "a117dad1-8c38-4e14-84b5-ae7128efe978",
   "metadata": {},
   "source": [
    "### Base utilizada"
   ]
  },
  {
   "cell_type": "code",
   "execution_count": 48,
   "id": "14507380-1549-40a4-b43a-e0553bdd1147",
   "metadata": {},
   "outputs": [],
   "source": [
    "df_data = pd.read_csv('./Base de dados/ConsumidorGov.csv',sep = ';')"
   ]
  },
  {
   "cell_type": "markdown",
   "id": "747bbdbe-9405-48cc-bb09-d2dd5781452e",
   "metadata": {},
   "source": [
    "# Limpeza"
   ]
  },
  {
   "cell_type": "markdown",
   "id": "3af18987-0079-470a-bb0b-704d8dd27b02",
   "metadata": {},
   "source": [
    "A limpeza de dados é uma etapa essencial na análise, garantindo que os dados sejam consistentes, confiáveis e prontos para uso. Esta etapa faz parte da preparação de dados e é o que garante que os dados utilizados na ponta estejam concisos."
   ]
  },
  {
   "cell_type": "markdown",
   "id": "ba4c7aa3-25eb-41df-8121-06054ae96f87",
   "metadata": {},
   "source": [
    "Olhando mais de perto nosso DataFrame `df_data` temos que, ele contém 105.018 linhas e 30 colunas"
   ]
  },
  {
   "cell_type": "code",
   "execution_count": 49,
   "id": "f66027c1-f4f9-494e-bcba-22bf7b2559c1",
   "metadata": {},
   "outputs": [
    {
     "data": {
      "text/plain": [
       "(105018, 30)"
      ]
     },
     "execution_count": 49,
     "metadata": {},
     "output_type": "execute_result"
    }
   ],
   "source": [
    "df_data.shape"
   ]
  },
  {
   "cell_type": "markdown",
   "id": "5588cdf0-9242-4279-be47-9f27b123d616",
   "metadata": {},
   "source": [
    "Dos quais: \n",
    "* Existem colunas contendo valores nulos (ex: **'Nota do Consumidor'**);\n",
    "* Existem colunas contendo campos com tipo errado (ex: **'Data Abertura'**);\n",
    "* Existem colunas contendo caracteres especiais (ex: **'Faixa Etária'**), dificultando o uso de certas funções;"
   ]
  },
  {
   "cell_type": "code",
   "execution_count": 50,
   "id": "143bfcb1-a16d-41ae-b960-b888c18721d0",
   "metadata": {},
   "outputs": [
    {
     "name": "stdout",
     "output_type": "stream",
     "text": [
      "<class 'pandas.core.frame.DataFrame'>\n",
      "RangeIndex: 105018 entries, 0 to 105017\n",
      "Data columns (total 30 columns):\n",
      " #   Column                  Non-Null Count   Dtype  \n",
      "---  ------                  --------------   -----  \n",
      " 0   Gestor                  105018 non-null  object \n",
      " 1   Canal de Origem         105018 non-null  object \n",
      " 2   Região                  105018 non-null  object \n",
      " 3   UF                      105018 non-null  object \n",
      " 4   Cidade                  105018 non-null  object \n",
      " 5   Sexo                    105016 non-null  object \n",
      " 6   Faixa Etária            105018 non-null  object \n",
      " 7   Ano Abertura            105018 non-null  int64  \n",
      " 8   Mês Abertura            105018 non-null  int64  \n",
      " 9   Data Abertura           105018 non-null  object \n",
      " 10  Data Resposta           88536 non-null   object \n",
      " 11  Data Análise            15265 non-null   object \n",
      " 12  Data Recusa             16481 non-null   object \n",
      " 13  Data Finalização        105018 non-null  object \n",
      " 14  Prazo Resposta          105018 non-null  object \n",
      " 15  Prazo Analise Gestor    15253 non-null   float64\n",
      " 16  Tempo Resposta          88536 non-null   float64\n",
      " 17  Nome Fantasia           105018 non-null  object \n",
      " 18  Segmento de Mercado     105018 non-null  object \n",
      " 19  Área                    105018 non-null  object \n",
      " 20  Assunto                 105018 non-null  object \n",
      " 21  Grupo Problema          105018 non-null  object \n",
      " 22  Problema                105018 non-null  object \n",
      " 23  Como Comprou Contratou  105018 non-null  object \n",
      " 24  Procurou Empresa        105018 non-null  object \n",
      " 25  Respondida              105018 non-null  object \n",
      " 26  Situação                105018 non-null  object \n",
      " 27  Avaliação Reclamação    91358 non-null   object \n",
      " 28  Nota do Consumidor      46201 non-null   float64\n",
      " 29  Análise da Recusa       16480 non-null   object \n",
      "dtypes: float64(3), int64(2), object(25)\n",
      "memory usage: 24.0+ MB\n"
     ]
    }
   ],
   "source": [
    "df_data.info()"
   ]
  },
  {
   "cell_type": "markdown",
   "id": "8074a710-9cd1-48be-ac20-b1bf226adc0f",
   "metadata": {},
   "source": [
    "Por questão de **COMPARAÇÃO** utilizaremos uma cópia do DataFrame `df_data`:"
   ]
  },
  {
   "cell_type": "code",
   "execution_count": 51,
   "id": "0c33ecfb-84ab-4214-b720-f43eede86ccb",
   "metadata": {},
   "outputs": [],
   "source": [
    "df_tratado = df_data.copy()"
   ]
  },
  {
   "cell_type": "markdown",
   "id": "3b7abaf4-9e2a-4076-996e-7c9ea6b5d8f6",
   "metadata": {},
   "source": [
    "### Tratando colunas com dados faltantes (`NaN`)"
   ]
  },
  {
   "cell_type": "markdown",
   "id": "a7d17502-f75c-4000-9522-c349b3def95f",
   "metadata": {},
   "source": [
    "No nosso DataFrame `df_tratado` existem alguns valores nulos (`NaN`) em diversas colunas. Supondo que a área de negócios impôs a necessidade de tratar estes valores por conta de alguma regra de negócio."
   ]
  },
  {
   "cell_type": "markdown",
   "id": "4539bc44-fe14-45df-a633-12e03a2fac84",
   "metadata": {},
   "source": [
    "Como isso seria feito?"
   ]
  },
  {
   "cell_type": "markdown",
   "id": "dc277fdf-91ee-4bb2-95e5-be404520fe73",
   "metadata": {},
   "source": [
    "#### 1. Remover **LINHAS** contendo **QUALQUER** coluna `NaN`"
   ]
  },
  {
   "cell_type": "markdown",
   "id": "04a11a7a-d0b0-467f-945e-8cb1e17287c6",
   "metadata": {},
   "source": [
    "Caso exista essa necessidade, de deixar apenas registros com 100% de preenchimento em todas as colunas. Usa-se o método `dropna()`, este remove todas as linhas que possuem valores nulos de um DataFrame."
   ]
  },
  {
   "cell_type": "code",
   "execution_count": 52,
   "id": "e78be5b3-68a9-42a9-81a0-99b5bf1df67d",
   "metadata": {},
   "outputs": [
    {
     "name": "stdout",
     "output_type": "stream",
     "text": [
      "<class 'pandas.core.frame.DataFrame'>\n",
      "Index: 1208 entries, 12 to 102824\n",
      "Data columns (total 30 columns):\n",
      " #   Column                  Non-Null Count  Dtype  \n",
      "---  ------                  --------------  -----  \n",
      " 0   Gestor                  1208 non-null   object \n",
      " 1   Canal de Origem         1208 non-null   object \n",
      " 2   Região                  1208 non-null   object \n",
      " 3   UF                      1208 non-null   object \n",
      " 4   Cidade                  1208 non-null   object \n",
      " 5   Sexo                    1208 non-null   object \n",
      " 6   Faixa Etária            1208 non-null   object \n",
      " 7   Ano Abertura            1208 non-null   int64  \n",
      " 8   Mês Abertura            1208 non-null   int64  \n",
      " 9   Data Abertura           1208 non-null   object \n",
      " 10  Data Resposta           1208 non-null   object \n",
      " 11  Data Análise            1208 non-null   object \n",
      " 12  Data Recusa             1208 non-null   object \n",
      " 13  Data Finalização        1208 non-null   object \n",
      " 14  Prazo Resposta          1208 non-null   object \n",
      " 15  Prazo Analise Gestor    1208 non-null   float64\n",
      " 16  Tempo Resposta          1208 non-null   float64\n",
      " 17  Nome Fantasia           1208 non-null   object \n",
      " 18  Segmento de Mercado     1208 non-null   object \n",
      " 19  Área                    1208 non-null   object \n",
      " 20  Assunto                 1208 non-null   object \n",
      " 21  Grupo Problema          1208 non-null   object \n",
      " 22  Problema                1208 non-null   object \n",
      " 23  Como Comprou Contratou  1208 non-null   object \n",
      " 24  Procurou Empresa        1208 non-null   object \n",
      " 25  Respondida              1208 non-null   object \n",
      " 26  Situação                1208 non-null   object \n",
      " 27  Avaliação Reclamação    1208 non-null   object \n",
      " 28  Nota do Consumidor      1208 non-null   float64\n",
      " 29  Análise da Recusa       1208 non-null   object \n",
      "dtypes: float64(3), int64(2), object(25)\n",
      "memory usage: 292.6+ KB\n"
     ]
    }
   ],
   "source": [
    "df_tratado.dropna().info() ## Remove todas as linhas que possuem valores nulos"
   ]
  },
  {
   "cell_type": "markdown",
   "id": "79bbb7ff-22af-4d17-87df-2a5005b5413d",
   "metadata": {},
   "source": [
    "Note que após o uso do método `dropna()` apenas 1.208 linhas foram retornadas e não existe mais nenhuma coluna com valores **'Non-Null Count'** diferente de 1.208 (Total de linhas)."
   ]
  },
  {
   "cell_type": "markdown",
   "id": "1162c6f8-38ae-45af-8f44-56bfd181d794",
   "metadata": {},
   "source": [
    "#### 2. Remover **COLUNAS** com valores `NaN`"
   ]
  },
  {
   "cell_type": "markdown",
   "id": "683602e6-c544-4814-8215-73151d4a5914",
   "metadata": {},
   "source": [
    "Caso exista essa necessidade, de deixar apenas colunas com 100% de preenchimento em todas as 105.018 linhas. Usa-se o método `dropna()` juntamente com o parâmetro `axis=1`, da seguinte forma `DataFrame.dropna(axis=1)` este remove todas as colunas que contenham ao menos 1 valor `NaN` deixando apenas os campos onde o total de valores **'Non-Null Count'** é igual ao total de linhas no DataFrame."
   ]
  },
  {
   "cell_type": "markdown",
   "id": "c150dad4-4897-40de-8a5d-d51475069161",
   "metadata": {},
   "source": [
    " **OBSERVAÇÃO :** O Parâmetro `axis=0|1` indica que a ação em questão será realizado na **LINHA** (`axis=0`) ou na **COLUNA** (`axis=1`)."
   ]
  },
  {
   "cell_type": "code",
   "execution_count": 53,
   "id": "63e3591f-46dd-4a08-ae50-353ff3d58ccc",
   "metadata": {},
   "outputs": [
    {
     "name": "stdout",
     "output_type": "stream",
     "text": [
      "<class 'pandas.core.frame.DataFrame'>\n",
      "RangeIndex: 105018 entries, 0 to 105017\n",
      "Data columns (total 21 columns):\n",
      " #   Column                  Non-Null Count   Dtype \n",
      "---  ------                  --------------   ----- \n",
      " 0   Gestor                  105018 non-null  object\n",
      " 1   Canal de Origem         105018 non-null  object\n",
      " 2   Região                  105018 non-null  object\n",
      " 3   UF                      105018 non-null  object\n",
      " 4   Cidade                  105018 non-null  object\n",
      " 5   Faixa Etária            105018 non-null  object\n",
      " 6   Ano Abertura            105018 non-null  int64 \n",
      " 7   Mês Abertura            105018 non-null  int64 \n",
      " 8   Data Abertura           105018 non-null  object\n",
      " 9   Data Finalização        105018 non-null  object\n",
      " 10  Prazo Resposta          105018 non-null  object\n",
      " 11  Nome Fantasia           105018 non-null  object\n",
      " 12  Segmento de Mercado     105018 non-null  object\n",
      " 13  Área                    105018 non-null  object\n",
      " 14  Assunto                 105018 non-null  object\n",
      " 15  Grupo Problema          105018 non-null  object\n",
      " 16  Problema                105018 non-null  object\n",
      " 17  Como Comprou Contratou  105018 non-null  object\n",
      " 18  Procurou Empresa        105018 non-null  object\n",
      " 19  Respondida              105018 non-null  object\n",
      " 20  Situação                105018 non-null  object\n",
      "dtypes: int64(2), object(19)\n",
      "memory usage: 16.8+ MB\n"
     ]
    }
   ],
   "source": [
    "df_tratado.dropna(axis=1).info()"
   ]
  },
  {
   "cell_type": "markdown",
   "id": "00677fda-a81f-46db-9db4-45675ff08dab",
   "metadata": {},
   "source": [
    "note que após o uso do método `dropna(axis=1)` apenas 21 colunas restaram. Ou seja, 9 colunas do DataFrame `df_tratado` continha valores do tipo `NaN` em ao menos 1 linha."
   ]
  },
  {
   "cell_type": "markdown",
   "id": "2246c5eb-b605-4ce3-acbf-d63c3cc06337",
   "metadata": {},
   "source": [
    "#### 3. Preencher valores `NaN`"
   ]
  },
  {
   "cell_type": "markdown",
   "id": "651139f7-6529-4925-8664-e852ecc00d72",
   "metadata": {},
   "source": [
    "É possível também substituir valores `NaN` por outro valor desejado."
   ]
  },
  {
   "cell_type": "markdown",
   "id": "b05916b5-a24b-4608-9806-48aee0a110e9",
   "metadata": {},
   "source": [
    "Por exemplo, existe a necessidade de substituir todos os valores `NaN` pela string **'Sem Valor'**. Podemos cumprir este requisito passando a string desejada dentro do método `fillna()` da seguinte forma:"
   ]
  },
  {
   "cell_type": "code",
   "execution_count": 54,
   "id": "602a0ab2-c6cc-4479-b8d0-72895fcbb55b",
   "metadata": {},
   "outputs": [
    {
     "name": "stdout",
     "output_type": "stream",
     "text": [
      "<class 'pandas.core.frame.DataFrame'>\n",
      "RangeIndex: 105018 entries, 0 to 105017\n",
      "Data columns (total 30 columns):\n",
      " #   Column                  Non-Null Count   Dtype \n",
      "---  ------                  --------------   ----- \n",
      " 0   Gestor                  105018 non-null  object\n",
      " 1   Canal de Origem         105018 non-null  object\n",
      " 2   Região                  105018 non-null  object\n",
      " 3   UF                      105018 non-null  object\n",
      " 4   Cidade                  105018 non-null  object\n",
      " 5   Sexo                    105018 non-null  object\n",
      " 6   Faixa Etária            105018 non-null  object\n",
      " 7   Ano Abertura            105018 non-null  int64 \n",
      " 8   Mês Abertura            105018 non-null  int64 \n",
      " 9   Data Abertura           105018 non-null  object\n",
      " 10  Data Resposta           105018 non-null  object\n",
      " 11  Data Análise            105018 non-null  object\n",
      " 12  Data Recusa             105018 non-null  object\n",
      " 13  Data Finalização        105018 non-null  object\n",
      " 14  Prazo Resposta          105018 non-null  object\n",
      " 15  Prazo Analise Gestor    105018 non-null  object\n",
      " 16  Tempo Resposta          105018 non-null  object\n",
      " 17  Nome Fantasia           105018 non-null  object\n",
      " 18  Segmento de Mercado     105018 non-null  object\n",
      " 19  Área                    105018 non-null  object\n",
      " 20  Assunto                 105018 non-null  object\n",
      " 21  Grupo Problema          105018 non-null  object\n",
      " 22  Problema                105018 non-null  object\n",
      " 23  Como Comprou Contratou  105018 non-null  object\n",
      " 24  Procurou Empresa        105018 non-null  object\n",
      " 25  Respondida              105018 non-null  object\n",
      " 26  Situação                105018 non-null  object\n",
      " 27  Avaliação Reclamação    105018 non-null  object\n",
      " 28  Nota do Consumidor      105018 non-null  object\n",
      " 29  Análise da Recusa       105018 non-null  object\n",
      "dtypes: int64(2), object(28)\n",
      "memory usage: 24.0+ MB\n"
     ]
    }
   ],
   "source": [
    "df_tratado.fillna('Sem Valor').info()"
   ]
  },
  {
   "cell_type": "markdown",
   "id": "a6a5b01c-84e5-4f75-98ac-ba9ac7977706",
   "metadata": {},
   "source": [
    "Note que não existe mais colunas com o valor **'Non-Null Count'** diferente de 105.018."
   ]
  },
  {
   "cell_type": "markdown",
   "id": "78db7467-b5f2-4473-9b04-24054fe207b2",
   "metadata": {},
   "source": [
    "Olhando mais de perto:"
   ]
  },
  {
   "cell_type": "code",
   "execution_count": 55,
   "id": "2b34acf7-0a59-481a-86b3-57d01467a677",
   "metadata": {},
   "outputs": [
    {
     "data": {
      "text/plain": [
       "Gestor                                  Secretaria Nacional do Consumidor\n",
       "Canal de Origem                                            Plataforma Web\n",
       "Região                                                                 NE\n",
       "UF                                                                     AL\n",
       "Cidade                                                             Maceió\n",
       "Sexo                                                                    F\n",
       "Faixa Etária                                           entre 61 a 70 anos\n",
       "Ano Abertura                                                         2024\n",
       "Mês Abertura                                                           10\n",
       "Data Abertura                                                  01/10/2024\n",
       "Data Resposta                                                  09/10/2024\n",
       "Data Análise                                                    Sem Valor\n",
       "Data Recusa                                                     Sem Valor\n",
       "Data Finalização                                               2024-12-12\n",
       "Prazo Resposta                                                 11/10/2024\n",
       "Prazo Analise Gestor                                            Sem Valor\n",
       "Tempo Resposta                                                        8.0\n",
       "Nome Fantasia                                              Banco Bradesco\n",
       "Segmento de Mercado       Bancos, Financeiras e Administradoras de Cartão\n",
       "Área                                                 Serviços Financeiros\n",
       "Assunto                                              Atendimento Bancário\n",
       "Grupo Problema                                          Atendimento / SAC\n",
       "Problema                              Descumprimento do estatuto do idoso\n",
       "Como Comprou Contratou                                           Telefone\n",
       "Procurou Empresa                                                        S\n",
       "Respondida                                                              S\n",
       "Situação                                              Finalizada avaliada\n",
       "Avaliação Reclamação                                            Resolvida\n",
       "Nota do Consumidor                                                    5.0\n",
       "Análise da Recusa                                               Sem Valor\n",
       "Name: 1, dtype: object"
      ]
     },
     "execution_count": 55,
     "metadata": {},
     "output_type": "execute_result"
    }
   ],
   "source": [
    "df_tratado.fillna('Sem Valor').iloc[1] ##Retornando a linha 1 do DataFrame 'df_tratado'"
   ]
  },
  {
   "cell_type": "markdown",
   "id": "701b9b75-e669-4ae0-a7c7-807f28ebc497",
   "metadata": {},
   "source": [
    "As colunas 'Data Análise', 'Data Recusa', 'Prazo Analise Gestor' e 'Análise da Recusa' que continham `NaN` foram substituidas pela string **'Sem Valor'**"
   ]
  },
  {
   "cell_type": "markdown",
   "id": "96bbf86f-3eec-43b6-9359-1f5e178659c3",
   "metadata": {},
   "source": [
    "No nosso caso, vamos salvar a substituição feita de `NaN` para outra string mas apenas na coluna **'Análise da Recusa'**:"
   ]
  },
  {
   "cell_type": "code",
   "execution_count": 56,
   "id": "268a808d-a7b8-4369-8869-d96bd6c636b1",
   "metadata": {},
   "outputs": [],
   "source": [
    "df_tratado['Análise da Recusa'] = df_tratado['Análise da Recusa'].fillna('Sem Valor')"
   ]
  },
  {
   "cell_type": "code",
   "execution_count": 57,
   "id": "01d90344-f64c-4c6e-9427-fa8df9f9308b",
   "metadata": {},
   "outputs": [
    {
     "data": {
      "text/plain": [
       "array(['Sem Valor', 'Improcedente', 'Procedente', 'Encerrada'],\n",
       "      dtype=object)"
      ]
     },
     "execution_count": 57,
     "metadata": {},
     "output_type": "execute_result"
    }
   ],
   "source": [
    "df_tratado['Análise da Recusa'].unique()"
   ]
  },
  {
   "cell_type": "markdown",
   "id": "7c59baa7-fa98-4901-9b10-85bb95a8615d",
   "metadata": {},
   "source": [
    "### Conversão de tipos de colunas"
   ]
  },
  {
   "cell_type": "markdown",
   "id": "164e6c5b-bbca-4421-b113-62f0dfaef44b",
   "metadata": {},
   "source": [
    "Muitas vezes os dados recebidos estarão fora de padrões pré-definidos, podendo conter erros de digitação e tipos de dados diferentes do usual e existirá a necessidade de tratá-los e padronizá-los para um tipo mais adequada."
   ]
  },
  {
   "cell_type": "code",
   "execution_count": 58,
   "id": "2958bc4f-519f-4660-a3a0-1633f46771a0",
   "metadata": {},
   "outputs": [
    {
     "name": "stdout",
     "output_type": "stream",
     "text": [
      "<class 'pandas.core.frame.DataFrame'>\n",
      "RangeIndex: 105018 entries, 0 to 105017\n",
      "Data columns (total 4 columns):\n",
      " #   Column         Non-Null Count   Dtype \n",
      "---  ------         --------------   ----- \n",
      " 0   Data Abertura  105018 non-null  object\n",
      " 1   Data Resposta  88536 non-null   object\n",
      " 2   Data Análise   15265 non-null   object\n",
      " 3   Data Recusa    16481 non-null   object\n",
      "dtypes: object(4)\n",
      "memory usage: 3.2+ MB\n"
     ]
    }
   ],
   "source": [
    "df_tratado[['Data Abertura','Data Resposta','Data Análise','Data Recusa']].info()"
   ]
  },
  {
   "cell_type": "markdown",
   "id": "864a56ea-6e6c-41a6-9cb7-a5b8638e57ad",
   "metadata": {},
   "source": [
    "Note que no nosso DataFrame `df_tratado` todas as colunas de datas estão no tipo **object**. Existe um tipo de atributo no Pandas para data, este é o tipo **datetime** e podemos converter os tipos da seguinte forma:"
   ]
  },
  {
   "cell_type": "code",
   "execution_count": 59,
   "id": "21f7f920-84fd-426d-b04a-9fd16a67ff5b",
   "metadata": {
    "scrolled": true
   },
   "outputs": [
    {
     "ename": "ValueError",
     "evalue": "time data \"13/10/2024\" doesn't match format \"%m/%d/%Y\", at position 12. You might want to try:\n    - passing `format` if your strings have a consistent format;\n    - passing `format='ISO8601'` if your strings are all ISO8601 but not necessarily in exactly the same format;\n    - passing `format='mixed'`, and the format will be inferred for each element individually. You might want to use `dayfirst` alongside this.",
     "output_type": "error",
     "traceback": [
      "\u001b[1;31m---------------------------------------------------------------------------\u001b[0m",
      "\u001b[1;31mValueError\u001b[0m                                Traceback (most recent call last)",
      "Cell \u001b[1;32mIn[59], line 1\u001b[0m\n\u001b[1;32m----> 1\u001b[0m pd\u001b[38;5;241m.\u001b[39mto_datetime(df_tratado[\u001b[38;5;124m'\u001b[39m\u001b[38;5;124mData Abertura\u001b[39m\u001b[38;5;124m'\u001b[39m])\n",
      "File \u001b[1;32m~\\anaconda3\\Lib\\site-packages\\pandas\\core\\tools\\datetimes.py:1063\u001b[0m, in \u001b[0;36mto_datetime\u001b[1;34m(arg, errors, dayfirst, yearfirst, utc, format, exact, unit, infer_datetime_format, origin, cache)\u001b[0m\n\u001b[0;32m   1061\u001b[0m             result \u001b[38;5;241m=\u001b[39m arg\u001b[38;5;241m.\u001b[39mtz_localize(\u001b[38;5;124m\"\u001b[39m\u001b[38;5;124mutc\u001b[39m\u001b[38;5;124m\"\u001b[39m)\n\u001b[0;32m   1062\u001b[0m \u001b[38;5;28;01melif\u001b[39;00m \u001b[38;5;28misinstance\u001b[39m(arg, ABCSeries):\n\u001b[1;32m-> 1063\u001b[0m     cache_array \u001b[38;5;241m=\u001b[39m _maybe_cache(arg, \u001b[38;5;28mformat\u001b[39m, cache, convert_listlike)\n\u001b[0;32m   1064\u001b[0m     \u001b[38;5;28;01mif\u001b[39;00m \u001b[38;5;129;01mnot\u001b[39;00m cache_array\u001b[38;5;241m.\u001b[39mempty:\n\u001b[0;32m   1065\u001b[0m         result \u001b[38;5;241m=\u001b[39m arg\u001b[38;5;241m.\u001b[39mmap(cache_array)\n",
      "File \u001b[1;32m~\\anaconda3\\Lib\\site-packages\\pandas\\core\\tools\\datetimes.py:247\u001b[0m, in \u001b[0;36m_maybe_cache\u001b[1;34m(arg, format, cache, convert_listlike)\u001b[0m\n\u001b[0;32m    245\u001b[0m unique_dates \u001b[38;5;241m=\u001b[39m unique(arg)\n\u001b[0;32m    246\u001b[0m \u001b[38;5;28;01mif\u001b[39;00m \u001b[38;5;28mlen\u001b[39m(unique_dates) \u001b[38;5;241m<\u001b[39m \u001b[38;5;28mlen\u001b[39m(arg):\n\u001b[1;32m--> 247\u001b[0m     cache_dates \u001b[38;5;241m=\u001b[39m convert_listlike(unique_dates, \u001b[38;5;28mformat\u001b[39m)\n\u001b[0;32m    248\u001b[0m     \u001b[38;5;66;03m# GH#45319\u001b[39;00m\n\u001b[0;32m    249\u001b[0m     \u001b[38;5;28;01mtry\u001b[39;00m:\n",
      "File \u001b[1;32m~\\anaconda3\\Lib\\site-packages\\pandas\\core\\tools\\datetimes.py:433\u001b[0m, in \u001b[0;36m_convert_listlike_datetimes\u001b[1;34m(arg, format, name, utc, unit, errors, dayfirst, yearfirst, exact)\u001b[0m\n\u001b[0;32m    431\u001b[0m \u001b[38;5;66;03m# `format` could be inferred, or user didn't ask for mixed-format parsing.\u001b[39;00m\n\u001b[0;32m    432\u001b[0m \u001b[38;5;28;01mif\u001b[39;00m \u001b[38;5;28mformat\u001b[39m \u001b[38;5;129;01mis\u001b[39;00m \u001b[38;5;129;01mnot\u001b[39;00m \u001b[38;5;28;01mNone\u001b[39;00m \u001b[38;5;129;01mand\u001b[39;00m \u001b[38;5;28mformat\u001b[39m \u001b[38;5;241m!=\u001b[39m \u001b[38;5;124m\"\u001b[39m\u001b[38;5;124mmixed\u001b[39m\u001b[38;5;124m\"\u001b[39m:\n\u001b[1;32m--> 433\u001b[0m     \u001b[38;5;28;01mreturn\u001b[39;00m _array_strptime_with_fallback(arg, name, utc, \u001b[38;5;28mformat\u001b[39m, exact, errors)\n\u001b[0;32m    435\u001b[0m result, tz_parsed \u001b[38;5;241m=\u001b[39m objects_to_datetime64(\n\u001b[0;32m    436\u001b[0m     arg,\n\u001b[0;32m    437\u001b[0m     dayfirst\u001b[38;5;241m=\u001b[39mdayfirst,\n\u001b[1;32m   (...)\u001b[0m\n\u001b[0;32m    441\u001b[0m     allow_object\u001b[38;5;241m=\u001b[39m\u001b[38;5;28;01mTrue\u001b[39;00m,\n\u001b[0;32m    442\u001b[0m )\n\u001b[0;32m    444\u001b[0m \u001b[38;5;28;01mif\u001b[39;00m tz_parsed \u001b[38;5;129;01mis\u001b[39;00m \u001b[38;5;129;01mnot\u001b[39;00m \u001b[38;5;28;01mNone\u001b[39;00m:\n\u001b[0;32m    445\u001b[0m     \u001b[38;5;66;03m# We can take a shortcut since the datetime64 numpy array\u001b[39;00m\n\u001b[0;32m    446\u001b[0m     \u001b[38;5;66;03m# is in UTC\u001b[39;00m\n",
      "File \u001b[1;32m~\\anaconda3\\Lib\\site-packages\\pandas\\core\\tools\\datetimes.py:467\u001b[0m, in \u001b[0;36m_array_strptime_with_fallback\u001b[1;34m(arg, name, utc, fmt, exact, errors)\u001b[0m\n\u001b[0;32m    456\u001b[0m \u001b[38;5;28;01mdef\u001b[39;00m \u001b[38;5;21m_array_strptime_with_fallback\u001b[39m(\n\u001b[0;32m    457\u001b[0m     arg,\n\u001b[0;32m    458\u001b[0m     name,\n\u001b[1;32m   (...)\u001b[0m\n\u001b[0;32m    462\u001b[0m     errors: \u001b[38;5;28mstr\u001b[39m,\n\u001b[0;32m    463\u001b[0m ) \u001b[38;5;241m-\u001b[39m\u001b[38;5;241m>\u001b[39m Index:\n\u001b[0;32m    464\u001b[0m \u001b[38;5;250m    \u001b[39m\u001b[38;5;124;03m\"\"\"\u001b[39;00m\n\u001b[0;32m    465\u001b[0m \u001b[38;5;124;03m    Call array_strptime, with fallback behavior depending on 'errors'.\u001b[39;00m\n\u001b[0;32m    466\u001b[0m \u001b[38;5;124;03m    \"\"\"\u001b[39;00m\n\u001b[1;32m--> 467\u001b[0m     result, tz_out \u001b[38;5;241m=\u001b[39m array_strptime(arg, fmt, exact\u001b[38;5;241m=\u001b[39mexact, errors\u001b[38;5;241m=\u001b[39merrors, utc\u001b[38;5;241m=\u001b[39mutc)\n\u001b[0;32m    468\u001b[0m     \u001b[38;5;28;01mif\u001b[39;00m tz_out \u001b[38;5;129;01mis\u001b[39;00m \u001b[38;5;129;01mnot\u001b[39;00m \u001b[38;5;28;01mNone\u001b[39;00m:\n\u001b[0;32m    469\u001b[0m         unit \u001b[38;5;241m=\u001b[39m np\u001b[38;5;241m.\u001b[39mdatetime_data(result\u001b[38;5;241m.\u001b[39mdtype)[\u001b[38;5;241m0\u001b[39m]\n",
      "File \u001b[1;32mstrptime.pyx:501\u001b[0m, in \u001b[0;36mpandas._libs.tslibs.strptime.array_strptime\u001b[1;34m()\u001b[0m\n",
      "File \u001b[1;32mstrptime.pyx:451\u001b[0m, in \u001b[0;36mpandas._libs.tslibs.strptime.array_strptime\u001b[1;34m()\u001b[0m\n",
      "File \u001b[1;32mstrptime.pyx:583\u001b[0m, in \u001b[0;36mpandas._libs.tslibs.strptime._parse_with_format\u001b[1;34m()\u001b[0m\n",
      "\u001b[1;31mValueError\u001b[0m: time data \"13/10/2024\" doesn't match format \"%m/%d/%Y\", at position 12. You might want to try:\n    - passing `format` if your strings have a consistent format;\n    - passing `format='ISO8601'` if your strings are all ISO8601 but not necessarily in exactly the same format;\n    - passing `format='mixed'`, and the format will be inferred for each element individually. You might want to use `dayfirst` alongside this."
     ]
    }
   ],
   "source": [
    "pd.to_datetime(df_tratado['Data Abertura'])"
   ]
  },
  {
   "cell_type": "markdown",
   "id": "ed91900e-d300-48a9-9618-56e7de44db8b",
   "metadata": {},
   "source": [
    "Este erro ocorre pois o formato de data do arquivo .csv esta diferente `DD/MM/YYYY` do padrão utilizado `YYYY-MM-DD`. Esta correção pode ser feito passando o parâmetro `format=%d/%m/%Y`:"
   ]
  },
  {
   "cell_type": "code",
   "execution_count": 60,
   "id": "6e4871b7-45f6-409f-bb84-66dbfadb54e4",
   "metadata": {
    "scrolled": true
   },
   "outputs": [
    {
     "data": {
      "text/plain": [
       "0        2024-10-01\n",
       "1        2024-10-01\n",
       "2        2024-10-01\n",
       "3        2024-10-01\n",
       "4        2024-10-01\n",
       "            ...    \n",
       "105013   2024-12-31\n",
       "105014   2024-12-31\n",
       "105015   2024-12-31\n",
       "105016   2024-12-31\n",
       "105017   2024-12-31\n",
       "Name: Data Abertura, Length: 105018, dtype: datetime64[ns]"
      ]
     },
     "execution_count": 60,
     "metadata": {},
     "output_type": "execute_result"
    }
   ],
   "source": [
    "pd.to_datetime(df_tratado['Data Abertura'],format='%d/%m/%Y')"
   ]
  },
  {
   "cell_type": "markdown",
   "id": "b4ad8f0b-deca-46b4-aaa0-f3aafeeef758",
   "metadata": {},
   "source": [
    "Vamos alterar todas as colunas de datas para o formato **datetime**:"
   ]
  },
  {
   "cell_type": "code",
   "execution_count": 61,
   "id": "4eeabce4-4fab-42a3-9522-6b45ef07dbae",
   "metadata": {},
   "outputs": [
    {
     "name": "stdout",
     "output_type": "stream",
     "text": [
      "<class 'pandas.core.frame.DataFrame'>\n",
      "RangeIndex: 105018 entries, 0 to 105017\n",
      "Data columns (total 30 columns):\n",
      " #   Column                  Non-Null Count   Dtype         \n",
      "---  ------                  --------------   -----         \n",
      " 0   Gestor                  105018 non-null  object        \n",
      " 1   Canal de Origem         105018 non-null  object        \n",
      " 2   Região                  105018 non-null  object        \n",
      " 3   UF                      105018 non-null  object        \n",
      " 4   Cidade                  105018 non-null  object        \n",
      " 5   Sexo                    105016 non-null  object        \n",
      " 6   Faixa Etária            105018 non-null  object        \n",
      " 7   Ano Abertura            105018 non-null  int64         \n",
      " 8   Mês Abertura            105018 non-null  int64         \n",
      " 9   Data Abertura           105018 non-null  datetime64[ns]\n",
      " 10  Data Resposta           88536 non-null   datetime64[ns]\n",
      " 11  Data Análise            105018 non-null  datetime64[ns]\n",
      " 12  Data Recusa             16481 non-null   datetime64[ns]\n",
      " 13  Data Finalização        105018 non-null  object        \n",
      " 14  Prazo Resposta          105018 non-null  object        \n",
      " 15  Prazo Analise Gestor    15253 non-null   float64       \n",
      " 16  Tempo Resposta          88536 non-null   float64       \n",
      " 17  Nome Fantasia           105018 non-null  object        \n",
      " 18  Segmento de Mercado     105018 non-null  object        \n",
      " 19  Área                    105018 non-null  object        \n",
      " 20  Assunto                 105018 non-null  object        \n",
      " 21  Grupo Problema          105018 non-null  object        \n",
      " 22  Problema                105018 non-null  object        \n",
      " 23  Como Comprou Contratou  105018 non-null  object        \n",
      " 24  Procurou Empresa        105018 non-null  object        \n",
      " 25  Respondida              105018 non-null  object        \n",
      " 26  Situação                105018 non-null  object        \n",
      " 27  Avaliação Reclamação    91358 non-null   object        \n",
      " 28  Nota do Consumidor      46201 non-null   float64       \n",
      " 29  Análise da Recusa       105018 non-null  object        \n",
      "dtypes: datetime64[ns](4), float64(3), int64(2), object(21)\n",
      "memory usage: 24.0+ MB\n"
     ]
    }
   ],
   "source": [
    "## Alterando o formato dos campo 'Data Abertura','Data Resposta','Data Análise' e 'Data Recusa' para datetime\n",
    "df_tratado['Data Abertura'] = pd.to_datetime(df_tratado['Data Abertura'],format='%d/%m/%Y') \n",
    "df_tratado['Data Resposta'] = pd.to_datetime(df_tratado['Data Resposta'],format='%d/%m/%Y') \n",
    "df_tratado['Data Análise'] = pd.to_datetime(df_tratado['Data Abertura'],format='%d/%m/%Y')\n",
    "df_tratado['Data Recusa'] = pd.to_datetime(df_tratado['Data Recusa'],format='%d/%m/%Y') \n",
    "\n",
    "df_tratado.info()"
   ]
  },
  {
   "cell_type": "markdown",
   "id": "1ab7f426-fe20-4fb6-b56a-ab6ae138f702",
   "metadata": {},
   "source": [
    "Repare que a nossa coluna 'Nota do Consumidor' é do tipo **float64**"
   ]
  },
  {
   "cell_type": "code",
   "execution_count": 62,
   "id": "f09f295c-24d5-46e0-b1d0-b3018a50a6de",
   "metadata": {},
   "outputs": [
    {
     "data": {
      "text/plain": [
       "array([ 5.,  1.,  3.,  4., nan,  2.])"
      ]
     },
     "execution_count": 62,
     "metadata": {},
     "output_type": "execute_result"
    }
   ],
   "source": [
    "df_tratado['Nota do Consumidor'].unique()"
   ]
  },
  {
   "cell_type": "markdown",
   "id": "92a72459-aae5-48aa-b340-b14d3fed0419",
   "metadata": {},
   "source": [
    "Faz mais sentido alterarmos para o tipo **int32** já que a coluna em si varia apenas entre os valores 1,2,3,4 e 5. Para isto primeiro vamos tratar o valor `NaN` da coluna e em seguida converter para o tipo correto."
   ]
  },
  {
   "cell_type": "code",
   "execution_count": 63,
   "id": "a4697dc5-d3ba-46d9-9f90-81dcd48e7e11",
   "metadata": {},
   "outputs": [
    {
     "data": {
      "text/plain": [
       "array([5., 1., 3., 4., 0., 2.])"
      ]
     },
     "execution_count": 63,
     "metadata": {},
     "output_type": "execute_result"
    }
   ],
   "source": [
    "df_tratado['Nota do Consumidor'] = df_tratado['Nota do Consumidor'].fillna(0)\n",
    "df_tratado['Nota do Consumidor'].unique()"
   ]
  },
  {
   "cell_type": "markdown",
   "id": "8aa91495-d89c-4633-ba29-0423f0bc60f3",
   "metadata": {},
   "source": [
    "Agora a alteração do tipo deste atributo pode ser feita utilizando a função de conversão `astype(type)` :"
   ]
  },
  {
   "cell_type": "code",
   "execution_count": 64,
   "id": "ac52cfa2-3d52-417f-9b41-4b987a4a216c",
   "metadata": {},
   "outputs": [
    {
     "name": "stdout",
     "output_type": "stream",
     "text": [
      "<class 'pandas.core.frame.DataFrame'>\n",
      "RangeIndex: 105018 entries, 0 to 105017\n",
      "Data columns (total 30 columns):\n",
      " #   Column                  Non-Null Count   Dtype         \n",
      "---  ------                  --------------   -----         \n",
      " 0   Gestor                  105018 non-null  object        \n",
      " 1   Canal de Origem         105018 non-null  object        \n",
      " 2   Região                  105018 non-null  object        \n",
      " 3   UF                      105018 non-null  object        \n",
      " 4   Cidade                  105018 non-null  object        \n",
      " 5   Sexo                    105016 non-null  object        \n",
      " 6   Faixa Etária            105018 non-null  object        \n",
      " 7   Ano Abertura            105018 non-null  int64         \n",
      " 8   Mês Abertura            105018 non-null  int64         \n",
      " 9   Data Abertura           105018 non-null  datetime64[ns]\n",
      " 10  Data Resposta           88536 non-null   datetime64[ns]\n",
      " 11  Data Análise            105018 non-null  datetime64[ns]\n",
      " 12  Data Recusa             16481 non-null   datetime64[ns]\n",
      " 13  Data Finalização        105018 non-null  object        \n",
      " 14  Prazo Resposta          105018 non-null  object        \n",
      " 15  Prazo Analise Gestor    15253 non-null   float64       \n",
      " 16  Tempo Resposta          88536 non-null   float64       \n",
      " 17  Nome Fantasia           105018 non-null  object        \n",
      " 18  Segmento de Mercado     105018 non-null  object        \n",
      " 19  Área                    105018 non-null  object        \n",
      " 20  Assunto                 105018 non-null  object        \n",
      " 21  Grupo Problema          105018 non-null  object        \n",
      " 22  Problema                105018 non-null  object        \n",
      " 23  Como Comprou Contratou  105018 non-null  object        \n",
      " 24  Procurou Empresa        105018 non-null  object        \n",
      " 25  Respondida              105018 non-null  object        \n",
      " 26  Situação                105018 non-null  object        \n",
      " 27  Avaliação Reclamação    91358 non-null   object        \n",
      " 28  Nota do Consumidor      105018 non-null  int32         \n",
      " 29  Análise da Recusa       105018 non-null  object        \n",
      "dtypes: datetime64[ns](4), float64(2), int32(1), int64(2), object(21)\n",
      "memory usage: 23.6+ MB\n"
     ]
    }
   ],
   "source": [
    "df_tratado['Nota do Consumidor'] = df_tratado['Nota do Consumidor'].astype(int)\n",
    "df_tratado.info()"
   ]
  },
  {
   "cell_type": "markdown",
   "id": "be682e53-adc3-4da6-a258-90da78be99bb",
   "metadata": {},
   "source": [
    "#### Como alterar varias colunas de uma vez?"
   ]
  },
  {
   "cell_type": "markdown",
   "id": "de8fc928-590f-429b-9db5-2b133c459411",
   "metadata": {},
   "source": [
    "Para este objetivo, utilizaremos um DataFrame fictício apenas para exemplificar "
   ]
  },
  {
   "cell_type": "code",
   "execution_count": 65,
   "id": "10a7967b-0b40-427c-8982-275e1988d114",
   "metadata": {},
   "outputs": [
    {
     "name": "stdout",
     "output_type": "stream",
     "text": [
      "<class 'pandas.core.frame.DataFrame'>\n",
      "RangeIndex: 10 entries, 0 to 9\n",
      "Data columns (total 5 columns):\n",
      " #   Column                     Non-Null Count  Dtype \n",
      "---  ------                     --------------  ----- \n",
      " 0   Id Contrato                10 non-null     int64 \n",
      " 1   Valor Contrato             10 non-null     object\n",
      " 2   Margem Contrato            10 non-null     object\n",
      " 3   Preço Mínimo Distribuição  10 non-null     object\n",
      " 4   Preço Máximo Distribuição  10 non-null     object\n",
      "dtypes: int64(1), object(4)\n",
      "memory usage: 532.0+ bytes\n"
     ]
    }
   ],
   "source": [
    "df_exemplo = pd.read_excel('./Base de dados/Valores Contratos.xlsx', sheet_name='Plan1')\n",
    "df_exemplo.info()"
   ]
  },
  {
   "cell_type": "markdown",
   "id": "f20af4c8-e31b-4d01-8001-8ed2589c51f0",
   "metadata": {},
   "source": [
    "Os tipos de 'Valor Contrato', 'Margem Contrato', 'Preço Mínimo Distribuição' e 'Preço Máximo Distribuição' não estão representando números e sim strings"
   ]
  },
  {
   "cell_type": "markdown",
   "id": "22159bcf-18e5-4d95-a66f-70ba66b1e618",
   "metadata": {},
   "source": [
    "Para fazermos essa correção de forma mais eficaz, podemos utilizar a estrutura de repetição `for` (**Laços de repetição serão exemplificados no futuro**) juntamente com a função `to_numeric()`:"
   ]
  },
  {
   "cell_type": "code",
   "execution_count": 66,
   "id": "37de601d-ba1c-4048-ad98-83fb1fd76fde",
   "metadata": {},
   "outputs": [],
   "source": [
    "for coluna in ['Valor Contrato', 'Margem Contrato', 'Preço Mínimo Distribuição','Preço Máximo Distribuição']:\n",
    "    df_exemplo[coluna] = pd.to_numeric(df_exemplo[coluna], errors='coerce')"
   ]
  },
  {
   "cell_type": "code",
   "execution_count": 67,
   "id": "9d179d7e-5bd8-4285-ac15-965318940d67",
   "metadata": {},
   "outputs": [
    {
     "name": "stdout",
     "output_type": "stream",
     "text": [
      "<class 'pandas.core.frame.DataFrame'>\n",
      "RangeIndex: 10 entries, 0 to 9\n",
      "Data columns (total 5 columns):\n",
      " #   Column                     Non-Null Count  Dtype  \n",
      "---  ------                     --------------  -----  \n",
      " 0   Id Contrato                10 non-null     int64  \n",
      " 1   Valor Contrato             9 non-null      float64\n",
      " 2   Margem Contrato            9 non-null      float64\n",
      " 3   Preço Mínimo Distribuição  9 non-null      float64\n",
      " 4   Preço Máximo Distribuição  9 non-null      float64\n",
      "dtypes: float64(4), int64(1)\n",
      "memory usage: 532.0 bytes\n"
     ]
    }
   ],
   "source": [
    "df_exemplo.info()"
   ]
  },
  {
   "cell_type": "markdown",
   "id": "03017297-67b7-4eac-9d2e-c54ff2b0bfe1",
   "metadata": {},
   "source": [
    "A função `to_numeric()` possui o parâmetro `errors='ignore'|'raise'|'coerce'`. Este parâmetro indica como a conversão deve prosseguir caso encontre algum registro no qual a conversão se torna impossível para a função.\n",
    "* **raise:** A análise inválida gerará uma exceção;\n",
    "* **coerce:** A análise inválida será retornará `NaN` para o registro;\n",
    "* **ignore:** A análise inválida retornará o registro original;"
   ]
  },
  {
   "cell_type": "markdown",
   "id": "d5984230-cedc-48e9-8eb6-e4e0dea9b9f3",
   "metadata": {},
   "source": [
    "No nosso caso utilizamos o parâmetro `errors='coerce'` o que fez a conversão retornar o valor `NaN` para registros não tratados pela função:"
   ]
  },
  {
   "cell_type": "code",
   "execution_count": 68,
   "id": "f2c2b36a-614c-4121-8ab1-0780699b8fea",
   "metadata": {},
   "outputs": [
    {
     "data": {
      "text/html": [
       "<div>\n",
       "<style scoped>\n",
       "    .dataframe tbody tr th:only-of-type {\n",
       "        vertical-align: middle;\n",
       "    }\n",
       "\n",
       "    .dataframe tbody tr th {\n",
       "        vertical-align: top;\n",
       "    }\n",
       "\n",
       "    .dataframe thead th {\n",
       "        text-align: right;\n",
       "    }\n",
       "</style>\n",
       "<table border=\"1\" class=\"dataframe\">\n",
       "  <thead>\n",
       "    <tr style=\"text-align: right;\">\n",
       "      <th></th>\n",
       "      <th>Id Contrato</th>\n",
       "      <th>Valor Contrato</th>\n",
       "      <th>Margem Contrato</th>\n",
       "      <th>Preço Mínimo Distribuição</th>\n",
       "      <th>Preço Máximo Distribuição</th>\n",
       "    </tr>\n",
       "  </thead>\n",
       "  <tbody>\n",
       "    <tr>\n",
       "      <th>0</th>\n",
       "      <td>1</td>\n",
       "      <td>8270.0</td>\n",
       "      <td>827.0</td>\n",
       "      <td>248.10</td>\n",
       "      <td>661.60</td>\n",
       "    </tr>\n",
       "    <tr>\n",
       "      <th>1</th>\n",
       "      <td>2</td>\n",
       "      <td>1860.0</td>\n",
       "      <td>186.0</td>\n",
       "      <td>55.80</td>\n",
       "      <td>148.80</td>\n",
       "    </tr>\n",
       "    <tr>\n",
       "      <th>2</th>\n",
       "      <td>3</td>\n",
       "      <td>6390.0</td>\n",
       "      <td>639.0</td>\n",
       "      <td>191.70</td>\n",
       "      <td>511.20</td>\n",
       "    </tr>\n",
       "    <tr>\n",
       "      <th>3</th>\n",
       "      <td>4</td>\n",
       "      <td>6191.0</td>\n",
       "      <td>619.1</td>\n",
       "      <td>185.73</td>\n",
       "      <td>NaN</td>\n",
       "    </tr>\n",
       "    <tr>\n",
       "      <th>4</th>\n",
       "      <td>5</td>\n",
       "      <td>NaN</td>\n",
       "      <td>673.4</td>\n",
       "      <td>202.02</td>\n",
       "      <td>538.72</td>\n",
       "    </tr>\n",
       "    <tr>\n",
       "      <th>5</th>\n",
       "      <td>6</td>\n",
       "      <td>7265.0</td>\n",
       "      <td>726.5</td>\n",
       "      <td>217.95</td>\n",
       "      <td>581.20</td>\n",
       "    </tr>\n",
       "    <tr>\n",
       "      <th>6</th>\n",
       "      <td>7</td>\n",
       "      <td>1466.0</td>\n",
       "      <td>146.0</td>\n",
       "      <td>43.98</td>\n",
       "      <td>117.28</td>\n",
       "    </tr>\n",
       "    <tr>\n",
       "      <th>7</th>\n",
       "      <td>8</td>\n",
       "      <td>5426.0</td>\n",
       "      <td>542.6</td>\n",
       "      <td>NaN</td>\n",
       "      <td>434.08</td>\n",
       "    </tr>\n",
       "    <tr>\n",
       "      <th>8</th>\n",
       "      <td>9</td>\n",
       "      <td>6578.0</td>\n",
       "      <td>NaN</td>\n",
       "      <td>197.34</td>\n",
       "      <td>526.24</td>\n",
       "    </tr>\n",
       "    <tr>\n",
       "      <th>9</th>\n",
       "      <td>10</td>\n",
       "      <td>9322.0</td>\n",
       "      <td>932.2</td>\n",
       "      <td>279.66</td>\n",
       "      <td>745.76</td>\n",
       "    </tr>\n",
       "  </tbody>\n",
       "</table>\n",
       "</div>"
      ],
      "text/plain": [
       "   Id Contrato  Valor Contrato  Margem Contrato  Preço Mínimo Distribuição  \\\n",
       "0            1          8270.0            827.0                     248.10   \n",
       "1            2          1860.0            186.0                      55.80   \n",
       "2            3          6390.0            639.0                     191.70   \n",
       "3            4          6191.0            619.1                     185.73   \n",
       "4            5             NaN            673.4                     202.02   \n",
       "5            6          7265.0            726.5                     217.95   \n",
       "6            7          1466.0            146.0                      43.98   \n",
       "7            8          5426.0            542.6                        NaN   \n",
       "8            9          6578.0              NaN                     197.34   \n",
       "9           10          9322.0            932.2                     279.66   \n",
       "\n",
       "   Preço Máximo Distribuição  \n",
       "0                     661.60  \n",
       "1                     148.80  \n",
       "2                     511.20  \n",
       "3                        NaN  \n",
       "4                     538.72  \n",
       "5                     581.20  \n",
       "6                     117.28  \n",
       "7                     434.08  \n",
       "8                     526.24  \n",
       "9                     745.76  "
      ]
     },
     "execution_count": 68,
     "metadata": {},
     "output_type": "execute_result"
    }
   ],
   "source": [
    "df_exemplo"
   ]
  },
  {
   "cell_type": "markdown",
   "id": "007223ee-48a3-4170-82b1-35f9b245fcff",
   "metadata": {},
   "source": [
    "# Estatísticas descritivas"
   ]
  },
  {
   "cell_type": "markdown",
   "id": "ede76a4b-131b-461c-bfe6-718c17d416a3",
   "metadata": {},
   "source": [
    "O método `describe()` exibe várias estatísticas descritivas sobre um determinado DataFrame ou para uma Series."
   ]
  },
  {
   "cell_type": "code",
   "execution_count": 69,
   "id": "a3963de8-fbe5-4b3e-9650-4afb70ab3914",
   "metadata": {},
   "outputs": [
    {
     "data": {
      "text/html": [
       "<div>\n",
       "<style scoped>\n",
       "    .dataframe tbody tr th:only-of-type {\n",
       "        vertical-align: middle;\n",
       "    }\n",
       "\n",
       "    .dataframe tbody tr th {\n",
       "        vertical-align: top;\n",
       "    }\n",
       "\n",
       "    .dataframe thead th {\n",
       "        text-align: right;\n",
       "    }\n",
       "</style>\n",
       "<table border=\"1\" class=\"dataframe\">\n",
       "  <thead>\n",
       "    <tr style=\"text-align: right;\">\n",
       "      <th></th>\n",
       "      <th>Id Contrato</th>\n",
       "      <th>Valor Contrato</th>\n",
       "      <th>Margem Contrato</th>\n",
       "      <th>Preço Mínimo Distribuição</th>\n",
       "      <th>Preço Máximo Distribuição</th>\n",
       "    </tr>\n",
       "  </thead>\n",
       "  <tbody>\n",
       "    <tr>\n",
       "      <th>count</th>\n",
       "      <td>10.00000</td>\n",
       "      <td>9.000000</td>\n",
       "      <td>9.000000</td>\n",
       "      <td>9.000000</td>\n",
       "      <td>9.000000</td>\n",
       "    </tr>\n",
       "    <tr>\n",
       "      <th>mean</th>\n",
       "      <td>5.50000</td>\n",
       "      <td>5863.111111</td>\n",
       "      <td>587.977778</td>\n",
       "      <td>180.253333</td>\n",
       "      <td>473.875556</td>\n",
       "    </tr>\n",
       "    <tr>\n",
       "      <th>std</th>\n",
       "      <td>3.02765</td>\n",
       "      <td>2649.741942</td>\n",
       "      <td>265.675417</td>\n",
       "      <td>79.758785</td>\n",
       "      <td>213.142646</td>\n",
       "    </tr>\n",
       "    <tr>\n",
       "      <th>min</th>\n",
       "      <td>1.00000</td>\n",
       "      <td>1466.000000</td>\n",
       "      <td>146.000000</td>\n",
       "      <td>43.980000</td>\n",
       "      <td>117.280000</td>\n",
       "    </tr>\n",
       "    <tr>\n",
       "      <th>25%</th>\n",
       "      <td>3.25000</td>\n",
       "      <td>5426.000000</td>\n",
       "      <td>542.600000</td>\n",
       "      <td>185.730000</td>\n",
       "      <td>434.080000</td>\n",
       "    </tr>\n",
       "    <tr>\n",
       "      <th>50%</th>\n",
       "      <td>5.50000</td>\n",
       "      <td>6390.000000</td>\n",
       "      <td>639.000000</td>\n",
       "      <td>197.340000</td>\n",
       "      <td>526.240000</td>\n",
       "    </tr>\n",
       "    <tr>\n",
       "      <th>75%</th>\n",
       "      <td>7.75000</td>\n",
       "      <td>7265.000000</td>\n",
       "      <td>726.500000</td>\n",
       "      <td>217.950000</td>\n",
       "      <td>581.200000</td>\n",
       "    </tr>\n",
       "    <tr>\n",
       "      <th>max</th>\n",
       "      <td>10.00000</td>\n",
       "      <td>9322.000000</td>\n",
       "      <td>932.200000</td>\n",
       "      <td>279.660000</td>\n",
       "      <td>745.760000</td>\n",
       "    </tr>\n",
       "  </tbody>\n",
       "</table>\n",
       "</div>"
      ],
      "text/plain": [
       "       Id Contrato  Valor Contrato  Margem Contrato  \\\n",
       "count     10.00000        9.000000         9.000000   \n",
       "mean       5.50000     5863.111111       587.977778   \n",
       "std        3.02765     2649.741942       265.675417   \n",
       "min        1.00000     1466.000000       146.000000   \n",
       "25%        3.25000     5426.000000       542.600000   \n",
       "50%        5.50000     6390.000000       639.000000   \n",
       "75%        7.75000     7265.000000       726.500000   \n",
       "max       10.00000     9322.000000       932.200000   \n",
       "\n",
       "       Preço Mínimo Distribuição  Preço Máximo Distribuição  \n",
       "count                   9.000000                   9.000000  \n",
       "mean                  180.253333                 473.875556  \n",
       "std                    79.758785                 213.142646  \n",
       "min                    43.980000                 117.280000  \n",
       "25%                   185.730000                 434.080000  \n",
       "50%                   197.340000                 526.240000  \n",
       "75%                   217.950000                 581.200000  \n",
       "max                   279.660000                 745.760000  "
      ]
     },
     "execution_count": 69,
     "metadata": {},
     "output_type": "execute_result"
    }
   ],
   "source": [
    "df_exemplo.describe()"
   ]
  },
  {
   "cell_type": "markdown",
   "id": "c196740c-c464-4a69-b03a-54a6d6402683",
   "metadata": {},
   "source": [
    "Como o resultado do método `describe()` é outro DataFrame, podemos então fazer filtro nele:"
   ]
  },
  {
   "cell_type": "markdown",
   "id": "314d9362-e09c-4e6a-b24c-b00d5055bbcb",
   "metadata": {},
   "source": [
    "Por exemplo, se quisermos apenas a coluna 'Margem Contrato', podemos fazer filtragem direta"
   ]
  },
  {
   "cell_type": "code",
   "execution_count": 70,
   "id": "84dc6444-8a4a-4867-a23e-f2a5a0671356",
   "metadata": {},
   "outputs": [
    {
     "data": {
      "text/plain": [
       "count      9.000000\n",
       "mean     587.977778\n",
       "std      265.675417\n",
       "min      146.000000\n",
       "25%      542.600000\n",
       "50%      639.000000\n",
       "75%      726.500000\n",
       "max      932.200000\n",
       "Name: Margem Contrato, dtype: float64"
      ]
     },
     "execution_count": 70,
     "metadata": {},
     "output_type": "execute_result"
    }
   ],
   "source": [
    "df_exemplo['Margem Contrato'].describe()"
   ]
  },
  {
   "cell_type": "markdown",
   "id": "e587a207-049c-4816-a47a-61306eaf3b5c",
   "metadata": {},
   "source": [
    "Desta forma obteremos as mesmas descrições mas apenas da coluna interessada."
   ]
  },
  {
   "cell_type": "markdown",
   "id": "c619d29a-0e6c-4979-8ab1-89b4e358cb27",
   "metadata": {},
   "source": [
    "Também podemos selecionar apenas as estatísticas desejadas utilizando o `.loc`"
   ]
  },
  {
   "cell_type": "code",
   "execution_count": 71,
   "id": "a10fd721-bf77-4ca8-8c71-f6f172fb8f12",
   "metadata": {},
   "outputs": [
    {
     "data": {
      "text/html": [
       "<div>\n",
       "<style scoped>\n",
       "    .dataframe tbody tr th:only-of-type {\n",
       "        vertical-align: middle;\n",
       "    }\n",
       "\n",
       "    .dataframe tbody tr th {\n",
       "        vertical-align: top;\n",
       "    }\n",
       "\n",
       "    .dataframe thead th {\n",
       "        text-align: right;\n",
       "    }\n",
       "</style>\n",
       "<table border=\"1\" class=\"dataframe\">\n",
       "  <thead>\n",
       "    <tr style=\"text-align: right;\">\n",
       "      <th></th>\n",
       "      <th>Id Contrato</th>\n",
       "      <th>Valor Contrato</th>\n",
       "      <th>Margem Contrato</th>\n",
       "      <th>Preço Mínimo Distribuição</th>\n",
       "      <th>Preço Máximo Distribuição</th>\n",
       "    </tr>\n",
       "  </thead>\n",
       "  <tbody>\n",
       "    <tr>\n",
       "      <th>min</th>\n",
       "      <td>1.0</td>\n",
       "      <td>1466.000000</td>\n",
       "      <td>146.000000</td>\n",
       "      <td>43.980000</td>\n",
       "      <td>117.280000</td>\n",
       "    </tr>\n",
       "    <tr>\n",
       "      <th>mean</th>\n",
       "      <td>5.5</td>\n",
       "      <td>5863.111111</td>\n",
       "      <td>587.977778</td>\n",
       "      <td>180.253333</td>\n",
       "      <td>473.875556</td>\n",
       "    </tr>\n",
       "    <tr>\n",
       "      <th>max</th>\n",
       "      <td>10.0</td>\n",
       "      <td>9322.000000</td>\n",
       "      <td>932.200000</td>\n",
       "      <td>279.660000</td>\n",
       "      <td>745.760000</td>\n",
       "    </tr>\n",
       "  </tbody>\n",
       "</table>\n",
       "</div>"
      ],
      "text/plain": [
       "      Id Contrato  Valor Contrato  Margem Contrato  Preço Mínimo Distribuição  \\\n",
       "min           1.0     1466.000000       146.000000                  43.980000   \n",
       "mean          5.5     5863.111111       587.977778                 180.253333   \n",
       "max          10.0     9322.000000       932.200000                 279.660000   \n",
       "\n",
       "      Preço Máximo Distribuição  \n",
       "min                  117.280000  \n",
       "mean                 473.875556  \n",
       "max                  745.760000  "
      ]
     },
     "execution_count": 71,
     "metadata": {},
     "output_type": "execute_result"
    }
   ],
   "source": [
    "df_exemplo.describe().loc[['min','mean','max']]"
   ]
  },
  {
   "cell_type": "markdown",
   "id": "60c61d37-fa28-4385-adc8-10f01cab1059",
   "metadata": {},
   "source": [
    "Semelhante, também podemos selecionar apenas as estatísticas desejadas das colunas desejadas com  `.loc`"
   ]
  },
  {
   "cell_type": "code",
   "execution_count": 72,
   "id": "b1689699-1a5c-4bae-a3ca-a42e8387f58e",
   "metadata": {},
   "outputs": [
    {
     "data": {
      "text/html": [
       "<div>\n",
       "<style scoped>\n",
       "    .dataframe tbody tr th:only-of-type {\n",
       "        vertical-align: middle;\n",
       "    }\n",
       "\n",
       "    .dataframe tbody tr th {\n",
       "        vertical-align: top;\n",
       "    }\n",
       "\n",
       "    .dataframe thead th {\n",
       "        text-align: right;\n",
       "    }\n",
       "</style>\n",
       "<table border=\"1\" class=\"dataframe\">\n",
       "  <thead>\n",
       "    <tr style=\"text-align: right;\">\n",
       "      <th></th>\n",
       "      <th>Margem Contrato</th>\n",
       "      <th>Valor Contrato</th>\n",
       "    </tr>\n",
       "  </thead>\n",
       "  <tbody>\n",
       "    <tr>\n",
       "      <th>min</th>\n",
       "      <td>146.000000</td>\n",
       "      <td>1466.000000</td>\n",
       "    </tr>\n",
       "    <tr>\n",
       "      <th>mean</th>\n",
       "      <td>587.977778</td>\n",
       "      <td>5863.111111</td>\n",
       "    </tr>\n",
       "    <tr>\n",
       "      <th>max</th>\n",
       "      <td>932.200000</td>\n",
       "      <td>9322.000000</td>\n",
       "    </tr>\n",
       "  </tbody>\n",
       "</table>\n",
       "</div>"
      ],
      "text/plain": [
       "      Margem Contrato  Valor Contrato\n",
       "min        146.000000     1466.000000\n",
       "mean       587.977778     5863.111111\n",
       "max        932.200000     9322.000000"
      ]
     },
     "execution_count": 72,
     "metadata": {},
     "output_type": "execute_result"
    }
   ],
   "source": [
    "df_exemplo.describe().loc[['min','mean','max'],['Margem Contrato','Valor Contrato']]"
   ]
  },
  {
   "cell_type": "markdown",
   "id": "ef33996d-487f-44f9-b22f-00bf53801203",
   "metadata": {},
   "source": [
    "As estatísticas `std`,`mean`,`min`,`max` e todas as outras do método `describe()` podem ser computadas individualmentes."
   ]
  },
  {
   "cell_type": "markdown",
   "id": "73fedf30-c683-40a6-b5b7-5dd7a420b8be",
   "metadata": {},
   "source": [
    "Se quisermos saber qual o preço mínimo de distribuição?"
   ]
  },
  {
   "cell_type": "code",
   "execution_count": 73,
   "id": "e50b9fbb-6f45-4f15-b779-8edef4108623",
   "metadata": {},
   "outputs": [
    {
     "data": {
      "text/plain": [
       "43.98"
      ]
     },
     "execution_count": 73,
     "metadata": {},
     "output_type": "execute_result"
    }
   ],
   "source": [
    "df_exemplo['Preço Mínimo Distribuição'].min()"
   ]
  },
  {
   "cell_type": "markdown",
   "id": "88251b17-3951-44b2-b802-ad6224f07e06",
   "metadata": {},
   "source": [
    "Se quis quisermos saber qual o desvio padrão do valor do contrato?"
   ]
  },
  {
   "cell_type": "code",
   "execution_count": 74,
   "id": "57e52b17-7beb-4246-8c12-f097dfb0ae6c",
   "metadata": {},
   "outputs": [
    {
     "data": {
      "text/plain": [
       "2649.7419423617675"
      ]
     },
     "execution_count": 74,
     "metadata": {},
     "output_type": "execute_result"
    }
   ],
   "source": [
    "df_exemplo['Valor Contrato'].std()"
   ]
  },
  {
   "cell_type": "markdown",
   "id": "5000c7cd-384c-42f7-89ae-8cb902d21243",
   "metadata": {},
   "source": [
    "Outro método útil para aferir estatísticas básicas do seu DataFrame é a contagem de frequência."
   ]
  },
  {
   "cell_type": "markdown",
   "id": "2f7f18b2-775d-4727-a8ca-c0314bcf54f9",
   "metadata": {},
   "source": [
    "Para isso o método `value_counts()` conta a frequência dos valores de uma dada variável da seguinte maneira:"
   ]
  },
  {
   "cell_type": "code",
   "execution_count": 75,
   "id": "9920a26c-bac4-4904-b589-c79ba7076246",
   "metadata": {},
   "outputs": [
    {
     "data": {
      "text/plain": [
       "UF\n",
       "SP    25691\n",
       "MG    12978\n",
       "RJ    11459\n",
       "PR     7484\n",
       "BA     6380\n",
       "RS     5019\n",
       "SC     4321\n",
       "GO     4207\n",
       "DF     4172\n",
       "CE     2797\n",
       "PE     2717\n",
       "ES     2170\n",
       "PA     1996\n",
       "MA     1867\n",
       "MT     1819\n",
       "AM     1394\n",
       "PB     1301\n",
       "PI     1269\n",
       "MS     1226\n",
       "RN     1106\n",
       "AL      932\n",
       "SE      780\n",
       "RO      592\n",
       "TO      504\n",
       "AP      318\n",
       "AC      278\n",
       "RR      241\n",
       "Name: count, dtype: int64"
      ]
     },
     "execution_count": 75,
     "metadata": {},
     "output_type": "execute_result"
    }
   ],
   "source": [
    "## Retorna em ordem decrescente uma Series com a quantidade de linhas (No nosso caso reclamações do Consumidor Gov) para cada UF\n",
    "df_data['UF'].value_counts() "
   ]
  },
  {
   "cell_type": "markdown",
   "id": "79662df0-f590-4c2d-8ac7-cd73aa48e807",
   "metadata": {},
   "source": [
    "Caso seja necessário um DataFrame, podemos utilizar o método `to_frame()` para esse objetivo"
   ]
  },
  {
   "cell_type": "code",
   "execution_count": 76,
   "id": "35711794-cac8-4d34-878e-3108b04d7700",
   "metadata": {
    "scrolled": true
   },
   "outputs": [
    {
     "data": {
      "text/html": [
       "<div>\n",
       "<style scoped>\n",
       "    .dataframe tbody tr th:only-of-type {\n",
       "        vertical-align: middle;\n",
       "    }\n",
       "\n",
       "    .dataframe tbody tr th {\n",
       "        vertical-align: top;\n",
       "    }\n",
       "\n",
       "    .dataframe thead th {\n",
       "        text-align: right;\n",
       "    }\n",
       "</style>\n",
       "<table border=\"1\" class=\"dataframe\">\n",
       "  <thead>\n",
       "    <tr style=\"text-align: right;\">\n",
       "      <th></th>\n",
       "      <th>count</th>\n",
       "    </tr>\n",
       "    <tr>\n",
       "      <th>UF</th>\n",
       "      <th></th>\n",
       "    </tr>\n",
       "  </thead>\n",
       "  <tbody>\n",
       "    <tr>\n",
       "      <th>SP</th>\n",
       "      <td>25691</td>\n",
       "    </tr>\n",
       "    <tr>\n",
       "      <th>MG</th>\n",
       "      <td>12978</td>\n",
       "    </tr>\n",
       "    <tr>\n",
       "      <th>RJ</th>\n",
       "      <td>11459</td>\n",
       "    </tr>\n",
       "    <tr>\n",
       "      <th>PR</th>\n",
       "      <td>7484</td>\n",
       "    </tr>\n",
       "    <tr>\n",
       "      <th>BA</th>\n",
       "      <td>6380</td>\n",
       "    </tr>\n",
       "    <tr>\n",
       "      <th>RS</th>\n",
       "      <td>5019</td>\n",
       "    </tr>\n",
       "    <tr>\n",
       "      <th>SC</th>\n",
       "      <td>4321</td>\n",
       "    </tr>\n",
       "    <tr>\n",
       "      <th>GO</th>\n",
       "      <td>4207</td>\n",
       "    </tr>\n",
       "    <tr>\n",
       "      <th>DF</th>\n",
       "      <td>4172</td>\n",
       "    </tr>\n",
       "    <tr>\n",
       "      <th>CE</th>\n",
       "      <td>2797</td>\n",
       "    </tr>\n",
       "    <tr>\n",
       "      <th>PE</th>\n",
       "      <td>2717</td>\n",
       "    </tr>\n",
       "    <tr>\n",
       "      <th>ES</th>\n",
       "      <td>2170</td>\n",
       "    </tr>\n",
       "    <tr>\n",
       "      <th>PA</th>\n",
       "      <td>1996</td>\n",
       "    </tr>\n",
       "    <tr>\n",
       "      <th>MA</th>\n",
       "      <td>1867</td>\n",
       "    </tr>\n",
       "    <tr>\n",
       "      <th>MT</th>\n",
       "      <td>1819</td>\n",
       "    </tr>\n",
       "    <tr>\n",
       "      <th>AM</th>\n",
       "      <td>1394</td>\n",
       "    </tr>\n",
       "    <tr>\n",
       "      <th>PB</th>\n",
       "      <td>1301</td>\n",
       "    </tr>\n",
       "    <tr>\n",
       "      <th>PI</th>\n",
       "      <td>1269</td>\n",
       "    </tr>\n",
       "    <tr>\n",
       "      <th>MS</th>\n",
       "      <td>1226</td>\n",
       "    </tr>\n",
       "    <tr>\n",
       "      <th>RN</th>\n",
       "      <td>1106</td>\n",
       "    </tr>\n",
       "    <tr>\n",
       "      <th>AL</th>\n",
       "      <td>932</td>\n",
       "    </tr>\n",
       "    <tr>\n",
       "      <th>SE</th>\n",
       "      <td>780</td>\n",
       "    </tr>\n",
       "    <tr>\n",
       "      <th>RO</th>\n",
       "      <td>592</td>\n",
       "    </tr>\n",
       "    <tr>\n",
       "      <th>TO</th>\n",
       "      <td>504</td>\n",
       "    </tr>\n",
       "    <tr>\n",
       "      <th>AP</th>\n",
       "      <td>318</td>\n",
       "    </tr>\n",
       "    <tr>\n",
       "      <th>AC</th>\n",
       "      <td>278</td>\n",
       "    </tr>\n",
       "    <tr>\n",
       "      <th>RR</th>\n",
       "      <td>241</td>\n",
       "    </tr>\n",
       "  </tbody>\n",
       "</table>\n",
       "</div>"
      ],
      "text/plain": [
       "    count\n",
       "UF       \n",
       "SP  25691\n",
       "MG  12978\n",
       "RJ  11459\n",
       "PR   7484\n",
       "BA   6380\n",
       "RS   5019\n",
       "SC   4321\n",
       "GO   4207\n",
       "DF   4172\n",
       "CE   2797\n",
       "PE   2717\n",
       "ES   2170\n",
       "PA   1996\n",
       "MA   1867\n",
       "MT   1819\n",
       "AM   1394\n",
       "PB   1301\n",
       "PI   1269\n",
       "MS   1226\n",
       "RN   1106\n",
       "AL    932\n",
       "SE    780\n",
       "RO    592\n",
       "TO    504\n",
       "AP    318\n",
       "AC    278\n",
       "RR    241"
      ]
     },
     "execution_count": 76,
     "metadata": {},
     "output_type": "execute_result"
    }
   ],
   "source": [
    "## Convertendo a Series para DataFrame com o método to_frame()\n",
    "df_data['UF'].value_counts().to_frame()"
   ]
  },
  {
   "cell_type": "markdown",
   "id": "4b1c3ae5-e441-43a3-a11b-4eab01477a3a",
   "metadata": {},
   "source": [
    "No nosso caso a UF com mais reclamações é **São Paulo** e a com menos reclamações é **Roraima**."
   ]
  }
 ],
 "metadata": {
  "kernelspec": {
   "display_name": "Python 3 (ipykernel)",
   "language": "python",
   "name": "python3"
  },
  "language_info": {
   "codemirror_mode": {
    "name": "ipython",
    "version": 3
   },
   "file_extension": ".py",
   "mimetype": "text/x-python",
   "name": "python",
   "nbconvert_exporter": "python",
   "pygments_lexer": "ipython3",
   "version": "3.12.7"
  }
 },
 "nbformat": 4,
 "nbformat_minor": 5
}
